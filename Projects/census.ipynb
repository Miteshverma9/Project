{
 "cells": [
  {
   "cell_type": "code",
   "execution_count": 174,
   "id": "66635fc8",
   "metadata": {},
   "outputs": [],
   "source": [
    "import pandas as pd\n",
    "import numpy as np\n",
    "import seaborn as sns\n",
    "import matplotlib.pyplot as plt\n",
    "%matplotlib inline\n",
    "\n",
    "from sklearn.preprocessing import LabelEncoder,StandardScaler\n",
    "from sklearn.feature_selection import SelectKBest,f_classif\n",
    "from sklearn.model_selection import train_test_split,GridSearchCV\n",
    "from imblearn.over_sampling import SMOTE\n",
    "from sklearn.metrics import accuracy_score,classification_report,confusion_matrix,roc_auc_score,roc_curve,plot_roc_curve\n",
    "from sklearn.neighbors import KNeighborsClassifier\n",
    "from sklearn.linear_model import LogisticRegression\n",
    "from sklearn.ensemble import AdaBoostClassifier,RandomForestClassifier,BaggingClassifier\n",
    "\n",
    "from collections import Counter\n",
    "import pickle\n",
    "import warnings\n",
    "warnings.filterwarnings('ignore')"
   ]
  },
  {
   "cell_type": "code",
   "execution_count": 97,
   "id": "3a2130a6",
   "metadata": {
    "scrolled": true
   },
   "outputs": [
    {
     "data": {
      "text/html": [
       "<div>\n",
       "<style scoped>\n",
       "    .dataframe tbody tr th:only-of-type {\n",
       "        vertical-align: middle;\n",
       "    }\n",
       "\n",
       "    .dataframe tbody tr th {\n",
       "        vertical-align: top;\n",
       "    }\n",
       "\n",
       "    .dataframe thead th {\n",
       "        text-align: right;\n",
       "    }\n",
       "</style>\n",
       "<table border=\"1\" class=\"dataframe\">\n",
       "  <thead>\n",
       "    <tr style=\"text-align: right;\">\n",
       "      <th></th>\n",
       "      <th>Age</th>\n",
       "      <th>Workclass</th>\n",
       "      <th>Fnlwgt</th>\n",
       "      <th>Education</th>\n",
       "      <th>Education_num</th>\n",
       "      <th>Marital_status</th>\n",
       "      <th>Occupation</th>\n",
       "      <th>Relationship</th>\n",
       "      <th>Race</th>\n",
       "      <th>Sex</th>\n",
       "      <th>Capital_gain</th>\n",
       "      <th>Capital_loss</th>\n",
       "      <th>Hours_per_week</th>\n",
       "      <th>Native_country</th>\n",
       "      <th>Income</th>\n",
       "    </tr>\n",
       "  </thead>\n",
       "  <tbody>\n",
       "    <tr>\n",
       "      <th>0</th>\n",
       "      <td>50</td>\n",
       "      <td>Self-emp-not-inc</td>\n",
       "      <td>83311</td>\n",
       "      <td>Bachelors</td>\n",
       "      <td>13</td>\n",
       "      <td>Married-civ-spouse</td>\n",
       "      <td>Exec-managerial</td>\n",
       "      <td>Husband</td>\n",
       "      <td>White</td>\n",
       "      <td>Male</td>\n",
       "      <td>0</td>\n",
       "      <td>0</td>\n",
       "      <td>13</td>\n",
       "      <td>United-States</td>\n",
       "      <td>&lt;=50K</td>\n",
       "    </tr>\n",
       "    <tr>\n",
       "      <th>1</th>\n",
       "      <td>38</td>\n",
       "      <td>Private</td>\n",
       "      <td>215646</td>\n",
       "      <td>HS-grad</td>\n",
       "      <td>9</td>\n",
       "      <td>Divorced</td>\n",
       "      <td>Handlers-cleaners</td>\n",
       "      <td>Not-in-family</td>\n",
       "      <td>White</td>\n",
       "      <td>Male</td>\n",
       "      <td>0</td>\n",
       "      <td>0</td>\n",
       "      <td>40</td>\n",
       "      <td>United-States</td>\n",
       "      <td>&lt;=50K</td>\n",
       "    </tr>\n",
       "    <tr>\n",
       "      <th>2</th>\n",
       "      <td>53</td>\n",
       "      <td>Private</td>\n",
       "      <td>234721</td>\n",
       "      <td>11th</td>\n",
       "      <td>7</td>\n",
       "      <td>Married-civ-spouse</td>\n",
       "      <td>Handlers-cleaners</td>\n",
       "      <td>Husband</td>\n",
       "      <td>Black</td>\n",
       "      <td>Male</td>\n",
       "      <td>0</td>\n",
       "      <td>0</td>\n",
       "      <td>40</td>\n",
       "      <td>United-States</td>\n",
       "      <td>&lt;=50K</td>\n",
       "    </tr>\n",
       "    <tr>\n",
       "      <th>3</th>\n",
       "      <td>28</td>\n",
       "      <td>Private</td>\n",
       "      <td>338409</td>\n",
       "      <td>Bachelors</td>\n",
       "      <td>13</td>\n",
       "      <td>Married-civ-spouse</td>\n",
       "      <td>Prof-specialty</td>\n",
       "      <td>Wife</td>\n",
       "      <td>Black</td>\n",
       "      <td>Female</td>\n",
       "      <td>0</td>\n",
       "      <td>0</td>\n",
       "      <td>40</td>\n",
       "      <td>Cuba</td>\n",
       "      <td>&lt;=50K</td>\n",
       "    </tr>\n",
       "    <tr>\n",
       "      <th>4</th>\n",
       "      <td>37</td>\n",
       "      <td>Private</td>\n",
       "      <td>284582</td>\n",
       "      <td>Masters</td>\n",
       "      <td>14</td>\n",
       "      <td>Married-civ-spouse</td>\n",
       "      <td>Exec-managerial</td>\n",
       "      <td>Wife</td>\n",
       "      <td>White</td>\n",
       "      <td>Female</td>\n",
       "      <td>0</td>\n",
       "      <td>0</td>\n",
       "      <td>40</td>\n",
       "      <td>United-States</td>\n",
       "      <td>&lt;=50K</td>\n",
       "    </tr>\n",
       "  </tbody>\n",
       "</table>\n",
       "</div>"
      ],
      "text/plain": [
       "   Age          Workclass  Fnlwgt   Education  Education_num  \\\n",
       "0   50   Self-emp-not-inc   83311   Bachelors             13   \n",
       "1   38            Private  215646     HS-grad              9   \n",
       "2   53            Private  234721        11th              7   \n",
       "3   28            Private  338409   Bachelors             13   \n",
       "4   37            Private  284582     Masters             14   \n",
       "\n",
       "        Marital_status          Occupation    Relationship    Race      Sex  \\\n",
       "0   Married-civ-spouse     Exec-managerial         Husband   White     Male   \n",
       "1             Divorced   Handlers-cleaners   Not-in-family   White     Male   \n",
       "2   Married-civ-spouse   Handlers-cleaners         Husband   Black     Male   \n",
       "3   Married-civ-spouse      Prof-specialty            Wife   Black   Female   \n",
       "4   Married-civ-spouse     Exec-managerial            Wife   White   Female   \n",
       "\n",
       "   Capital_gain  Capital_loss  Hours_per_week  Native_country  Income  \n",
       "0             0             0              13   United-States   <=50K  \n",
       "1             0             0              40   United-States   <=50K  \n",
       "2             0             0              40   United-States   <=50K  \n",
       "3             0             0              40            Cuba   <=50K  \n",
       "4             0             0              40   United-States   <=50K  "
      ]
     },
     "execution_count": 97,
     "metadata": {},
     "output_type": "execute_result"
    }
   ],
   "source": [
    "census = pd.read_csv('https://raw.githubusercontent.com/dsrscientist/dataset1/master/census_income.csv')\n",
    "census.head()"
   ]
  },
  {
   "cell_type": "markdown",
   "id": "4cb27c0c",
   "metadata": {},
   "source": [
    "## Features:\n",
    "**- Categorical columns :**\n",
    "- Workclass\n",
    "- Education\n",
    "- Marital_status\n",
    "- Occupation\n",
    "- Relationship\n",
    "- Race\n",
    "- Sex\n",
    "- Native_country\n",
    "\n",
    "**- Non-categorical columns:**\n",
    "- Age\n",
    "- Fnlwgt\n",
    "- Education_num\n",
    "- Capital_gain\n",
    "- Capital_loss\n",
    "- Hours_per_week\n",
    "\n",
    "## Target:\n",
    "- Income (Classification problem)"
   ]
  },
  {
   "cell_type": "markdown",
   "id": "55bf77ca",
   "metadata": {},
   "source": [
    "## EDA"
   ]
  },
  {
   "cell_type": "code",
   "execution_count": 99,
   "id": "850a1153",
   "metadata": {},
   "outputs": [
    {
     "data": {
      "text/plain": [
       "(32560, 15)"
      ]
     },
     "execution_count": 99,
     "metadata": {},
     "output_type": "execute_result"
    }
   ],
   "source": [
    "census.shape"
   ]
  },
  {
   "cell_type": "markdown",
   "id": "71f4fea5",
   "metadata": {},
   "source": [
    "Shape of our dataset is 32560, 15"
   ]
  },
  {
   "cell_type": "code",
   "execution_count": 66,
   "id": "91726c84",
   "metadata": {},
   "outputs": [
    {
     "data": {
      "text/html": [
       "<div>\n",
       "<style scoped>\n",
       "    .dataframe tbody tr th:only-of-type {\n",
       "        vertical-align: middle;\n",
       "    }\n",
       "\n",
       "    .dataframe tbody tr th {\n",
       "        vertical-align: top;\n",
       "    }\n",
       "\n",
       "    .dataframe thead th {\n",
       "        text-align: right;\n",
       "    }\n",
       "</style>\n",
       "<table border=\"1\" class=\"dataframe\">\n",
       "  <thead>\n",
       "    <tr style=\"text-align: right;\">\n",
       "      <th></th>\n",
       "      <th>Age</th>\n",
       "      <th>Fnlwgt</th>\n",
       "      <th>Education_num</th>\n",
       "      <th>Capital_gain</th>\n",
       "      <th>Capital_loss</th>\n",
       "      <th>Hours_per_week</th>\n",
       "    </tr>\n",
       "  </thead>\n",
       "  <tbody>\n",
       "    <tr>\n",
       "      <th>count</th>\n",
       "      <td>32560.000000</td>\n",
       "      <td>3.256000e+04</td>\n",
       "      <td>32560.000000</td>\n",
       "      <td>32560.000000</td>\n",
       "      <td>32560.000000</td>\n",
       "      <td>32560.000000</td>\n",
       "    </tr>\n",
       "    <tr>\n",
       "      <th>mean</th>\n",
       "      <td>38.581634</td>\n",
       "      <td>1.897818e+05</td>\n",
       "      <td>10.080590</td>\n",
       "      <td>1077.615172</td>\n",
       "      <td>87.306511</td>\n",
       "      <td>40.437469</td>\n",
       "    </tr>\n",
       "    <tr>\n",
       "      <th>std</th>\n",
       "      <td>13.640642</td>\n",
       "      <td>1.055498e+05</td>\n",
       "      <td>2.572709</td>\n",
       "      <td>7385.402999</td>\n",
       "      <td>402.966116</td>\n",
       "      <td>12.347618</td>\n",
       "    </tr>\n",
       "    <tr>\n",
       "      <th>min</th>\n",
       "      <td>17.000000</td>\n",
       "      <td>1.228500e+04</td>\n",
       "      <td>1.000000</td>\n",
       "      <td>0.000000</td>\n",
       "      <td>0.000000</td>\n",
       "      <td>1.000000</td>\n",
       "    </tr>\n",
       "    <tr>\n",
       "      <th>25%</th>\n",
       "      <td>28.000000</td>\n",
       "      <td>1.178315e+05</td>\n",
       "      <td>9.000000</td>\n",
       "      <td>0.000000</td>\n",
       "      <td>0.000000</td>\n",
       "      <td>40.000000</td>\n",
       "    </tr>\n",
       "    <tr>\n",
       "      <th>50%</th>\n",
       "      <td>37.000000</td>\n",
       "      <td>1.783630e+05</td>\n",
       "      <td>10.000000</td>\n",
       "      <td>0.000000</td>\n",
       "      <td>0.000000</td>\n",
       "      <td>40.000000</td>\n",
       "    </tr>\n",
       "    <tr>\n",
       "      <th>75%</th>\n",
       "      <td>48.000000</td>\n",
       "      <td>2.370545e+05</td>\n",
       "      <td>12.000000</td>\n",
       "      <td>0.000000</td>\n",
       "      <td>0.000000</td>\n",
       "      <td>45.000000</td>\n",
       "    </tr>\n",
       "    <tr>\n",
       "      <th>max</th>\n",
       "      <td>90.000000</td>\n",
       "      <td>1.484705e+06</td>\n",
       "      <td>16.000000</td>\n",
       "      <td>99999.000000</td>\n",
       "      <td>4356.000000</td>\n",
       "      <td>99.000000</td>\n",
       "    </tr>\n",
       "  </tbody>\n",
       "</table>\n",
       "</div>"
      ],
      "text/plain": [
       "                Age        Fnlwgt  Education_num  Capital_gain  Capital_loss  \\\n",
       "count  32560.000000  3.256000e+04   32560.000000  32560.000000  32560.000000   \n",
       "mean      38.581634  1.897818e+05      10.080590   1077.615172     87.306511   \n",
       "std       13.640642  1.055498e+05       2.572709   7385.402999    402.966116   \n",
       "min       17.000000  1.228500e+04       1.000000      0.000000      0.000000   \n",
       "25%       28.000000  1.178315e+05       9.000000      0.000000      0.000000   \n",
       "50%       37.000000  1.783630e+05      10.000000      0.000000      0.000000   \n",
       "75%       48.000000  2.370545e+05      12.000000      0.000000      0.000000   \n",
       "max       90.000000  1.484705e+06      16.000000  99999.000000   4356.000000   \n",
       "\n",
       "       Hours_per_week  \n",
       "count    32560.000000  \n",
       "mean        40.437469  \n",
       "std         12.347618  \n",
       "min          1.000000  \n",
       "25%         40.000000  \n",
       "50%         40.000000  \n",
       "75%         45.000000  \n",
       "max         99.000000  "
      ]
     },
     "execution_count": 66,
     "metadata": {},
     "output_type": "execute_result"
    }
   ],
   "source": [
    "census.describe()"
   ]
  },
  {
   "cell_type": "markdown",
   "id": "4de398ec",
   "metadata": {},
   "source": [
    "**- Description of dataset.\n",
    "(Showing description only for non-categorical columns)**\n",
    "- Count.\n",
    "- Mean.\n",
    "- Standard deviation.\n",
    "- Mininum\n",
    "- 1st Quantile (25%)\n",
    "- 2nd Quantile (50%)\n",
    "- 3rd Quantile (75%)\n",
    "- Maximum."
   ]
  },
  {
   "cell_type": "code",
   "execution_count": 8,
   "id": "6efc0661",
   "metadata": {},
   "outputs": [
    {
     "name": "stdout",
     "output_type": "stream",
     "text": [
      "<class 'pandas.core.frame.DataFrame'>\n",
      "RangeIndex: 32560 entries, 0 to 32559\n",
      "Data columns (total 15 columns):\n",
      " #   Column          Non-Null Count  Dtype \n",
      "---  ------          --------------  ----- \n",
      " 0   Age             32560 non-null  int64 \n",
      " 1   Workclass       32560 non-null  object\n",
      " 2   Fnlwgt          32560 non-null  int64 \n",
      " 3   Education       32560 non-null  object\n",
      " 4   Education_num   32560 non-null  int64 \n",
      " 5   Marital_status  32560 non-null  object\n",
      " 6   Occupation      32560 non-null  object\n",
      " 7   Relationship    32560 non-null  object\n",
      " 8   Race            32560 non-null  object\n",
      " 9   Sex             32560 non-null  object\n",
      " 10  Capital_gain    32560 non-null  int64 \n",
      " 11  Capital_loss    32560 non-null  int64 \n",
      " 12  Hours_per_week  32560 non-null  int64 \n",
      " 13  Native_country  32560 non-null  object\n",
      " 14  Income          32560 non-null  object\n",
      "dtypes: int64(6), object(9)\n",
      "memory usage: 3.7+ MB\n"
     ]
    }
   ],
   "source": [
    "census.info()"
   ]
  },
  {
   "cell_type": "markdown",
   "id": "27ddd31e",
   "metadata": {},
   "source": [
    "**- Information of dataset.**\n",
    "- RangeIndex: 0 to 32559\n",
    "- Data columns: 15\n",
    "- dtypes: int64(6), object(9)\n",
    "- There are no nulls present in our dataset."
   ]
  },
  {
   "cell_type": "code",
   "execution_count": 9,
   "id": "7fd3f145",
   "metadata": {},
   "outputs": [
    {
     "data": {
      "text/plain": [
       "Age               0\n",
       "Workclass         0\n",
       "Fnlwgt            0\n",
       "Education         0\n",
       "Education_num     0\n",
       "Marital_status    0\n",
       "Occupation        0\n",
       "Relationship      0\n",
       "Race              0\n",
       "Sex               0\n",
       "Capital_gain      0\n",
       "Capital_loss      0\n",
       "Hours_per_week    0\n",
       "Native_country    0\n",
       "Income            0\n",
       "dtype: int64"
      ]
     },
     "execution_count": 9,
     "metadata": {},
     "output_type": "execute_result"
    }
   ],
   "source": [
    "census.isna().sum()"
   ]
  },
  {
   "cell_type": "markdown",
   "id": "6b1d8247",
   "metadata": {},
   "source": [
    "There are no null values in any of the columns, so we can proceed to the further step."
   ]
  },
  {
   "cell_type": "markdown",
   "id": "cfea09ec",
   "metadata": {},
   "source": [
    "## Visualisation."
   ]
  },
  {
   "cell_type": "markdown",
   "id": "24361586",
   "metadata": {},
   "source": [
    "**- Bivariate Analysis.**"
   ]
  },
  {
   "cell_type": "code",
   "execution_count": 11,
   "id": "e5ebf775",
   "metadata": {},
   "outputs": [],
   "source": [
    "def plot(x,y,data):\n",
    "    plt.figure()\n",
    "    plt.scatter(x,y,data=census)\n",
    "    plt.xlabel(x)\n",
    "    plt.ylabel(y)\n",
    "    print('Scatterpot between',x,'and',y)\n",
    "    plt.show()"
   ]
  },
  {
   "cell_type": "code",
   "execution_count": 13,
   "id": "8a9c1692",
   "metadata": {},
   "outputs": [
    {
     "name": "stdout",
     "output_type": "stream",
     "text": [
      "Scatterpot between Income and Workclass\n"
     ]
    },
    {
     "data": {
      "image/png": "[encoded data removed]",
      "text/plain": [
       "<Figure size 432x288 with 1 Axes>"
      ]
     },
     "metadata": {
      "needs_background": "light"
     },
     "output_type": "display_data"
    }
   ],
   "source": [
    "plot('Income','Workclass',data = census)"
   ]
  },
  {
   "cell_type": "markdown",
   "id": "cf195730",
   "metadata": {},
   "source": [
    "Workclass that have greater than 50k income.\n",
    "- Self emp\n",
    "- Private\n",
    "- State gov\n",
    "- Federal gov\n",
    "- Local gov"
   ]
  },
  {
   "cell_type": "code",
   "execution_count": 23,
   "id": "2f68ae87",
   "metadata": {},
   "outputs": [
    {
     "name": "stdout",
     "output_type": "stream",
     "text": [
      "Scatterpot between Income and Education\n"
     ]
    },
    {
     "data": {
      "image/png": "[encoded data removed]",
      "text/plain": [
       "<Figure size 432x288 with 1 Axes>"
      ]
     },
     "metadata": {
      "needs_background": "light"
     },
     "output_type": "display_data"
    }
   ],
   "source": [
    "plot('Income','Education',data = census)"
   ]
  },
  {
   "cell_type": "markdown",
   "id": "9cb6bb7a",
   "metadata": {},
   "source": [
    "Only the education level of Preschool, cannot reach to more the 50k income."
   ]
  },
  {
   "cell_type": "code",
   "execution_count": 27,
   "id": "91cb0825",
   "metadata": {},
   "outputs": [
    {
     "name": "stdout",
     "output_type": "stream",
     "text": [
      "Scatterpot between Income and Capital_gain\n"
     ]
    },
    {
     "data": {
      "image/png": "[encoded data removed]",
      "text/plain": [
       "<Figure size 432x288 with 1 Axes>"
      ]
     },
     "metadata": {
      "needs_background": "light"
     },
     "output_type": "display_data"
    }
   ],
   "source": [
    "plot('Income','Capital_gain',data=census)"
   ]
  },
  {
   "cell_type": "markdown",
   "id": "8707a95a",
   "metadata": {},
   "source": [
    "People whose captial gain is less than or equal to 40000, cannot reach to 50k of income."
   ]
  },
  {
   "cell_type": "code",
   "execution_count": 28,
   "id": "626b4844",
   "metadata": {},
   "outputs": [
    {
     "name": "stdout",
     "output_type": "stream",
     "text": [
      "Scatterpot between Income and Capital_loss\n"
     ]
    },
    {
     "data": {
      "image/png": "[encoded data removed]",
      "text/plain": [
       "<Figure size 432x288 with 1 Axes>"
      ]
     },
     "metadata": {
      "needs_background": "light"
     },
     "output_type": "display_data"
    }
   ],
   "source": [
    "plot('Income','Capital_loss',data=census)"
   ]
  },
  {
   "cell_type": "markdown",
   "id": "95140f3a",
   "metadata": {},
   "source": [
    "When the captial loss is more, income is less."
   ]
  },
  {
   "cell_type": "markdown",
   "id": "bde5df96",
   "metadata": {},
   "source": [
    "**- Columns without relation.**"
   ]
  },
  {
   "cell_type": "code",
   "execution_count": 29,
   "id": "d4957225",
   "metadata": {},
   "outputs": [
    {
     "name": "stdout",
     "output_type": "stream",
     "text": [
      "Scatterpot between Income and Hours_per_week\n"
     ]
    },
    {
     "data": {
      "image/png": "[encoded data removed]",
      "text/plain": [
       "<Figure size 432x288 with 1 Axes>"
      ]
     },
     "metadata": {
      "needs_background": "light"
     },
     "output_type": "display_data"
    }
   ],
   "source": [
    "plot('Income','Hours_per_week',data = census)"
   ]
  },
  {
   "cell_type": "code",
   "execution_count": 30,
   "id": "cf8f1b5c",
   "metadata": {
    "scrolled": true
   },
   "outputs": [
    {
     "name": "stdout",
     "output_type": "stream",
     "text": [
      "Scatterpot between Income and Sex\n"
     ]
    },
    {
     "data": {
      "image/png": "[encoded data removed]",
      "text/plain": [
       "<Figure size 432x288 with 1 Axes>"
      ]
     },
     "metadata": {
      "needs_background": "light"
     },
     "output_type": "display_data"
    }
   ],
   "source": [
    "plot('Income','Sex',data = census)"
   ]
  },
  {
   "cell_type": "code",
   "execution_count": 31,
   "id": "f5c627b0",
   "metadata": {},
   "outputs": [
    {
     "name": "stdout",
     "output_type": "stream",
     "text": [
      "Scatterpot between Income and Relationship\n"
     ]
    },
    {
     "data": {
      "image/png": "[encoded data removed]",
      "text/plain": [
       "<Figure size 432x288 with 1 Axes>"
      ]
     },
     "metadata": {
      "needs_background": "light"
     },
     "output_type": "display_data"
    }
   ],
   "source": [
    "plot('Income','Relationship',data = census)"
   ]
  },
  {
   "cell_type": "code",
   "execution_count": 32,
   "id": "d3b1dadd",
   "metadata": {},
   "outputs": [
    {
     "name": "stdout",
     "output_type": "stream",
     "text": [
      "Scatterpot between Income and Occupation\n"
     ]
    },
    {
     "data": {
      "image/png": "[encoded data removed]",
      "text/plain": [
       "<Figure size 432x288 with 1 Axes>"
      ]
     },
     "metadata": {
      "needs_background": "light"
     },
     "output_type": "display_data"
    }
   ],
   "source": [
    "plot('Income','Occupation',data = census)"
   ]
  },
  {
   "cell_type": "code",
   "execution_count": 33,
   "id": "f5969e82",
   "metadata": {},
   "outputs": [
    {
     "name": "stdout",
     "output_type": "stream",
     "text": [
      "Scatterpot between Income and Race\n"
     ]
    },
    {
     "data": {
      "image/png": "[encoded data removed]",
      "text/plain": [
       "<Figure size 432x288 with 1 Axes>"
      ]
     },
     "metadata": {
      "needs_background": "light"
     },
     "output_type": "display_data"
    }
   ],
   "source": [
    "plot('Income','Race',data = census)"
   ]
  },
  {
   "cell_type": "markdown",
   "id": "b651efb2",
   "metadata": {},
   "source": [
    "**- Univariate Analysis.**"
   ]
  },
  {
   "cell_type": "code",
   "execution_count": 39,
   "id": "2e4be927",
   "metadata": {},
   "outputs": [
    {
     "data": {
      "text/plain": [
       "<AxesSubplot:xlabel='count', ylabel='Race'>"
      ]
     },
     "execution_count": 39,
     "metadata": {},
     "output_type": "execute_result"
    },
    {
     "data": {
      "image/png": "[encoded data removed]",
      "text/plain": [
       "<Figure size 432x288 with 1 Axes>"
      ]
     },
     "metadata": {
      "needs_background": "light"
     },
     "output_type": "display_data"
    }
   ],
   "source": [
    "sns.countplot(y = census['Race'])"
   ]
  },
  {
   "cell_type": "code",
   "execution_count": 38,
   "id": "73cb8e02",
   "metadata": {},
   "outputs": [
    {
     "data": {
      "text/plain": [
       "<AxesSubplot:xlabel='count', ylabel='Education'>"
      ]
     },
     "execution_count": 38,
     "metadata": {},
     "output_type": "execute_result"
    },
    {
     "data": {
      "image/png": "[encoded data removed]",
      "text/plain": [
       "<Figure size 432x288 with 1 Axes>"
      ]
     },
     "metadata": {
      "needs_background": "light"
     },
     "output_type": "display_data"
    }
   ],
   "source": [
    "sns.countplot(y = census['Education'])"
   ]
  },
  {
   "cell_type": "code",
   "execution_count": 40,
   "id": "8ca63949",
   "metadata": {},
   "outputs": [
    {
     "data": {
      "text/plain": [
       "<AxesSubplot:xlabel='count', ylabel='Occupation'>"
      ]
     },
     "execution_count": 40,
     "metadata": {},
     "output_type": "execute_result"
    },
    {
     "data": {
      "image/png": "[encoded data removed]",
      "text/plain": [
       "<Figure size 432x288 with 1 Axes>"
      ]
     },
     "metadata": {
      "needs_background": "light"
     },
     "output_type": "display_data"
    }
   ],
   "source": [
    "sns.countplot(y = census['Occupation'])"
   ]
  },
  {
   "cell_type": "code",
   "execution_count": 41,
   "id": "2bd27e13",
   "metadata": {},
   "outputs": [
    {
     "data": {
      "text/plain": [
       "<AxesSubplot:xlabel='count', ylabel='Marital_status'>"
      ]
     },
     "execution_count": 41,
     "metadata": {},
     "output_type": "execute_result"
    },
    {
     "data": {
      "image/png": "[encoded data removed]",
      "text/plain": [
       "<Figure size 432x288 with 1 Axes>"
      ]
     },
     "metadata": {
      "needs_background": "light"
     },
     "output_type": "display_data"
    }
   ],
   "source": [
    "sns.countplot(y = census['Marital_status'])"
   ]
  },
  {
   "cell_type": "code",
   "execution_count": 43,
   "id": "e7578f46",
   "metadata": {},
   "outputs": [
    {
     "data": {
      "text/plain": [
       "<AxesSubplot:xlabel='count', ylabel='Workclass'>"
      ]
     },
     "execution_count": 43,
     "metadata": {},
     "output_type": "execute_result"
    },
    {
     "data": {
      "image/png": "[encoded data removed]",
      "text/plain": [
       "<Figure size 432x288 with 1 Axes>"
      ]
     },
     "metadata": {
      "needs_background": "light"
     },
     "output_type": "display_data"
    }
   ],
   "source": [
    "sns.countplot(y = census['Workclass'])"
   ]
  },
  {
   "cell_type": "markdown",
   "id": "12245ea3",
   "metadata": {},
   "source": [
    "## Encoding"
   ]
  },
  {
   "cell_type": "code",
   "execution_count": 100,
   "id": "833716da",
   "metadata": {},
   "outputs": [],
   "source": [
    "lb = LabelEncoder()\n",
    "census['Workclass'] = lb.fit_transform(census['Workclass'])\n",
    "census['Education'] = lb.fit_transform(census['Education'])\n",
    "census['Marital_status'] = lb.fit_transform(census['Marital_status'])\n",
    "census['Occupation'] = lb.fit_transform(census['Occupation'])\n",
    "census['Relationship'] = lb.fit_transform(census['Relationship'])\n",
    "census['Race'] = lb.fit_transform(census['Race'])\n",
    "census['Sex'] = lb.fit_transform(census['Sex'])\n",
    "census['Native_country'] = lb.fit_transform(census['Native_country'])"
   ]
  },
  {
   "cell_type": "code",
   "execution_count": 101,
   "id": "6ab5e23f",
   "metadata": {},
   "outputs": [],
   "source": [
    "census['Income'] = lb.fit_transform(census['Income'])"
   ]
  },
  {
   "cell_type": "code",
   "execution_count": 102,
   "id": "a5702317",
   "metadata": {},
   "outputs": [
    {
     "data": {
      "text/plain": [
       "0    24719\n",
       "1     7841\n",
       "Name: Income, dtype: int64"
      ]
     },
     "execution_count": 102,
     "metadata": {},
     "output_type": "execute_result"
    }
   ],
   "source": [
    "census['Income'].value_counts()"
   ]
  },
  {
   "cell_type": "code",
   "execution_count": 103,
   "id": "3df8a568",
   "metadata": {},
   "outputs": [
    {
     "name": "stdout",
     "output_type": "stream",
     "text": [
      "<class 'pandas.core.frame.DataFrame'>\n",
      "RangeIndex: 32560 entries, 0 to 32559\n",
      "Data columns (total 15 columns):\n",
      " #   Column          Non-Null Count  Dtype\n",
      "---  ------          --------------  -----\n",
      " 0   Age             32560 non-null  int64\n",
      " 1   Workclass       32560 non-null  int64\n",
      " 2   Fnlwgt          32560 non-null  int64\n",
      " 3   Education       32560 non-null  int64\n",
      " 4   Education_num   32560 non-null  int64\n",
      " 5   Marital_status  32560 non-null  int64\n",
      " 6   Occupation      32560 non-null  int64\n",
      " 7   Relationship    32560 non-null  int64\n",
      " 8   Race            32560 non-null  int64\n",
      " 9   Sex             32560 non-null  int64\n",
      " 10  Capital_gain    32560 non-null  int64\n",
      " 11  Capital_loss    32560 non-null  int64\n",
      " 12  Hours_per_week  32560 non-null  int64\n",
      " 13  Native_country  32560 non-null  int64\n",
      " 14  Income          32560 non-null  int64\n",
      "dtypes: int64(15)\n",
      "memory usage: 3.7 MB\n"
     ]
    }
   ],
   "source": [
    "census.info()"
   ]
  },
  {
   "cell_type": "markdown",
   "id": "fcabeb0c",
   "metadata": {},
   "source": [
    "After encoding, Every columns dtype is int64."
   ]
  },
  {
   "cell_type": "markdown",
   "id": "87dd3a13",
   "metadata": {},
   "source": [
    "## Correlation."
   ]
  },
  {
   "cell_type": "code",
   "execution_count": 69,
   "id": "596d1dfb",
   "metadata": {},
   "outputs": [],
   "source": [
    "df = census.corr()"
   ]
  },
  {
   "cell_type": "code",
   "execution_count": 74,
   "id": "7c336587",
   "metadata": {},
   "outputs": [
    {
     "data": {
      "text/plain": [
       "<AxesSubplot:>"
      ]
     },
     "execution_count": 74,
     "metadata": {},
     "output_type": "execute_result"
    },
    {
     "data": {
      "image/png": "[encoded data removed]",
      "text/plain": [
       "<Figure size 864x720 with 2 Axes>"
      ]
     },
     "metadata": {
      "needs_background": "light"
     },
     "output_type": "display_data"
    }
   ],
   "source": [
    "plt.figure(figsize=(12,10))\n",
    "sns.heatmap(df,annot = True)"
   ]
  },
  {
   "cell_type": "markdown",
   "id": "0abc6d58",
   "metadata": {},
   "source": [
    "There is no multicollinearity problem in our dataset."
   ]
  },
  {
   "cell_type": "markdown",
   "id": "fa0c7506",
   "metadata": {},
   "source": [
    "## Normal Distribution & Outliers."
   ]
  },
  {
   "cell_type": "code",
   "execution_count": 61,
   "id": "e4b3e909",
   "metadata": {},
   "outputs": [
    {
     "data": {
      "image/png": "[encoded data removed]",
      "text/plain": [
       "<Figure size 720x360 with 2 Axes>"
      ]
     },
     "metadata": {
      "needs_background": "light"
     },
     "output_type": "display_data"
    },
    {
     "data": {
      "image/png": "[encoded data removed]",
      "text/plain": [
       "<Figure size 720x360 with 2 Axes>"
      ]
     },
     "metadata": {
      "needs_background": "light"
     },
     "output_type": "display_data"
    },
    {
     "data": {
      "image/png": "[encoded data removed]",
      "text/plain": [
       "<Figure size 720x360 with 2 Axes>"
      ]
     },
     "metadata": {
      "needs_background": "light"
     },
     "output_type": "display_data"
    },
    {
     "name": "stdout",
     "output_type": "stream",
     "text": [
      "(32560, 15)\n"
     ]
    }
   ],
   "source": [
    "def check_outliers(x):\n",
    "    global data\n",
    "    fig, axes = plt.subplots(1,2,figsize=(10,5))\n",
    "    sns.distplot(census[x],color='#22b199',ax=axes[0])\n",
    "    sns.boxplot(y=census[x],color='#22b199',ax=axes[1])\n",
    "    axes[0].set_title('Distribution of ' + x)\n",
    "    axes[1].set_title('Box plot of '+ x)\n",
    "    plt.tight_layout()\n",
    "    plt.show()\n",
    "\n",
    "for i in ['Fnlwgt','Capital_gain','Capital_loss']:\n",
    "    check_outliers(i)\n",
    "    \n",
    "print(census.shape)"
   ]
  },
  {
   "cell_type": "code",
   "execution_count": null,
   "id": "7f9f7746",
   "metadata": {},
   "outputs": [],
   "source": [
    "'''def remove_outliers(x):\n",
    "    global census\n",
    "    Q1= census[x].quantile(0.25)\n",
    "    Q3 = census[x].quantile(0.75)\n",
    "    IQR = Q3 - Q1\n",
    "    upper_limit = Q3 + 1.5 * IQR\n",
    "    \n",
    "    index = np.where(census[x] > upper_limit)\n",
    "    census = census.drop(census.index[index])\n",
    "    census.reset_index()\n",
    "        \n",
    "    fig, axes = plt.subplots(1,2,figsize=(10,5))\n",
    "    sns.distplot(census[x],color='#22b199',ax=axes[0])\n",
    "    sns.boxplot(y=census[x],color='#22b199',ax=axes[1])\n",
    "    axes[0].set_title('Distribution of '+ x )\n",
    "    axes[1].set_title('Box plot of '+ x)\n",
    "    plt.tight_layout()\n",
    "    plt.show()\n",
    "\n",
    "for i in ['Fnlwgt','Capital_gain','Capital_loss']:\n",
    "    remove_outliers(i)\n",
    "print(census.shape)'''"
   ]
  },
  {
   "cell_type": "markdown",
   "id": "ccb22303",
   "metadata": {},
   "source": [
    "Not removing the outliers and skweness because:\n",
    "1. Leads to data leakage.\n",
    "2. Capital_gain & Captial_loss columns become empty.\n",
    "3. After removing, the final shape of our dataset is 27443, 15"
   ]
  },
  {
   "cell_type": "markdown",
   "id": "bb01f69d",
   "metadata": {},
   "source": [
    "## Features Selection"
   ]
  },
  {
   "cell_type": "markdown",
   "id": "6aafc4cc",
   "metadata": {},
   "source": [
    "**- Seperating features and target column.**"
   ]
  },
  {
   "cell_type": "code",
   "execution_count": 105,
   "id": "0a04a362",
   "metadata": {},
   "outputs": [],
   "source": [
    "x = census.drop('Income', axis = 1)\n",
    "y = census.Income"
   ]
  },
  {
   "cell_type": "markdown",
   "id": "72492b99",
   "metadata": {},
   "source": [
    "**- Applying SelectKbest for the feature selection.**"
   ]
  },
  {
   "cell_type": "code",
   "execution_count": 107,
   "id": "3c8e78ae",
   "metadata": {},
   "outputs": [],
   "source": [
    "best = SelectKBest(score_func = f_classif, k = 14)\n",
    "fit = best.fit(x,y)\n",
    "score = pd.DataFrame(fit.scores_)\n",
    "column = pd.DataFrame(x.columns)"
   ]
  },
  {
   "cell_type": "code",
   "execution_count": 108,
   "id": "7b9d477b",
   "metadata": {},
   "outputs": [
    {
     "data": {
      "text/html": [
       "<div>\n",
       "<style scoped>\n",
       "    .dataframe tbody tr th:only-of-type {\n",
       "        vertical-align: middle;\n",
       "    }\n",
       "\n",
       "    .dataframe tbody tr th {\n",
       "        vertical-align: top;\n",
       "    }\n",
       "\n",
       "    .dataframe thead th {\n",
       "        text-align: right;\n",
       "    }\n",
       "</style>\n",
       "<table border=\"1\" class=\"dataframe\">\n",
       "  <thead>\n",
       "    <tr style=\"text-align: right;\">\n",
       "      <th></th>\n",
       "      <th>Score</th>\n",
       "      <th>Feature</th>\n",
       "    </tr>\n",
       "  </thead>\n",
       "  <tbody>\n",
       "    <tr>\n",
       "      <th>4</th>\n",
       "      <td>4120.741694</td>\n",
       "      <td>Education_num</td>\n",
       "    </tr>\n",
       "    <tr>\n",
       "      <th>7</th>\n",
       "      <td>2187.696334</td>\n",
       "      <td>Relationship</td>\n",
       "    </tr>\n",
       "    <tr>\n",
       "      <th>0</th>\n",
       "      <td>1886.677918</td>\n",
       "      <td>Age</td>\n",
       "    </tr>\n",
       "    <tr>\n",
       "      <th>12</th>\n",
       "      <td>1813.339094</td>\n",
       "      <td>Hours_per_week</td>\n",
       "    </tr>\n",
       "    <tr>\n",
       "      <th>10</th>\n",
       "      <td>1709.157677</td>\n",
       "      <td>Capital_gain</td>\n",
       "    </tr>\n",
       "    <tr>\n",
       "      <th>9</th>\n",
       "      <td>1593.288816</td>\n",
       "      <td>Sex</td>\n",
       "    </tr>\n",
       "    <tr>\n",
       "      <th>5</th>\n",
       "      <td>1346.636300</td>\n",
       "      <td>Marital_status</td>\n",
       "    </tr>\n",
       "    <tr>\n",
       "      <th>11</th>\n",
       "      <td>754.777449</td>\n",
       "      <td>Capital_loss</td>\n",
       "    </tr>\n",
       "    <tr>\n",
       "      <th>3</th>\n",
       "      <td>206.095569</td>\n",
       "      <td>Education</td>\n",
       "    </tr>\n",
       "    <tr>\n",
       "      <th>6</th>\n",
       "      <td>186.393133</td>\n",
       "      <td>Occupation</td>\n",
       "    </tr>\n",
       "    <tr>\n",
       "      <th>8</th>\n",
       "      <td>168.964252</td>\n",
       "      <td>Race</td>\n",
       "    </tr>\n",
       "    <tr>\n",
       "      <th>1</th>\n",
       "      <td>87.072455</td>\n",
       "      <td>Workclass</td>\n",
       "    </tr>\n",
       "    <tr>\n",
       "      <th>13</th>\n",
       "      <td>8.176613</td>\n",
       "      <td>Native_country</td>\n",
       "    </tr>\n",
       "    <tr>\n",
       "      <th>2</th>\n",
       "      <td>2.926983</td>\n",
       "      <td>Fnlwgt</td>\n",
       "    </tr>\n",
       "  </tbody>\n",
       "</table>\n",
       "</div>"
      ],
      "text/plain": [
       "          Score         Feature\n",
       "4   4120.741694   Education_num\n",
       "7   2187.696334    Relationship\n",
       "0   1886.677918             Age\n",
       "12  1813.339094  Hours_per_week\n",
       "10  1709.157677    Capital_gain\n",
       "9   1593.288816             Sex\n",
       "5   1346.636300  Marital_status\n",
       "11   754.777449    Capital_loss\n",
       "3    206.095569       Education\n",
       "6    186.393133      Occupation\n",
       "8    168.964252            Race\n",
       "1     87.072455       Workclass\n",
       "13     8.176613  Native_country\n",
       "2      2.926983          Fnlwgt"
      ]
     },
     "execution_count": 108,
     "metadata": {},
     "output_type": "execute_result"
    }
   ],
   "source": [
    "feat = pd.concat([score,column],axis = 1)\n",
    "feat.columns = ['Score','Feature']\n",
    "feat.nlargest(14,'Score')"
   ]
  },
  {
   "cell_type": "markdown",
   "id": "dcf1a126",
   "metadata": {},
   "source": [
    "**- Imbalance Target Column.**"
   ]
  },
  {
   "cell_type": "code",
   "execution_count": 111,
   "id": "27dfcfbd",
   "metadata": {},
   "outputs": [
    {
     "data": {
      "text/plain": [
       "<AxesSubplot:xlabel='Income', ylabel='count'>"
      ]
     },
     "execution_count": 111,
     "metadata": {},
     "output_type": "execute_result"
    },
    {
     "data": {
      "image/png": "[encoded data removed]",
      "text/plain": [
       "<Figure size 432x288 with 1 Axes>"
      ]
     },
     "metadata": {
      "needs_background": "light"
     },
     "output_type": "display_data"
    }
   ],
   "source": [
    "sns.countplot(y)"
   ]
  },
  {
   "cell_type": "markdown",
   "id": "e56b5f54",
   "metadata": {},
   "source": [
    "**- Using Upsampling technique to balance the target column(SMOTE).**"
   ]
  },
  {
   "cell_type": "code",
   "execution_count": 125,
   "id": "24d86a2b",
   "metadata": {},
   "outputs": [],
   "source": [
    "x_train,x_test,y_train,y_test = train_test_split(x, y, test_size = 0.25, random_state = 9)"
   ]
  },
  {
   "cell_type": "code",
   "execution_count": 126,
   "id": "bc6c38d5",
   "metadata": {},
   "outputs": [
    {
     "data": {
      "text/plain": [
       "Counter({1: 5920, 0: 18500})"
      ]
     },
     "execution_count": 126,
     "metadata": {},
     "output_type": "execute_result"
    }
   ],
   "source": [
    "Counter(y_train)"
   ]
  },
  {
   "cell_type": "code",
   "execution_count": 127,
   "id": "657e449d",
   "metadata": {},
   "outputs": [],
   "source": [
    "ove_smp = SMOTE(0.75)\n",
    "x_train_os,y_train_os = ove_smp.fit_resample(x_train,y_train)"
   ]
  },
  {
   "cell_type": "code",
   "execution_count": 128,
   "id": "052d3c19",
   "metadata": {},
   "outputs": [
    {
     "data": {
      "text/plain": [
       "Counter({1: 13875, 0: 18500})"
      ]
     },
     "execution_count": 128,
     "metadata": {},
     "output_type": "execute_result"
    }
   ],
   "source": [
    "Counter(y_train_os)"
   ]
  },
  {
   "cell_type": "code",
   "execution_count": 129,
   "id": "5fb8e1e2",
   "metadata": {},
   "outputs": [
    {
     "data": {
      "text/plain": [
       "<AxesSubplot:xlabel='Income', ylabel='count'>"
      ]
     },
     "execution_count": 129,
     "metadata": {},
     "output_type": "execute_result"
    },
    {
     "data": {
      "image/png": "[encoded data removed]",
      "text/plain": [
       "<Figure size 432x288 with 1 Axes>"
      ]
     },
     "metadata": {
      "needs_background": "light"
     },
     "output_type": "display_data"
    }
   ],
   "source": [
    "sns.countplot(y_train_os)"
   ]
  },
  {
   "cell_type": "markdown",
   "id": "8f72cfc8",
   "metadata": {},
   "source": [
    "## Training the Model:"
   ]
  },
  {
   "cell_type": "code",
   "execution_count": 143,
   "id": "858d2ccc",
   "metadata": {},
   "outputs": [],
   "source": [
    "x = census.drop('Income', axis = 1)\n",
    "y = census.Income"
   ]
  },
  {
   "cell_type": "markdown",
   "id": "fc93b40d",
   "metadata": {},
   "source": [
    "**- Using Standard scaler on features to scale the values.**"
   ]
  },
  {
   "cell_type": "code",
   "execution_count": 144,
   "id": "e0856cdc",
   "metadata": {},
   "outputs": [],
   "source": [
    "scaler = StandardScaler()\n",
    "x_scaled = scaler.fit_transform(x)"
   ]
  },
  {
   "cell_type": "markdown",
   "id": "622cf04b",
   "metadata": {},
   "source": [
    "**- Train Test Split.**"
   ]
  },
  {
   "cell_type": "code",
   "execution_count": 145,
   "id": "2eea41c1",
   "metadata": {},
   "outputs": [],
   "source": [
    "x_train,x_test,y_train,y_test = train_test_split(x_scaled, y, test_size = 0.25, random_state = 8)"
   ]
  },
  {
   "cell_type": "markdown",
   "id": "e810a961",
   "metadata": {},
   "source": [
    "**- Creating The function for the training and testing, so that, we can get the results just by calling the function.**"
   ]
  },
  {
   "cell_type": "code",
   "execution_count": 147,
   "id": "566ebf03",
   "metadata": {},
   "outputs": [],
   "source": [
    "def score(clas, x_train, x_test, y_train, y_test, train = True):\n",
    "    if train:\n",
    "        y_pred = clas.predict(x_train)\n",
    "        print('\\n ----- Train Result ----- \\n')\n",
    "        print('Accuracy Score:', accuracy_score(y_train,y_pred))\n",
    "        print('\\n ----- Classification Report ----- \\n', classification_report(y_train,y_pred))\n",
    "        print('\\n ----- Confusion matrix ----- \\n', confusion_matrix(y_train,y_pred))\n",
    "    \n",
    "    elif train == False:\n",
    "        pred = clas.predict(x_test)\n",
    "        print('\\n ----- Test Result ----- \\n')\n",
    "        print('Accuracy Score:', accuracy_score(y_test,pred))\n",
    "        print('\\n ----- Classification Report ----- \\n', classification_report(y_test,pred))\n",
    "        print('\\n ----- Confusion matrix ----- \\n', confusion_matrix(y_test,pred))"
   ]
  },
  {
   "cell_type": "markdown",
   "id": "b2f6839f",
   "metadata": {},
   "source": [
    "**- Model Instantiating.**"
   ]
  },
  {
   "cell_type": "code",
   "execution_count": 152,
   "id": "6b8b65cc",
   "metadata": {},
   "outputs": [],
   "source": [
    "knn = KNeighborsClassifier()\n",
    "lr = LogisticRegression()\n",
    "ada = AdaBoostClassifier()\n",
    "rf = RandomForestClassifier()"
   ]
  },
  {
   "cell_type": "markdown",
   "id": "0bafc664",
   "metadata": {},
   "source": [
    "**- KNeighbors Classifier.**"
   ]
  },
  {
   "cell_type": "code",
   "execution_count": 149,
   "id": "3ec17f36",
   "metadata": {},
   "outputs": [
    {
     "name": "stdout",
     "output_type": "stream",
     "text": [
      "\n",
      " ----- Train Result ----- \n",
      "\n",
      "Accuracy Score: 0.875020475020475\n",
      "\n",
      " ----- Classification Report ----- \n",
      "               precision    recall  f1-score   support\n",
      "\n",
      "           0       0.90      0.93      0.92     18539\n",
      "           1       0.77      0.69      0.73      5881\n",
      "\n",
      "    accuracy                           0.88     24420\n",
      "   macro avg       0.84      0.81      0.82     24420\n",
      "weighted avg       0.87      0.88      0.87     24420\n",
      "\n",
      "\n",
      " ----- Confusion matrix ----- \n",
      " [[17332  1207]\n",
      " [ 1845  4036]]\n",
      "\n",
      " ----- Test Result ----- \n",
      "\n",
      "Accuracy Score: 0.828009828009828\n",
      "\n",
      " ----- Classification Report ----- \n",
      "               precision    recall  f1-score   support\n",
      "\n",
      "           0       0.87      0.91      0.89      6180\n",
      "           1       0.67      0.57      0.61      1960\n",
      "\n",
      "    accuracy                           0.83      8140\n",
      "   macro avg       0.77      0.74      0.75      8140\n",
      "weighted avg       0.82      0.83      0.82      8140\n",
      "\n",
      "\n",
      " ----- Confusion matrix ----- \n",
      " [[5624  556]\n",
      " [ 844 1116]]\n"
     ]
    }
   ],
   "source": [
    "knn.fit(x_train,y_train)\n",
    "score(knn, x_train,x_test,y_train,y_test,train = True)\n",
    "score(knn, x_train,x_test,y_train,y_test,train = False)"
   ]
  },
  {
   "cell_type": "markdown",
   "id": "ebe13559",
   "metadata": {},
   "source": [
    "**- Logistic Regression.**"
   ]
  },
  {
   "cell_type": "code",
   "execution_count": 150,
   "id": "4402e362",
   "metadata": {},
   "outputs": [
    {
     "name": "stdout",
     "output_type": "stream",
     "text": [
      "\n",
      " ----- Train Result ----- \n",
      "\n",
      "Accuracy Score: 0.8244062244062244\n",
      "\n",
      " ----- Classification Report ----- \n",
      "               precision    recall  f1-score   support\n",
      "\n",
      "           0       0.84      0.94      0.89     18539\n",
      "           1       0.72      0.45      0.55      5881\n",
      "\n",
      "    accuracy                           0.82     24420\n",
      "   macro avg       0.78      0.70      0.72     24420\n",
      "weighted avg       0.81      0.82      0.81     24420\n",
      "\n",
      "\n",
      " ----- Confusion matrix ----- \n",
      " [[17498  1041]\n",
      " [ 3247  2634]]\n",
      "\n",
      " ----- Test Result ----- \n",
      "\n",
      "Accuracy Score: 0.8282555282555283\n",
      "\n",
      " ----- Classification Report ----- \n",
      "               precision    recall  f1-score   support\n",
      "\n",
      "           0       0.84      0.95      0.89      6180\n",
      "           1       0.73      0.45      0.56      1960\n",
      "\n",
      "    accuracy                           0.83      8140\n",
      "   macro avg       0.79      0.70      0.73      8140\n",
      "weighted avg       0.82      0.83      0.81      8140\n",
      "\n",
      "\n",
      " ----- Confusion matrix ----- \n",
      " [[5862  318]\n",
      " [1080  880]]\n"
     ]
    }
   ],
   "source": [
    "lr.fit(x_train,y_train)\n",
    "score(lr, x_train,x_test,y_train,y_test,train = True)\n",
    "score(lr, x_train,x_test,y_train,y_test,train = False)"
   ]
  },
  {
   "cell_type": "markdown",
   "id": "0f488d06",
   "metadata": {},
   "source": [
    "**- AdaBoost Classifier.**"
   ]
  },
  {
   "cell_type": "code",
   "execution_count": 151,
   "id": "eee72f66",
   "metadata": {},
   "outputs": [
    {
     "name": "stdout",
     "output_type": "stream",
     "text": [
      "\n",
      " ----- Train Result ----- \n",
      "\n",
      "Accuracy Score: 0.8626945126945127\n",
      "\n",
      " ----- Classification Report ----- \n",
      "               precision    recall  f1-score   support\n",
      "\n",
      "           0       0.88      0.94      0.91     18539\n",
      "           1       0.77      0.61      0.68      5881\n",
      "\n",
      "    accuracy                           0.86     24420\n",
      "   macro avg       0.83      0.78      0.80     24420\n",
      "weighted avg       0.86      0.86      0.86     24420\n",
      "\n",
      "\n",
      " ----- Confusion matrix ----- \n",
      " [[17498  1041]\n",
      " [ 2312  3569]]\n",
      "\n",
      " ----- Test Result ----- \n",
      "\n",
      "Accuracy Score: 0.86007371007371\n",
      "\n",
      " ----- Classification Report ----- \n",
      "               precision    recall  f1-score   support\n",
      "\n",
      "           0       0.88      0.95      0.91      6180\n",
      "           1       0.78      0.59      0.67      1960\n",
      "\n",
      "    accuracy                           0.86      8140\n",
      "   macro avg       0.83      0.77      0.79      8140\n",
      "weighted avg       0.85      0.86      0.85      8140\n",
      "\n",
      "\n",
      " ----- Confusion matrix ----- \n",
      " [[5850  330]\n",
      " [ 809 1151]]\n"
     ]
    }
   ],
   "source": [
    "ada.fit(x_train,y_train)\n",
    "score(ada, x_train,x_test,y_train,y_test,train = True)\n",
    "score(ada, x_train,x_test,y_train,y_test,train = False)"
   ]
  },
  {
   "cell_type": "markdown",
   "id": "b1e011ea",
   "metadata": {},
   "source": [
    "**- RandomForest Classifier.**"
   ]
  },
  {
   "cell_type": "code",
   "execution_count": 153,
   "id": "20fdc156",
   "metadata": {},
   "outputs": [
    {
     "name": "stdout",
     "output_type": "stream",
     "text": [
      "\n",
      " ----- Train Result ----- \n",
      "\n",
      "Accuracy Score: 0.9999590499590499\n",
      "\n",
      " ----- Classification Report ----- \n",
      "               precision    recall  f1-score   support\n",
      "\n",
      "           0       1.00      1.00      1.00     18539\n",
      "           1       1.00      1.00      1.00      5881\n",
      "\n",
      "    accuracy                           1.00     24420\n",
      "   macro avg       1.00      1.00      1.00     24420\n",
      "weighted avg       1.00      1.00      1.00     24420\n",
      "\n",
      "\n",
      " ----- Confusion matrix ----- \n",
      " [[18538     1]\n",
      " [    0  5881]]\n",
      "\n",
      " ----- Test Result ----- \n",
      "\n",
      "Accuracy Score: 0.8571253071253071\n",
      "\n",
      " ----- Classification Report ----- \n",
      "               precision    recall  f1-score   support\n",
      "\n",
      "           0       0.88      0.94      0.91      6180\n",
      "           1       0.75      0.61      0.67      1960\n",
      "\n",
      "    accuracy                           0.86      8140\n",
      "   macro avg       0.82      0.77      0.79      8140\n",
      "weighted avg       0.85      0.86      0.85      8140\n",
      "\n",
      "\n",
      " ----- Confusion matrix ----- \n",
      " [[5783  397]\n",
      " [ 766 1194]]\n"
     ]
    }
   ],
   "source": [
    "rf.fit(x_train,y_train)\n",
    "score(rf, x_train,x_test,y_train,y_test,train = True)\n",
    "score(rf, x_train,x_test,y_train,y_test,train = False)"
   ]
  },
  {
   "cell_type": "markdown",
   "id": "1209ac89",
   "metadata": {},
   "source": [
    "                    RandomForest Classifier, is giving the best score among all."
   ]
  },
  {
   "cell_type": "markdown",
   "id": "34059199",
   "metadata": {},
   "source": [
    "## Hyperparameter Tuning."
   ]
  },
  {
   "cell_type": "code",
   "execution_count": 155,
   "id": "f6641c2b",
   "metadata": {},
   "outputs": [
    {
     "data": {
      "text/plain": [
       "{'bootstrap': True,\n",
       " 'ccp_alpha': 0.0,\n",
       " 'class_weight': None,\n",
       " 'criterion': 'gini',\n",
       " 'max_depth': None,\n",
       " 'max_features': 'sqrt',\n",
       " 'max_leaf_nodes': None,\n",
       " 'max_samples': None,\n",
       " 'min_impurity_decrease': 0.0,\n",
       " 'min_samples_leaf': 1,\n",
       " 'min_samples_split': 2,\n",
       " 'min_weight_fraction_leaf': 0.0,\n",
       " 'n_estimators': 100,\n",
       " 'n_jobs': None,\n",
       " 'oob_score': False,\n",
       " 'random_state': None,\n",
       " 'verbose': 0,\n",
       " 'warm_start': False}"
      ]
     },
     "execution_count": 155,
     "metadata": {},
     "output_type": "execute_result"
    }
   ],
   "source": [
    "rf.get_params()"
   ]
  },
  {
   "cell_type": "code",
   "execution_count": 166,
   "id": "9e52e720",
   "metadata": {},
   "outputs": [],
   "source": [
    "param = {'n_estimators': range(1,100,10),\n",
    "         'criterion': ['gini','entropy'],\n",
    "         'max_depth': [10],\n",
    "         'max_features': ['sqrt','log2'],\n",
    "         'min_impurity_decrease':[0.0,0.1],\n",
    "         'random_state':range(10,50,10)}"
   ]
  },
  {
   "cell_type": "code",
   "execution_count": 167,
   "id": "ff8e64c9",
   "metadata": {},
   "outputs": [
    {
     "data": {
      "text/plain": [
       "{'criterion': 'gini',\n",
       " 'max_depth': 10,\n",
       " 'max_features': 'sqrt',\n",
       " 'min_impurity_decrease': 0.0,\n",
       " 'n_estimators': 41,\n",
       " 'random_state': 20}"
      ]
     },
     "execution_count": 167,
     "metadata": {},
     "output_type": "execute_result"
    }
   ],
   "source": [
    "grid = GridSearchCV(rf, param_grid = param)\n",
    "grid.fit(x_train,y_train)\n",
    "grid.best_params_"
   ]
  },
  {
   "cell_type": "code",
   "execution_count": 169,
   "id": "e21e876f",
   "metadata": {},
   "outputs": [],
   "source": [
    "rf_hyp = RandomForestClassifier(criterion =  'gini' , max_depth = 10, max_features = 'sqrt', min_impurity_decrease = 0.0, n_estimators = 41, random_state = 20)"
   ]
  },
  {
   "cell_type": "code",
   "execution_count": 170,
   "id": "c02ad943",
   "metadata": {},
   "outputs": [
    {
     "name": "stdout",
     "output_type": "stream",
     "text": [
      "\n",
      " ----- Train Result ----- \n",
      "\n",
      "Accuracy Score: 0.8706388206388206\n",
      "\n",
      " ----- Classification Report ----- \n",
      "               precision    recall  f1-score   support\n",
      "\n",
      "           0       0.88      0.96      0.92     18539\n",
      "           1       0.83      0.58      0.68      5881\n",
      "\n",
      "    accuracy                           0.87     24420\n",
      "   macro avg       0.86      0.77      0.80     24420\n",
      "weighted avg       0.87      0.87      0.86     24420\n",
      "\n",
      "\n",
      " ----- Confusion matrix ----- \n",
      " [[17861   678]\n",
      " [ 2481  3400]]\n",
      "\n",
      " ----- Test Result ----- \n",
      "\n",
      "Accuracy Score: 0.8552825552825553\n",
      "\n",
      " ----- Classification Report ----- \n",
      "               precision    recall  f1-score   support\n",
      "\n",
      "           0       0.86      0.96      0.91      6180\n",
      "           1       0.81      0.53      0.64      1960\n",
      "\n",
      "    accuracy                           0.86      8140\n",
      "   macro avg       0.84      0.74      0.77      8140\n",
      "weighted avg       0.85      0.86      0.84      8140\n",
      "\n",
      "\n",
      " ----- Confusion matrix ----- \n",
      " [[5931  249]\n",
      " [ 929 1031]]\n"
     ]
    }
   ],
   "source": [
    "rf_hyp.fit(x_train,y_train)\n",
    "score(rf_hyp, x_train,x_test,y_train,y_test,train = True)\n",
    "score(rf_hyp, x_train,x_test,y_train,y_test,train = False)"
   ]
  },
  {
   "cell_type": "markdown",
   "id": "f0d2e89d",
   "metadata": {},
   "source": [
    "     There is only small difference pre & post hyperparameter tuning. So we can take any of the parameters as a final model."
   ]
  },
  {
   "cell_type": "code",
   "execution_count": 175,
   "id": "53fa0449",
   "metadata": {},
   "outputs": [],
   "source": [
    "filename = 'census_classi.pickle'\n",
    "pickle.dump(rf, open(filename, 'wb'))"
   ]
  }
 ],
 "metadata": {
  "kernelspec": {
   "display_name": "Python 3 (ipykernel)",
   "language": "python",
   "name": "python3"
  },
  "language_info": {
   "codemirror_mode": {
    "name": "ipython",
    "version": 3
   },
   "file_extension": ".py",
   "mimetype": "text/x-python",
   "name": "python",
   "nbconvert_exporter": "python",
   "pygments_lexer": "ipython3",
   "version": "3.9.7"
  }
 },
 "nbformat": 4,
 "nbformat_minor": 5
}
