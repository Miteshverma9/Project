{
 "cells": [
  {
   "cell_type": "code",
   "execution_count": 389,
   "id": "44e800b0",
   "metadata": {},
   "outputs": [],
   "source": [
    "import pandas as pd\n",
    "import numpy as np\n",
    "import seaborn as sns\n",
    "import matplotlib.pyplot as plt\n",
    "%matplotlib inline\n",
    "\n",
    "from sklearn.preprocessing import LabelEncoder,StandardScaler\n",
    "from sklearn.model_selection import train_test_split,GridSearchCV\n",
    "from sklearn import metrics\n",
    "from sklearn.metrics import mean_squared_error,mean_absolute_error\n",
    "from sklearn.neighbors import KNeighborsRegressor\n",
    "from sklearn.ensemble import GradientBoostingRegressor,AdaBoostRegressor,RandomForestRegressor\n",
    "\n",
    "import pickle\n",
    "import warnings\n",
    "warnings.filterwarnings('ignore')"
   ]
  },
  {
   "cell_type": "code",
   "execution_count": 315,
   "id": "d4286f8b",
   "metadata": {},
   "outputs": [
    {
     "data": {
      "text/html": [
       "<div>\n",
       "<style scoped>\n",
       "    .dataframe tbody tr th:only-of-type {\n",
       "        vertical-align: middle;\n",
       "    }\n",
       "\n",
       "    .dataframe tbody tr th {\n",
       "        vertical-align: top;\n",
       "    }\n",
       "\n",
       "    .dataframe thead th {\n",
       "        text-align: right;\n",
       "    }\n",
       "</style>\n",
       "<table border=\"1\" class=\"dataframe\">\n",
       "  <thead>\n",
       "    <tr style=\"text-align: right;\">\n",
       "      <th></th>\n",
       "      <th>Item_Identifier</th>\n",
       "      <th>Item_Weight</th>\n",
       "      <th>Item_Fat_Content</th>\n",
       "      <th>Item_Visibility</th>\n",
       "      <th>Item_Type</th>\n",
       "      <th>Item_MRP</th>\n",
       "      <th>Outlet_Identifier</th>\n",
       "      <th>Outlet_Establishment_Year</th>\n",
       "      <th>Outlet_Size</th>\n",
       "      <th>Outlet_Location_Type</th>\n",
       "      <th>Outlet_Type</th>\n",
       "      <th>Item_Outlet_Sales</th>\n",
       "    </tr>\n",
       "  </thead>\n",
       "  <tbody>\n",
       "    <tr>\n",
       "      <th>0</th>\n",
       "      <td>FDA15</td>\n",
       "      <td>9.30</td>\n",
       "      <td>Low Fat</td>\n",
       "      <td>0.016047</td>\n",
       "      <td>Dairy</td>\n",
       "      <td>249.8092</td>\n",
       "      <td>OUT049</td>\n",
       "      <td>1999</td>\n",
       "      <td>Medium</td>\n",
       "      <td>Tier 1</td>\n",
       "      <td>Supermarket Type1</td>\n",
       "      <td>3735.1380</td>\n",
       "    </tr>\n",
       "    <tr>\n",
       "      <th>1</th>\n",
       "      <td>DRC01</td>\n",
       "      <td>5.92</td>\n",
       "      <td>Regular</td>\n",
       "      <td>0.019278</td>\n",
       "      <td>Soft Drinks</td>\n",
       "      <td>48.2692</td>\n",
       "      <td>OUT018</td>\n",
       "      <td>2009</td>\n",
       "      <td>Medium</td>\n",
       "      <td>Tier 3</td>\n",
       "      <td>Supermarket Type2</td>\n",
       "      <td>443.4228</td>\n",
       "    </tr>\n",
       "    <tr>\n",
       "      <th>2</th>\n",
       "      <td>FDN15</td>\n",
       "      <td>17.50</td>\n",
       "      <td>Low Fat</td>\n",
       "      <td>0.016760</td>\n",
       "      <td>Meat</td>\n",
       "      <td>141.6180</td>\n",
       "      <td>OUT049</td>\n",
       "      <td>1999</td>\n",
       "      <td>Medium</td>\n",
       "      <td>Tier 1</td>\n",
       "      <td>Supermarket Type1</td>\n",
       "      <td>2097.2700</td>\n",
       "    </tr>\n",
       "    <tr>\n",
       "      <th>3</th>\n",
       "      <td>FDX07</td>\n",
       "      <td>19.20</td>\n",
       "      <td>Regular</td>\n",
       "      <td>0.000000</td>\n",
       "      <td>Fruits and Vegetables</td>\n",
       "      <td>182.0950</td>\n",
       "      <td>OUT010</td>\n",
       "      <td>1998</td>\n",
       "      <td>NaN</td>\n",
       "      <td>Tier 3</td>\n",
       "      <td>Grocery Store</td>\n",
       "      <td>732.3800</td>\n",
       "    </tr>\n",
       "    <tr>\n",
       "      <th>4</th>\n",
       "      <td>NCD19</td>\n",
       "      <td>8.93</td>\n",
       "      <td>Low Fat</td>\n",
       "      <td>0.000000</td>\n",
       "      <td>Household</td>\n",
       "      <td>53.8614</td>\n",
       "      <td>OUT013</td>\n",
       "      <td>1987</td>\n",
       "      <td>High</td>\n",
       "      <td>Tier 3</td>\n",
       "      <td>Supermarket Type1</td>\n",
       "      <td>994.7052</td>\n",
       "    </tr>\n",
       "  </tbody>\n",
       "</table>\n",
       "</div>"
      ],
      "text/plain": [
       "  Item_Identifier  Item_Weight Item_Fat_Content  Item_Visibility  \\\n",
       "0           FDA15         9.30          Low Fat         0.016047   \n",
       "1           DRC01         5.92          Regular         0.019278   \n",
       "2           FDN15        17.50          Low Fat         0.016760   \n",
       "3           FDX07        19.20          Regular         0.000000   \n",
       "4           NCD19         8.93          Low Fat         0.000000   \n",
       "\n",
       "               Item_Type  Item_MRP Outlet_Identifier  \\\n",
       "0                  Dairy  249.8092            OUT049   \n",
       "1            Soft Drinks   48.2692            OUT018   \n",
       "2                   Meat  141.6180            OUT049   \n",
       "3  Fruits and Vegetables  182.0950            OUT010   \n",
       "4              Household   53.8614            OUT013   \n",
       "\n",
       "   Outlet_Establishment_Year Outlet_Size Outlet_Location_Type  \\\n",
       "0                       1999      Medium               Tier 1   \n",
       "1                       2009      Medium               Tier 3   \n",
       "2                       1999      Medium               Tier 1   \n",
       "3                       1998         NaN               Tier 3   \n",
       "4                       1987        High               Tier 3   \n",
       "\n",
       "         Outlet_Type  Item_Outlet_Sales  \n",
       "0  Supermarket Type1          3735.1380  \n",
       "1  Supermarket Type2           443.4228  \n",
       "2  Supermarket Type1          2097.2700  \n",
       "3      Grocery Store           732.3800  \n",
       "4  Supermarket Type1           994.7052  "
      ]
     },
     "execution_count": 315,
     "metadata": {},
     "output_type": "execute_result"
    }
   ],
   "source": [
    "big = pd.read_csv('https://raw.githubusercontent.com/dsrscientist/bigdatamart_rep/master/bigdatamart_Train.csv')\n",
    "big.head()"
   ]
  },
  {
   "cell_type": "markdown",
   "id": "a246a6fc",
   "metadata": {},
   "source": [
    "**Features :**\n",
    "- Item_Identifier: Id of the items.\n",
    "- Item_Weight: Weight of item.\n",
    "- Item_Fat_Content: Fat present in item.\n",
    "- Item_Visibility: Visible of the item.\n",
    "- Item_Type: Item type.\n",
    "- Item_MRP: Price of item.\n",
    "- Outlet_Identifier: Id of outlet.\n",
    "- Outlet_Establishment_Year: In which year the outlet was established.\n",
    "- Outlet_Size: Size of the outlet.\n",
    "- Outlet_Location_Type: Location type of outlet.\n",
    "- Outlet_Type: Type of outlet.\n",
    "\n",
    "**Target :**\n",
    "- Item_Outlet_Sales: Sale of the outlet"
   ]
  },
  {
   "cell_type": "markdown",
   "id": "97fdd5e3",
   "metadata": {},
   "source": [
    "## Data Description."
   ]
  },
  {
   "cell_type": "code",
   "execution_count": 316,
   "id": "b434ea76",
   "metadata": {},
   "outputs": [
    {
     "data": {
      "text/plain": [
       "(8523, 12)"
      ]
     },
     "execution_count": 316,
     "metadata": {},
     "output_type": "execute_result"
    }
   ],
   "source": [
    "big.shape"
   ]
  },
  {
   "cell_type": "code",
   "execution_count": 317,
   "id": "b500ec46",
   "metadata": {},
   "outputs": [
    {
     "data": {
      "text/html": [
       "<div>\n",
       "<style scoped>\n",
       "    .dataframe tbody tr th:only-of-type {\n",
       "        vertical-align: middle;\n",
       "    }\n",
       "\n",
       "    .dataframe tbody tr th {\n",
       "        vertical-align: top;\n",
       "    }\n",
       "\n",
       "    .dataframe thead th {\n",
       "        text-align: right;\n",
       "    }\n",
       "</style>\n",
       "<table border=\"1\" class=\"dataframe\">\n",
       "  <thead>\n",
       "    <tr style=\"text-align: right;\">\n",
       "      <th></th>\n",
       "      <th>Item_Weight</th>\n",
       "      <th>Item_Visibility</th>\n",
       "      <th>Item_MRP</th>\n",
       "      <th>Outlet_Establishment_Year</th>\n",
       "      <th>Item_Outlet_Sales</th>\n",
       "    </tr>\n",
       "  </thead>\n",
       "  <tbody>\n",
       "    <tr>\n",
       "      <th>count</th>\n",
       "      <td>7060.000000</td>\n",
       "      <td>8523.000000</td>\n",
       "      <td>8523.000000</td>\n",
       "      <td>8523.000000</td>\n",
       "      <td>8523.000000</td>\n",
       "    </tr>\n",
       "    <tr>\n",
       "      <th>mean</th>\n",
       "      <td>12.857645</td>\n",
       "      <td>0.066132</td>\n",
       "      <td>140.992782</td>\n",
       "      <td>1997.831867</td>\n",
       "      <td>2181.288914</td>\n",
       "    </tr>\n",
       "    <tr>\n",
       "      <th>std</th>\n",
       "      <td>4.643456</td>\n",
       "      <td>0.051598</td>\n",
       "      <td>62.275067</td>\n",
       "      <td>8.371760</td>\n",
       "      <td>1706.499616</td>\n",
       "    </tr>\n",
       "    <tr>\n",
       "      <th>min</th>\n",
       "      <td>4.555000</td>\n",
       "      <td>0.000000</td>\n",
       "      <td>31.290000</td>\n",
       "      <td>1985.000000</td>\n",
       "      <td>33.290000</td>\n",
       "    </tr>\n",
       "    <tr>\n",
       "      <th>25%</th>\n",
       "      <td>8.773750</td>\n",
       "      <td>0.026989</td>\n",
       "      <td>93.826500</td>\n",
       "      <td>1987.000000</td>\n",
       "      <td>834.247400</td>\n",
       "    </tr>\n",
       "    <tr>\n",
       "      <th>50%</th>\n",
       "      <td>12.600000</td>\n",
       "      <td>0.053931</td>\n",
       "      <td>143.012800</td>\n",
       "      <td>1999.000000</td>\n",
       "      <td>1794.331000</td>\n",
       "    </tr>\n",
       "    <tr>\n",
       "      <th>75%</th>\n",
       "      <td>16.850000</td>\n",
       "      <td>0.094585</td>\n",
       "      <td>185.643700</td>\n",
       "      <td>2004.000000</td>\n",
       "      <td>3101.296400</td>\n",
       "    </tr>\n",
       "    <tr>\n",
       "      <th>max</th>\n",
       "      <td>21.350000</td>\n",
       "      <td>0.328391</td>\n",
       "      <td>266.888400</td>\n",
       "      <td>2009.000000</td>\n",
       "      <td>13086.964800</td>\n",
       "    </tr>\n",
       "  </tbody>\n",
       "</table>\n",
       "</div>"
      ],
      "text/plain": [
       "       Item_Weight  Item_Visibility     Item_MRP  Outlet_Establishment_Year  \\\n",
       "count  7060.000000      8523.000000  8523.000000                8523.000000   \n",
       "mean     12.857645         0.066132   140.992782                1997.831867   \n",
       "std       4.643456         0.051598    62.275067                   8.371760   \n",
       "min       4.555000         0.000000    31.290000                1985.000000   \n",
       "25%       8.773750         0.026989    93.826500                1987.000000   \n",
       "50%      12.600000         0.053931   143.012800                1999.000000   \n",
       "75%      16.850000         0.094585   185.643700                2004.000000   \n",
       "max      21.350000         0.328391   266.888400                2009.000000   \n",
       "\n",
       "       Item_Outlet_Sales  \n",
       "count        8523.000000  \n",
       "mean         2181.288914  \n",
       "std          1706.499616  \n",
       "min            33.290000  \n",
       "25%           834.247400  \n",
       "50%          1794.331000  \n",
       "75%          3101.296400  \n",
       "max         13086.964800  "
      ]
     },
     "execution_count": 317,
     "metadata": {},
     "output_type": "execute_result"
    }
   ],
   "source": [
    "big.describe()"
   ]
  },
  {
   "cell_type": "code",
   "execution_count": 318,
   "id": "681718f4",
   "metadata": {},
   "outputs": [
    {
     "name": "stdout",
     "output_type": "stream",
     "text": [
      "<class 'pandas.core.frame.DataFrame'>\n",
      "RangeIndex: 8523 entries, 0 to 8522\n",
      "Data columns (total 12 columns):\n",
      " #   Column                     Non-Null Count  Dtype  \n",
      "---  ------                     --------------  -----  \n",
      " 0   Item_Identifier            8523 non-null   object \n",
      " 1   Item_Weight                7060 non-null   float64\n",
      " 2   Item_Fat_Content           8523 non-null   object \n",
      " 3   Item_Visibility            8523 non-null   float64\n",
      " 4   Item_Type                  8523 non-null   object \n",
      " 5   Item_MRP                   8523 non-null   float64\n",
      " 6   Outlet_Identifier          8523 non-null   object \n",
      " 7   Outlet_Establishment_Year  8523 non-null   int64  \n",
      " 8   Outlet_Size                6113 non-null   object \n",
      " 9   Outlet_Location_Type       8523 non-null   object \n",
      " 10  Outlet_Type                8523 non-null   object \n",
      " 11  Item_Outlet_Sales          8523 non-null   float64\n",
      "dtypes: float64(4), int64(1), object(7)\n",
      "memory usage: 799.2+ KB\n"
     ]
    }
   ],
   "source": [
    "big.info()"
   ]
  },
  {
   "cell_type": "code",
   "execution_count": 319,
   "id": "092703ab",
   "metadata": {},
   "outputs": [
    {
     "data": {
      "text/plain": [
       "Item_Identifier                 0\n",
       "Item_Weight                  1463\n",
       "Item_Fat_Content                0\n",
       "Item_Visibility                 0\n",
       "Item_Type                       0\n",
       "Item_MRP                        0\n",
       "Outlet_Identifier               0\n",
       "Outlet_Establishment_Year       0\n",
       "Outlet_Size                  2410\n",
       "Outlet_Location_Type            0\n",
       "Outlet_Type                     0\n",
       "Item_Outlet_Sales               0\n",
       "dtype: int64"
      ]
     },
     "execution_count": 319,
     "metadata": {},
     "output_type": "execute_result"
    }
   ],
   "source": [
    "big.isna().sum()"
   ]
  },
  {
   "cell_type": "markdown",
   "id": "47820ab1",
   "metadata": {},
   "source": [
    "Column with null values : Item_Weight, Outlet_Size "
   ]
  },
  {
   "cell_type": "markdown",
   "id": "d35cb709",
   "metadata": {},
   "source": [
    "## Data Cleaning."
   ]
  },
  {
   "cell_type": "code",
   "execution_count": 320,
   "id": "5e7b18f5",
   "metadata": {},
   "outputs": [
    {
     "data": {
      "text/plain": [
       "(7060, 12)"
      ]
     },
     "execution_count": 320,
     "metadata": {},
     "output_type": "execute_result"
    }
   ],
   "source": [
    "big.dropna(subset = ['Item_Weight'],inplace = True)\n",
    "big.shape"
   ]
  },
  {
   "cell_type": "markdown",
   "id": "24514c8d",
   "metadata": {},
   "source": [
    "Dropping Item Weight nulls, as every product will have there own weight."
   ]
  },
  {
   "cell_type": "code",
   "execution_count": 321,
   "id": "d954b71d",
   "metadata": {},
   "outputs": [],
   "source": [
    "big['Outlet_Size'] = big['Outlet_Size'].fillna(big['Outlet_Size'].mode()[0])"
   ]
  },
  {
   "cell_type": "code",
   "execution_count": 322,
   "id": "d93a0c57",
   "metadata": {},
   "outputs": [
    {
     "data": {
      "text/plain": [
       "Item_Weight    0\n",
       "Outlet_Size    0\n",
       "dtype: int64"
      ]
     },
     "execution_count": 322,
     "metadata": {},
     "output_type": "execute_result"
    }
   ],
   "source": [
    "big[['Item_Weight','Outlet_Size']].isna().sum()"
   ]
  },
  {
   "cell_type": "markdown",
   "id": "b9419fe1",
   "metadata": {},
   "source": [
    "Now, our dataset is cleaned and also no null values present in our dataset."
   ]
  },
  {
   "cell_type": "markdown",
   "id": "adfa30b2",
   "metadata": {},
   "source": [
    "## EDA :"
   ]
  },
  {
   "cell_type": "markdown",
   "id": "7caeea33",
   "metadata": {},
   "source": [
    "**- Visualisation.**"
   ]
  },
  {
   "cell_type": "code",
   "execution_count": 323,
   "id": "8944ba8b",
   "metadata": {},
   "outputs": [
    {
     "data": {
      "text/plain": [
       "<AxesSubplot:xlabel='Outlet_Type', ylabel='Item_Outlet_Sales'>"
      ]
     },
     "execution_count": 323,
     "metadata": {},
     "output_type": "execute_result"
    },
    {
     "data": {
      "image/png": "[encoded data removed]",
      "text/plain": [
       "<Figure size 432x288 with 1 Axes>"
      ]
     },
     "metadata": {
      "needs_background": "light"
     },
     "output_type": "display_data"
    }
   ],
   "source": [
    "sns.scatterplot(x = 'Outlet_Type',y = 'Item_Outlet_Sales', data = big)"
   ]
  },
  {
   "cell_type": "markdown",
   "id": "96e122a7",
   "metadata": {},
   "source": [
    "**- Scatterplot between Outlet type and Item outlet sales.**\n",
    "- Supermarket Type 1, has the highest Item outlet sales.\n",
    "- Then Supermarket Type 2.\n",
    "- Lowest Item outlet sales is of Grocery Store."
   ]
  },
  {
   "cell_type": "code",
   "execution_count": 324,
   "id": "356a1c26",
   "metadata": {},
   "outputs": [
    {
     "data": {
      "text/plain": [
       "<AxesSubplot:xlabel='Item_Type', ylabel='Item_Outlet_Sales'>"
      ]
     },
     "execution_count": 324,
     "metadata": {},
     "output_type": "execute_result"
    },
    {
     "data": {
      "image/png": "[encoded data removed]",
      "text/plain": [
       "<Figure size 1800x864 with 1 Axes>"
      ]
     },
     "metadata": {
      "needs_background": "light"
     },
     "output_type": "display_data"
    }
   ],
   "source": [
    "plt.figure(figsize = (25,12))\n",
    "sns.barplot(x = 'Item_Type',y = 'Item_Outlet_Sales',data = big)"
   ]
  },
  {
   "cell_type": "markdown",
   "id": "b1c55648",
   "metadata": {},
   "source": [
    "**- Barplot between Item type and Item outle sales.**\n",
    "- Highest item outlet sales is of Seafood.\n",
    "- Lowest are Baking Goods and Health & Hygiene."
   ]
  },
  {
   "cell_type": "code",
   "execution_count": 325,
   "id": "e335a12f",
   "metadata": {},
   "outputs": [
    {
     "data": {
      "text/plain": [
       "<AxesSubplot:xlabel='Item_Type', ylabel='Item_MRP'>"
      ]
     },
     "execution_count": 325,
     "metadata": {},
     "output_type": "execute_result"
    },
    {
     "data": {
      "image/png": "[encoded data removed]",
      "text/plain": [
       "<Figure size 1800x864 with 1 Axes>"
      ]
     },
     "metadata": {
      "needs_background": "light"
     },
     "output_type": "display_data"
    }
   ],
   "source": [
    "plt.figure(figsize = (25,12))\n",
    "sns.barplot(x = 'Item_Type',y = 'Item_MRP',data = big)"
   ]
  },
  {
   "cell_type": "markdown",
   "id": "847b5562",
   "metadata": {},
   "source": [
    "**- Barplot between Item type and Item MRP.**\n",
    "- Highest MRP item is Dairy.\n",
    "- Lowest item is Baking Goods."
   ]
  },
  {
   "cell_type": "code",
   "execution_count": 326,
   "id": "f0f6c24f",
   "metadata": {},
   "outputs": [
    {
     "data": {
      "text/plain": [
       "<AxesSubplot:xlabel='Outlet_Establishment_Year', ylabel='Density'>"
      ]
     },
     "execution_count": 326,
     "metadata": {},
     "output_type": "execute_result"
    },
    {
     "data": {
      "image/png": "[encoded data removed]",
      "text/plain": [
       "<Figure size 432x288 with 1 Axes>"
      ]
     },
     "metadata": {
      "needs_background": "light"
     },
     "output_type": "display_data"
    }
   ],
   "source": [
    "sns.distplot(big['Outlet_Establishment_Year'])"
   ]
  },
  {
   "cell_type": "markdown",
   "id": "133f5317",
   "metadata": {},
   "source": [
    "**- Distplot for Outles establishment year.**\n",
    "- Most of the outlets are established between 1995 to 2000."
   ]
  },
  {
   "cell_type": "code",
   "execution_count": 327,
   "id": "e1ac83e3",
   "metadata": {},
   "outputs": [
    {
     "data": {
      "text/plain": [
       "<AxesSubplot:xlabel='Outlet_Size', ylabel='Item_Outlet_Sales'>"
      ]
     },
     "execution_count": 327,
     "metadata": {},
     "output_type": "execute_result"
    },
    {
     "data": {
      "image/png": "[encoded data removed]",
      "text/plain": [
       "<Figure size 432x288 with 1 Axes>"
      ]
     },
     "metadata": {
      "needs_background": "light"
     },
     "output_type": "display_data"
    }
   ],
   "source": [
    "sns.scatterplot(x = 'Outlet_Size',y = 'Item_Outlet_Sales',data = big)"
   ]
  },
  {
   "cell_type": "markdown",
   "id": "179e7fe0",
   "metadata": {},
   "source": [
    "**- Scatterplot between Outlet size and Item oulter sales.**\n",
    "- Small outlets has the highest sales."
   ]
  },
  {
   "cell_type": "code",
   "execution_count": 328,
   "id": "87abecc3",
   "metadata": {},
   "outputs": [
    {
     "data": {
      "text/plain": [
       "<AxesSubplot:xlabel='Item_Fat_Content', ylabel='Item_Outlet_Sales'>"
      ]
     },
     "execution_count": 328,
     "metadata": {},
     "output_type": "execute_result"
    },
    {
     "data": {
      "image/png": "[encoded data removed]",
      "text/plain": [
       "<Figure size 432x288 with 1 Axes>"
      ]
     },
     "metadata": {
      "needs_background": "light"
     },
     "output_type": "display_data"
    }
   ],
   "source": [
    "sns.scatterplot(x = 'Item_Fat_Content',y = 'Item_Outlet_Sales',data = big)"
   ]
  },
  {
   "cell_type": "markdown",
   "id": "8b1f7a73",
   "metadata": {},
   "source": [
    "**- Scatterplot between Item fat content and Item outlet sales.**\n",
    "- Regular fat item have more sale then low fat items."
   ]
  },
  {
   "cell_type": "code",
   "execution_count": 329,
   "id": "f1d4b751",
   "metadata": {},
   "outputs": [
    {
     "data": {
      "text/plain": [
       "<AxesSubplot:xlabel='Outlet_Type', ylabel='Item_Outlet_Sales'>"
      ]
     },
     "execution_count": 329,
     "metadata": {},
     "output_type": "execute_result"
    },
    {
     "data": {
      "image/png": "[encoded data removed]",
      "text/plain": [
       "<Figure size 432x288 with 1 Axes>"
      ]
     },
     "metadata": {
      "needs_background": "light"
     },
     "output_type": "display_data"
    }
   ],
   "source": [
    "sns.barplot(x = 'Outlet_Type',y = 'Item_Outlet_Sales',data =big)"
   ]
  },
  {
   "cell_type": "markdown",
   "id": "6c96edfa",
   "metadata": {},
   "source": [
    "**- Barplot between Outlet type and item outlet sales.**\n",
    "\n",
    "Top to low.\n",
    "- Supermarket type 1.\n",
    "- Supermarket type 2.\n",
    "- Grocery Store."
   ]
  },
  {
   "cell_type": "markdown",
   "id": "ecc5b8bc",
   "metadata": {},
   "source": [
    "## Encoding:"
   ]
  },
  {
   "cell_type": "code",
   "execution_count": 330,
   "id": "b685f94c",
   "metadata": {},
   "outputs": [],
   "source": [
    "big = big.drop(columns=['Outlet_Establishment_Year'])"
   ]
  },
  {
   "cell_type": "code",
   "execution_count": 331,
   "id": "f61b7a09",
   "metadata": {},
   "outputs": [],
   "source": [
    "lab = LabelEncoder()"
   ]
  },
  {
   "cell_type": "code",
   "execution_count": 332,
   "id": "a6dd8bcc",
   "metadata": {},
   "outputs": [],
   "source": [
    "big['Item_Identifier'] = lab.fit_transform(big['Item_Identifier'])\n",
    "big['Outlet_Identifier'] = lab.fit_transform(big['Outlet_Identifier'])\n",
    "big['Item_Type'] = lab.fit_transform(big['Item_Type'])\n",
    "big['Outlet_Location_Type'] = lab.fit_transform(big['Outlet_Location_Type'])\n",
    "big['Outlet_Size'] = lab.fit_transform(big['Outlet_Size'])\n",
    "big['Outlet_Type'] = lab.fit_transform(big['Outlet_Type'])"
   ]
  },
  {
   "cell_type": "code",
   "execution_count": 333,
   "id": "fe5c6e43",
   "metadata": {},
   "outputs": [],
   "source": [
    "big['Item_Fat_Content'] = big['Item_Fat_Content'].replace('Low Fat',0)\n",
    "big['Item_Fat_Content'] = big['Item_Fat_Content'].replace('LF',0)\n",
    "big['Item_Fat_Content'] = big['Item_Fat_Content'].replace('low fat',0)"
   ]
  },
  {
   "cell_type": "code",
   "execution_count": 334,
   "id": "957c9838",
   "metadata": {},
   "outputs": [],
   "source": [
    "big['Item_Fat_Content'] = big['Item_Fat_Content'].replace('Regular',1)\n",
    "big['Item_Fat_Content'] = big['Item_Fat_Content'].replace('reg',1)"
   ]
  },
  {
   "cell_type": "code",
   "execution_count": 335,
   "id": "680c4f38",
   "metadata": {},
   "outputs": [
    {
     "data": {
      "text/html": [
       "<div>\n",
       "<style scoped>\n",
       "    .dataframe tbody tr th:only-of-type {\n",
       "        vertical-align: middle;\n",
       "    }\n",
       "\n",
       "    .dataframe tbody tr th {\n",
       "        vertical-align: top;\n",
       "    }\n",
       "\n",
       "    .dataframe thead th {\n",
       "        text-align: right;\n",
       "    }\n",
       "</style>\n",
       "<table border=\"1\" class=\"dataframe\">\n",
       "  <thead>\n",
       "    <tr style=\"text-align: right;\">\n",
       "      <th></th>\n",
       "      <th>Item_Identifier</th>\n",
       "      <th>Item_Weight</th>\n",
       "      <th>Item_Fat_Content</th>\n",
       "      <th>Item_Visibility</th>\n",
       "      <th>Item_Type</th>\n",
       "      <th>Item_MRP</th>\n",
       "      <th>Outlet_Identifier</th>\n",
       "      <th>Outlet_Size</th>\n",
       "      <th>Outlet_Location_Type</th>\n",
       "      <th>Outlet_Type</th>\n",
       "      <th>Item_Outlet_Sales</th>\n",
       "    </tr>\n",
       "  </thead>\n",
       "  <tbody>\n",
       "    <tr>\n",
       "      <th>0</th>\n",
       "      <td>156</td>\n",
       "      <td>9.30</td>\n",
       "      <td>0</td>\n",
       "      <td>0.016047</td>\n",
       "      <td>4</td>\n",
       "      <td>249.8092</td>\n",
       "      <td>7</td>\n",
       "      <td>1</td>\n",
       "      <td>0</td>\n",
       "      <td>1</td>\n",
       "      <td>3735.1380</td>\n",
       "    </tr>\n",
       "    <tr>\n",
       "      <th>1</th>\n",
       "      <td>8</td>\n",
       "      <td>5.92</td>\n",
       "      <td>1</td>\n",
       "      <td>0.019278</td>\n",
       "      <td>14</td>\n",
       "      <td>48.2692</td>\n",
       "      <td>3</td>\n",
       "      <td>1</td>\n",
       "      <td>2</td>\n",
       "      <td>2</td>\n",
       "      <td>443.4228</td>\n",
       "    </tr>\n",
       "    <tr>\n",
       "      <th>2</th>\n",
       "      <td>660</td>\n",
       "      <td>17.50</td>\n",
       "      <td>0</td>\n",
       "      <td>0.016760</td>\n",
       "      <td>10</td>\n",
       "      <td>141.6180</td>\n",
       "      <td>7</td>\n",
       "      <td>1</td>\n",
       "      <td>0</td>\n",
       "      <td>1</td>\n",
       "      <td>2097.2700</td>\n",
       "    </tr>\n",
       "    <tr>\n",
       "      <th>3</th>\n",
       "      <td>1117</td>\n",
       "      <td>19.20</td>\n",
       "      <td>1</td>\n",
       "      <td>0.000000</td>\n",
       "      <td>6</td>\n",
       "      <td>182.0950</td>\n",
       "      <td>0</td>\n",
       "      <td>2</td>\n",
       "      <td>2</td>\n",
       "      <td>0</td>\n",
       "      <td>732.3800</td>\n",
       "    </tr>\n",
       "    <tr>\n",
       "      <th>4</th>\n",
       "      <td>1293</td>\n",
       "      <td>8.93</td>\n",
       "      <td>0</td>\n",
       "      <td>0.000000</td>\n",
       "      <td>9</td>\n",
       "      <td>53.8614</td>\n",
       "      <td>1</td>\n",
       "      <td>0</td>\n",
       "      <td>2</td>\n",
       "      <td>1</td>\n",
       "      <td>994.7052</td>\n",
       "    </tr>\n",
       "  </tbody>\n",
       "</table>\n",
       "</div>"
      ],
      "text/plain": [
       "   Item_Identifier  Item_Weight  Item_Fat_Content  Item_Visibility  Item_Type  \\\n",
       "0              156         9.30                 0         0.016047          4   \n",
       "1                8         5.92                 1         0.019278         14   \n",
       "2              660        17.50                 0         0.016760         10   \n",
       "3             1117        19.20                 1         0.000000          6   \n",
       "4             1293         8.93                 0         0.000000          9   \n",
       "\n",
       "   Item_MRP  Outlet_Identifier  Outlet_Size  Outlet_Location_Type  \\\n",
       "0  249.8092                  7            1                     0   \n",
       "1   48.2692                  3            1                     2   \n",
       "2  141.6180                  7            1                     0   \n",
       "3  182.0950                  0            2                     2   \n",
       "4   53.8614                  1            0                     2   \n",
       "\n",
       "   Outlet_Type  Item_Outlet_Sales  \n",
       "0            1          3735.1380  \n",
       "1            2           443.4228  \n",
       "2            1          2097.2700  \n",
       "3            0           732.3800  \n",
       "4            1           994.7052  "
      ]
     },
     "execution_count": 335,
     "metadata": {},
     "output_type": "execute_result"
    }
   ],
   "source": [
    "big.head()"
   ]
  },
  {
   "cell_type": "markdown",
   "id": "1a541cd3",
   "metadata": {},
   "source": [
    "Final and cleaned dataset."
   ]
  },
  {
   "cell_type": "markdown",
   "id": "b6f1b784",
   "metadata": {},
   "source": [
    "**- Outliers :**"
   ]
  },
  {
   "cell_type": "code",
   "execution_count": 240,
   "id": "939b4069",
   "metadata": {},
   "outputs": [
    {
     "data": {
      "image/png": "[encoded data removed]",
      "text/plain": [
       "<Figure size 720x1080 with 11 Axes>"
      ]
     },
     "metadata": {
      "needs_background": "light"
     },
     "output_type": "display_data"
    }
   ],
   "source": [
    "plt.figure(figsize = (10,15))\n",
    "graph = 1\n",
    "for column in big:\n",
    "    if graph <= 12:\n",
    "        plt.subplot(4,3,graph)\n",
    "        ax = sns.boxplot(data = big[column])\n",
    "        plt.xlabel(column)\n",
    "    graph += 1\n",
    "plt.show()"
   ]
  },
  {
   "cell_type": "markdown",
   "id": "c637bc9f",
   "metadata": {},
   "source": [
    "Outliers are present in Item_Visibility,Outlet_Type,Item_Outlet_Sales"
   ]
  },
  {
   "cell_type": "markdown",
   "id": "896284aa",
   "metadata": {},
   "source": [
    "But removing outliers on for Item_Visibility, as Outlet_Type has the categorical data and Item_Outlet_Sales is our target column."
   ]
  },
  {
   "cell_type": "code",
   "execution_count": 340,
   "id": "fbb6f6eb",
   "metadata": {},
   "outputs": [],
   "source": [
    "q1 = big.quantile(0.25)\n",
    "q3 = big.quantile(0.75)\n",
    "iqr = q3 - q1"
   ]
  },
  {
   "cell_type": "code",
   "execution_count": 344,
   "id": "716ed3bd",
   "metadata": {},
   "outputs": [
    {
     "name": "stdout",
     "output_type": "stream",
     "text": [
      "0.19178187337499997\n",
      "(array([  52,  145,  406,  421,  431,  561,  785, 1035, 1051, 1070, 1223,\n",
      "       1349, 1356, 1443, 1517, 1717, 1722, 1753, 1931, 1939, 2032, 2274,\n",
      "       2383, 2501, 2644, 2784, 2836, 2913, 2921, 3311, 3527, 3536, 3643,\n",
      "       3689, 3792, 3890, 4000, 4051, 4131, 4169, 4210, 4227, 4234, 4255,\n",
      "       4307, 4414, 4477, 4485, 4540, 4702, 4777, 4820, 4863, 4904, 5004,\n",
      "       5447, 5478, 5537, 5558, 5560, 5690, 5753, 5798, 5826, 5912, 5995,\n",
      "       6023, 6134, 6336, 6931, 6984, 7046]),)\n",
      "(6988, 11)\n"
     ]
    },
    {
     "data": {
      "text/html": [
       "<div>\n",
       "<style scoped>\n",
       "    .dataframe tbody tr th:only-of-type {\n",
       "        vertical-align: middle;\n",
       "    }\n",
       "\n",
       "    .dataframe tbody tr th {\n",
       "        vertical-align: top;\n",
       "    }\n",
       "\n",
       "    .dataframe thead th {\n",
       "        text-align: right;\n",
       "    }\n",
       "</style>\n",
       "<table border=\"1\" class=\"dataframe\">\n",
       "  <thead>\n",
       "    <tr style=\"text-align: right;\">\n",
       "      <th></th>\n",
       "      <th>index</th>\n",
       "      <th>Item_Identifier</th>\n",
       "      <th>Item_Weight</th>\n",
       "      <th>Item_Fat_Content</th>\n",
       "      <th>Item_Visibility</th>\n",
       "      <th>Item_Type</th>\n",
       "      <th>Item_MRP</th>\n",
       "      <th>Outlet_Identifier</th>\n",
       "      <th>Outlet_Size</th>\n",
       "      <th>Outlet_Location_Type</th>\n",
       "      <th>Outlet_Type</th>\n",
       "      <th>Item_Outlet_Sales</th>\n",
       "    </tr>\n",
       "  </thead>\n",
       "  <tbody>\n",
       "    <tr>\n",
       "      <th>0</th>\n",
       "      <td>0</td>\n",
       "      <td>156</td>\n",
       "      <td>9.300</td>\n",
       "      <td>0</td>\n",
       "      <td>0.016047</td>\n",
       "      <td>4</td>\n",
       "      <td>249.8092</td>\n",
       "      <td>7</td>\n",
       "      <td>1</td>\n",
       "      <td>0</td>\n",
       "      <td>1</td>\n",
       "      <td>3735.1380</td>\n",
       "    </tr>\n",
       "    <tr>\n",
       "      <th>1</th>\n",
       "      <td>1</td>\n",
       "      <td>8</td>\n",
       "      <td>5.920</td>\n",
       "      <td>1</td>\n",
       "      <td>0.019278</td>\n",
       "      <td>14</td>\n",
       "      <td>48.2692</td>\n",
       "      <td>3</td>\n",
       "      <td>1</td>\n",
       "      <td>2</td>\n",
       "      <td>2</td>\n",
       "      <td>443.4228</td>\n",
       "    </tr>\n",
       "    <tr>\n",
       "      <th>2</th>\n",
       "      <td>2</td>\n",
       "      <td>660</td>\n",
       "      <td>17.500</td>\n",
       "      <td>0</td>\n",
       "      <td>0.016760</td>\n",
       "      <td>10</td>\n",
       "      <td>141.6180</td>\n",
       "      <td>7</td>\n",
       "      <td>1</td>\n",
       "      <td>0</td>\n",
       "      <td>1</td>\n",
       "      <td>2097.2700</td>\n",
       "    </tr>\n",
       "    <tr>\n",
       "      <th>3</th>\n",
       "      <td>3</td>\n",
       "      <td>1117</td>\n",
       "      <td>19.200</td>\n",
       "      <td>1</td>\n",
       "      <td>0.000000</td>\n",
       "      <td>6</td>\n",
       "      <td>182.0950</td>\n",
       "      <td>0</td>\n",
       "      <td>2</td>\n",
       "      <td>2</td>\n",
       "      <td>0</td>\n",
       "      <td>732.3800</td>\n",
       "    </tr>\n",
       "    <tr>\n",
       "      <th>4</th>\n",
       "      <td>4</td>\n",
       "      <td>1293</td>\n",
       "      <td>8.930</td>\n",
       "      <td>0</td>\n",
       "      <td>0.000000</td>\n",
       "      <td>9</td>\n",
       "      <td>53.8614</td>\n",
       "      <td>1</td>\n",
       "      <td>0</td>\n",
       "      <td>2</td>\n",
       "      <td>1</td>\n",
       "      <td>994.7052</td>\n",
       "    </tr>\n",
       "    <tr>\n",
       "      <th>...</th>\n",
       "      <td>...</td>\n",
       "      <td>...</td>\n",
       "      <td>...</td>\n",
       "      <td>...</td>\n",
       "      <td>...</td>\n",
       "      <td>...</td>\n",
       "      <td>...</td>\n",
       "      <td>...</td>\n",
       "      <td>...</td>\n",
       "      <td>...</td>\n",
       "      <td>...</td>\n",
       "      <td>...</td>\n",
       "    </tr>\n",
       "    <tr>\n",
       "      <th>6983</th>\n",
       "      <td>8518</td>\n",
       "      <td>369</td>\n",
       "      <td>6.865</td>\n",
       "      <td>0</td>\n",
       "      <td>0.056783</td>\n",
       "      <td>13</td>\n",
       "      <td>214.5218</td>\n",
       "      <td>1</td>\n",
       "      <td>0</td>\n",
       "      <td>2</td>\n",
       "      <td>1</td>\n",
       "      <td>2778.3834</td>\n",
       "    </tr>\n",
       "    <tr>\n",
       "      <th>6984</th>\n",
       "      <td>8519</td>\n",
       "      <td>893</td>\n",
       "      <td>8.380</td>\n",
       "      <td>1</td>\n",
       "      <td>0.046982</td>\n",
       "      <td>0</td>\n",
       "      <td>108.1570</td>\n",
       "      <td>5</td>\n",
       "      <td>2</td>\n",
       "      <td>1</td>\n",
       "      <td>1</td>\n",
       "      <td>549.2850</td>\n",
       "    </tr>\n",
       "    <tr>\n",
       "      <th>6985</th>\n",
       "      <td>8520</td>\n",
       "      <td>1353</td>\n",
       "      <td>10.600</td>\n",
       "      <td>0</td>\n",
       "      <td>0.035186</td>\n",
       "      <td>8</td>\n",
       "      <td>85.1224</td>\n",
       "      <td>4</td>\n",
       "      <td>2</td>\n",
       "      <td>1</td>\n",
       "      <td>1</td>\n",
       "      <td>1193.1136</td>\n",
       "    </tr>\n",
       "    <tr>\n",
       "      <th>6986</th>\n",
       "      <td>8521</td>\n",
       "      <td>679</td>\n",
       "      <td>7.210</td>\n",
       "      <td>1</td>\n",
       "      <td>0.145221</td>\n",
       "      <td>13</td>\n",
       "      <td>103.1332</td>\n",
       "      <td>3</td>\n",
       "      <td>1</td>\n",
       "      <td>2</td>\n",
       "      <td>2</td>\n",
       "      <td>1845.5976</td>\n",
       "    </tr>\n",
       "    <tr>\n",
       "      <th>6987</th>\n",
       "      <td>8522</td>\n",
       "      <td>50</td>\n",
       "      <td>14.800</td>\n",
       "      <td>0</td>\n",
       "      <td>0.044878</td>\n",
       "      <td>14</td>\n",
       "      <td>75.4670</td>\n",
       "      <td>6</td>\n",
       "      <td>2</td>\n",
       "      <td>0</td>\n",
       "      <td>1</td>\n",
       "      <td>765.6700</td>\n",
       "    </tr>\n",
       "  </tbody>\n",
       "</table>\n",
       "<p>6988 rows × 12 columns</p>\n",
       "</div>"
      ],
      "text/plain": [
       "      index  Item_Identifier  Item_Weight  Item_Fat_Content  Item_Visibility  \\\n",
       "0         0              156        9.300                 0         0.016047   \n",
       "1         1                8        5.920                 1         0.019278   \n",
       "2         2              660       17.500                 0         0.016760   \n",
       "3         3             1117       19.200                 1         0.000000   \n",
       "4         4             1293        8.930                 0         0.000000   \n",
       "...     ...              ...          ...               ...              ...   \n",
       "6983   8518              369        6.865                 0         0.056783   \n",
       "6984   8519              893        8.380                 1         0.046982   \n",
       "6985   8520             1353       10.600                 0         0.035186   \n",
       "6986   8521              679        7.210                 1         0.145221   \n",
       "6987   8522               50       14.800                 0         0.044878   \n",
       "\n",
       "      Item_Type  Item_MRP  Outlet_Identifier  Outlet_Size  \\\n",
       "0             4  249.8092                  7            1   \n",
       "1            14   48.2692                  3            1   \n",
       "2            10  141.6180                  7            1   \n",
       "3             6  182.0950                  0            2   \n",
       "4             9   53.8614                  1            0   \n",
       "...         ...       ...                ...          ...   \n",
       "6983         13  214.5218                  1            0   \n",
       "6984          0  108.1570                  5            2   \n",
       "6985          8   85.1224                  4            2   \n",
       "6986         13  103.1332                  3            1   \n",
       "6987         14   75.4670                  6            2   \n",
       "\n",
       "      Outlet_Location_Type  Outlet_Type  Item_Outlet_Sales  \n",
       "0                        0            1          3735.1380  \n",
       "1                        2            2           443.4228  \n",
       "2                        0            1          2097.2700  \n",
       "3                        2            0           732.3800  \n",
       "4                        2            1           994.7052  \n",
       "...                    ...          ...                ...  \n",
       "6983                     2            1          2778.3834  \n",
       "6984                     1            1           549.2850  \n",
       "6985                     1            1          1193.1136  \n",
       "6986                     2            2          1845.5976  \n",
       "6987                     0            1           765.6700  \n",
       "\n",
       "[6988 rows x 12 columns]"
      ]
     },
     "execution_count": 344,
     "metadata": {},
     "output_type": "execute_result"
    }
   ],
   "source": [
    "high = (q3.Item_Visibility + (1.5 * iqr.Item_Visibility))\n",
    "print(high)\n",
    "\n",
    "index = np.where(big['Item_Visibility'] > high)\n",
    "print(index)\n",
    "\n",
    "big = big.drop(big.index[index])\n",
    "print(big.shape)\n",
    "\n",
    "big.reset_index()"
   ]
  },
  {
   "cell_type": "code",
   "execution_count": 346,
   "id": "b1d277c1",
   "metadata": {},
   "outputs": [
    {
     "data": {
      "text/plain": [
       "<AxesSubplot:xlabel='Item_Visibility'>"
      ]
     },
     "execution_count": 346,
     "metadata": {},
     "output_type": "execute_result"
    },
    {
     "data": {
      "image/png": "[encoded data removed]",
      "text/plain": [
       "<Figure size 432x288 with 1 Axes>"
      ]
     },
     "metadata": {
      "needs_background": "light"
     },
     "output_type": "display_data"
    }
   ],
   "source": [
    "sns.boxplot(big['Item_Visibility'])"
   ]
  },
  {
   "cell_type": "markdown",
   "id": "bfaf8d91",
   "metadata": {},
   "source": [
    "After removing outliers."
   ]
  },
  {
   "cell_type": "markdown",
   "id": "7e8ede06",
   "metadata": {},
   "source": [
    "## Correlation."
   ]
  },
  {
   "cell_type": "code",
   "execution_count": 347,
   "id": "8a5e6186",
   "metadata": {},
   "outputs": [],
   "source": [
    "df_corr = big.corr().abs()"
   ]
  },
  {
   "cell_type": "code",
   "execution_count": 348,
   "id": "fa960286",
   "metadata": {},
   "outputs": [
    {
     "data": {
      "image/png": "[encoded data removed]",
      "text/plain": [
       "<Figure size 1080x1080 with 2 Axes>"
      ]
     },
     "metadata": {
      "needs_background": "light"
     },
     "output_type": "display_data"
    }
   ],
   "source": [
    "plt.figure(figsize = (15,15))\n",
    "sns.heatmap(df_corr, annot = True)\n",
    "plt.show()"
   ]
  },
  {
   "cell_type": "markdown",
   "id": "2c39696e",
   "metadata": {},
   "source": [
    "- Outlet_Location_Type and Outlet_Identifier, are correlated columns, so droping one of the column."
   ]
  },
  {
   "cell_type": "code",
   "execution_count": 349,
   "id": "8905998d",
   "metadata": {},
   "outputs": [],
   "source": [
    "big = big.drop(columns = ['Outlet_Location_Type'])"
   ]
  },
  {
   "cell_type": "code",
   "execution_count": 350,
   "id": "fe51ca57",
   "metadata": {},
   "outputs": [
    {
     "data": {
      "text/html": [
       "<div>\n",
       "<style scoped>\n",
       "    .dataframe tbody tr th:only-of-type {\n",
       "        vertical-align: middle;\n",
       "    }\n",
       "\n",
       "    .dataframe tbody tr th {\n",
       "        vertical-align: top;\n",
       "    }\n",
       "\n",
       "    .dataframe thead th {\n",
       "        text-align: right;\n",
       "    }\n",
       "</style>\n",
       "<table border=\"1\" class=\"dataframe\">\n",
       "  <thead>\n",
       "    <tr style=\"text-align: right;\">\n",
       "      <th></th>\n",
       "      <th>Item_Identifier</th>\n",
       "      <th>Item_Weight</th>\n",
       "      <th>Item_Fat_Content</th>\n",
       "      <th>Item_Visibility</th>\n",
       "      <th>Item_Type</th>\n",
       "      <th>Item_MRP</th>\n",
       "      <th>Outlet_Identifier</th>\n",
       "      <th>Outlet_Size</th>\n",
       "      <th>Outlet_Type</th>\n",
       "      <th>Item_Outlet_Sales</th>\n",
       "    </tr>\n",
       "  </thead>\n",
       "  <tbody>\n",
       "    <tr>\n",
       "      <th>0</th>\n",
       "      <td>156</td>\n",
       "      <td>9.30</td>\n",
       "      <td>0</td>\n",
       "      <td>0.016047</td>\n",
       "      <td>4</td>\n",
       "      <td>249.8092</td>\n",
       "      <td>7</td>\n",
       "      <td>1</td>\n",
       "      <td>1</td>\n",
       "      <td>3735.1380</td>\n",
       "    </tr>\n",
       "    <tr>\n",
       "      <th>1</th>\n",
       "      <td>8</td>\n",
       "      <td>5.92</td>\n",
       "      <td>1</td>\n",
       "      <td>0.019278</td>\n",
       "      <td>14</td>\n",
       "      <td>48.2692</td>\n",
       "      <td>3</td>\n",
       "      <td>1</td>\n",
       "      <td>2</td>\n",
       "      <td>443.4228</td>\n",
       "    </tr>\n",
       "    <tr>\n",
       "      <th>2</th>\n",
       "      <td>660</td>\n",
       "      <td>17.50</td>\n",
       "      <td>0</td>\n",
       "      <td>0.016760</td>\n",
       "      <td>10</td>\n",
       "      <td>141.6180</td>\n",
       "      <td>7</td>\n",
       "      <td>1</td>\n",
       "      <td>1</td>\n",
       "      <td>2097.2700</td>\n",
       "    </tr>\n",
       "    <tr>\n",
       "      <th>3</th>\n",
       "      <td>1117</td>\n",
       "      <td>19.20</td>\n",
       "      <td>1</td>\n",
       "      <td>0.000000</td>\n",
       "      <td>6</td>\n",
       "      <td>182.0950</td>\n",
       "      <td>0</td>\n",
       "      <td>2</td>\n",
       "      <td>0</td>\n",
       "      <td>732.3800</td>\n",
       "    </tr>\n",
       "    <tr>\n",
       "      <th>4</th>\n",
       "      <td>1293</td>\n",
       "      <td>8.93</td>\n",
       "      <td>0</td>\n",
       "      <td>0.000000</td>\n",
       "      <td>9</td>\n",
       "      <td>53.8614</td>\n",
       "      <td>1</td>\n",
       "      <td>0</td>\n",
       "      <td>1</td>\n",
       "      <td>994.7052</td>\n",
       "    </tr>\n",
       "  </tbody>\n",
       "</table>\n",
       "</div>"
      ],
      "text/plain": [
       "   Item_Identifier  Item_Weight  Item_Fat_Content  Item_Visibility  Item_Type  \\\n",
       "0              156         9.30                 0         0.016047          4   \n",
       "1                8         5.92                 1         0.019278         14   \n",
       "2              660        17.50                 0         0.016760         10   \n",
       "3             1117        19.20                 1         0.000000          6   \n",
       "4             1293         8.93                 0         0.000000          9   \n",
       "\n",
       "   Item_MRP  Outlet_Identifier  Outlet_Size  Outlet_Type  Item_Outlet_Sales  \n",
       "0  249.8092                  7            1            1          3735.1380  \n",
       "1   48.2692                  3            1            2           443.4228  \n",
       "2  141.6180                  7            1            1          2097.2700  \n",
       "3  182.0950                  0            2            0           732.3800  \n",
       "4   53.8614                  1            0            1           994.7052  "
      ]
     },
     "execution_count": 350,
     "metadata": {},
     "output_type": "execute_result"
    }
   ],
   "source": [
    "big.head()"
   ]
  },
  {
   "cell_type": "markdown",
   "id": "10270aaf",
   "metadata": {},
   "source": [
    "**- Seperating Features and Target columns.**"
   ]
  },
  {
   "cell_type": "code",
   "execution_count": 351,
   "id": "af9f2971",
   "metadata": {},
   "outputs": [],
   "source": [
    "x = big.drop('Item_Outlet_Sales',axis = 1)\n",
    "y = big.Item_Outlet_Sales"
   ]
  },
  {
   "cell_type": "markdown",
   "id": "fe7dde6d",
   "metadata": {},
   "source": [
    "**- Using Standard scaler on features to scale the values.**"
   ]
  },
  {
   "cell_type": "code",
   "execution_count": 352,
   "id": "98becdd6",
   "metadata": {},
   "outputs": [],
   "source": [
    "scaler = StandardScaler()\n",
    "x_scaled = scaler.fit_transform(x)"
   ]
  },
  {
   "cell_type": "markdown",
   "id": "2d7714d7",
   "metadata": {},
   "source": [
    "## Training the Model"
   ]
  },
  {
   "cell_type": "markdown",
   "id": "0a236b1b",
   "metadata": {},
   "source": [
    "**- Train Test Split.**"
   ]
  },
  {
   "cell_type": "code",
   "execution_count": 353,
   "id": "350dacae",
   "metadata": {},
   "outputs": [],
   "source": [
    "x_train,x_test,y_train,y_test = train_test_split(x_scaled, y, test_size = 0.25, random_state = 4 )"
   ]
  },
  {
   "cell_type": "markdown",
   "id": "0fef364e",
   "metadata": {},
   "source": [
    "**- Creating The function for the training and testing score, so that, we can get the results just by calling the function.**"
   ]
  },
  {
   "cell_type": "code",
   "execution_count": 362,
   "id": "f52fbd8e",
   "metadata": {},
   "outputs": [],
   "source": [
    "def score(reg, x_train, x_test, y_train, y_test, train = True):\n",
    "    if train:\n",
    "        y_pred = reg.predict(x_train)\n",
    "        print('\\n ----- Train Result ----- \\n')\n",
    "        print('R2 Score:', metrics.r2_score(y_train,y_pred))\n",
    "    \n",
    "    elif train == False:\n",
    "        pred = reg.predict(x_test)\n",
    "        print('\\n ----- Test Result ----- \\n')\n",
    "        print('R2 Score:', metrics.r2_score(y_test,pred))\n",
    "        print('\\n Scatter Plot \\n')\n",
    "        plt.scatter(y_test, pred)\n",
    "        plt.xlabel(\"Actual Sales\")\n",
    "        plt.ylabel(\"Predicted Sales\")\n",
    "        plt.title(\"Actual VS Prediction\")\n",
    "        plt.show()"
   ]
  },
  {
   "cell_type": "markdown",
   "id": "7bc9c86d",
   "metadata": {},
   "source": [
    "**- Model Instantiating.**"
   ]
  },
  {
   "cell_type": "code",
   "execution_count": 363,
   "id": "6403c717",
   "metadata": {},
   "outputs": [],
   "source": [
    "knn = KNeighborsRegressor()\n",
    "gbr = GradientBoostingRegressor()\n",
    "ada = AdaBoostRegressor()\n",
    "rf = RandomForestRegressor()"
   ]
  },
  {
   "cell_type": "markdown",
   "id": "1362eb06",
   "metadata": {},
   "source": [
    "**- KNeighborsRegressor Model.**"
   ]
  },
  {
   "cell_type": "code",
   "execution_count": 364,
   "id": "439479db",
   "metadata": {},
   "outputs": [
    {
     "name": "stdout",
     "output_type": "stream",
     "text": [
      "\n",
      " ----- Train Result ----- \n",
      "\n",
      "R2 Score: 0.6162003580529608\n",
      "\n",
      " ----- Test Result ----- \n",
      "\n",
      "R2 Score: 0.39531407030287113\n",
      "\n",
      " Scatter Plot \n",
      "\n"
     ]
    },
    {
     "data": {
      "image/png": "[encoded data removed]",
      "text/plain": [
       "<Figure size 432x288 with 1 Axes>"
      ]
     },
     "metadata": {
      "needs_background": "light"
     },
     "output_type": "display_data"
    }
   ],
   "source": [
    "knn.fit(x_train,y_train)\n",
    "score(knn, x_train,x_test,y_train,y_test,train = True)\n",
    "score(knn, x_train,x_test,y_train,y_test,train = False)"
   ]
  },
  {
   "cell_type": "markdown",
   "id": "f17959e5",
   "metadata": {},
   "source": [
    "**- GradientBoostingRegressor Model.**"
   ]
  },
  {
   "cell_type": "code",
   "execution_count": 365,
   "id": "1097a83e",
   "metadata": {},
   "outputs": [
    {
     "name": "stdout",
     "output_type": "stream",
     "text": [
      "\n",
      " ----- Train Result ----- \n",
      "\n",
      "R2 Score: 0.5715243083380075\n",
      "\n",
      " ----- Test Result ----- \n",
      "\n",
      "R2 Score: 0.4851345523333681\n",
      "\n",
      " Scatter Plot \n",
      "\n"
     ]
    },
    {
     "data": {
      "image/png": "[encoded data removed]",
      "text/plain": [
       "<Figure size 432x288 with 1 Axes>"
      ]
     },
     "metadata": {
      "needs_background": "light"
     },
     "output_type": "display_data"
    }
   ],
   "source": [
    "gbr.fit(x_train,y_train)\n",
    "score(gbr, x_train,x_test,y_train,y_test,train = True)\n",
    "score(gbr, x_train,x_test,y_train,y_test,train = False)"
   ]
  },
  {
   "cell_type": "markdown",
   "id": "01643543",
   "metadata": {},
   "source": [
    "**- AdaBoostRegressor Model.**"
   ]
  },
  {
   "cell_type": "code",
   "execution_count": 366,
   "id": "248b509a",
   "metadata": {},
   "outputs": [
    {
     "name": "stdout",
     "output_type": "stream",
     "text": [
      "\n",
      " ----- Train Result ----- \n",
      "\n",
      "R2 Score: 0.48711039544313794\n",
      "\n",
      " ----- Test Result ----- \n",
      "\n",
      "R2 Score: 0.44123297458143507\n",
      "\n",
      " Scatter Plot \n",
      "\n"
     ]
    },
    {
     "data": {
      "image/png": "[encoded data removed]",
      "text/plain": [
       "<Figure size 432x288 with 1 Axes>"
      ]
     },
     "metadata": {
      "needs_background": "light"
     },
     "output_type": "display_data"
    }
   ],
   "source": [
    "ada.fit(x_train,y_train)\n",
    "score(ada, x_train,x_test,y_train,y_test,train = True)\n",
    "score(ada, x_train,x_test,y_train,y_test,train = False)"
   ]
  },
  {
   "cell_type": "markdown",
   "id": "ac5aba76",
   "metadata": {},
   "source": [
    "**- RandomForestRegressor Model.**"
   ]
  },
  {
   "cell_type": "code",
   "execution_count": 367,
   "id": "4229055c",
   "metadata": {},
   "outputs": [
    {
     "name": "stdout",
     "output_type": "stream",
     "text": [
      "\n",
      " ----- Train Result ----- \n",
      "\n",
      "R2 Score: 0.9255982502113707\n",
      "\n",
      " ----- Test Result ----- \n",
      "\n",
      "R2 Score: 0.43323444356243335\n",
      "\n",
      " Scatter Plot \n",
      "\n"
     ]
    },
    {
     "data": {
      "image/png": "[encoded data removed]",
      "text/plain": [
       "<Figure size 432x288 with 1 Axes>"
      ]
     },
     "metadata": {
      "needs_background": "light"
     },
     "output_type": "display_data"
    }
   ],
   "source": [
    "rf.fit(x_train,y_train)\n",
    "score(rf, x_train,x_test,y_train,y_test,train = True)\n",
    "score(rf, x_train,x_test,y_train,y_test,train = False)"
   ]
  },
  {
   "cell_type": "markdown",
   "id": "01839362",
   "metadata": {},
   "source": [
    "GradientBoostingRegressor Model gives the best training and testing score among all."
   ]
  },
  {
   "cell_type": "markdown",
   "id": "1cb4652c",
   "metadata": {},
   "source": [
    "## Test Dataset."
   ]
  },
  {
   "cell_type": "code",
   "execution_count": 374,
   "id": "294ccb39",
   "metadata": {},
   "outputs": [
    {
     "data": {
      "text/html": [
       "<div>\n",
       "<style scoped>\n",
       "    .dataframe tbody tr th:only-of-type {\n",
       "        vertical-align: middle;\n",
       "    }\n",
       "\n",
       "    .dataframe tbody tr th {\n",
       "        vertical-align: top;\n",
       "    }\n",
       "\n",
       "    .dataframe thead th {\n",
       "        text-align: right;\n",
       "    }\n",
       "</style>\n",
       "<table border=\"1\" class=\"dataframe\">\n",
       "  <thead>\n",
       "    <tr style=\"text-align: right;\">\n",
       "      <th></th>\n",
       "      <th>Item_Identifier</th>\n",
       "      <th>Item_Weight</th>\n",
       "      <th>Item_Fat_Content</th>\n",
       "      <th>Item_Visibility</th>\n",
       "      <th>Item_Type</th>\n",
       "      <th>Item_MRP</th>\n",
       "      <th>Outlet_Identifier</th>\n",
       "      <th>Outlet_Establishment_Year</th>\n",
       "      <th>Outlet_Size</th>\n",
       "      <th>Outlet_Location_Type</th>\n",
       "      <th>Outlet_Type</th>\n",
       "    </tr>\n",
       "  </thead>\n",
       "  <tbody>\n",
       "    <tr>\n",
       "      <th>0</th>\n",
       "      <td>FDW58</td>\n",
       "      <td>20.750</td>\n",
       "      <td>Low Fat</td>\n",
       "      <td>0.007565</td>\n",
       "      <td>Snack Foods</td>\n",
       "      <td>107.8622</td>\n",
       "      <td>OUT049</td>\n",
       "      <td>1999</td>\n",
       "      <td>Medium</td>\n",
       "      <td>Tier 1</td>\n",
       "      <td>Supermarket Type1</td>\n",
       "    </tr>\n",
       "    <tr>\n",
       "      <th>1</th>\n",
       "      <td>FDW14</td>\n",
       "      <td>8.300</td>\n",
       "      <td>reg</td>\n",
       "      <td>0.038428</td>\n",
       "      <td>Dairy</td>\n",
       "      <td>87.3198</td>\n",
       "      <td>OUT017</td>\n",
       "      <td>2007</td>\n",
       "      <td>NaN</td>\n",
       "      <td>Tier 2</td>\n",
       "      <td>Supermarket Type1</td>\n",
       "    </tr>\n",
       "    <tr>\n",
       "      <th>2</th>\n",
       "      <td>NCN55</td>\n",
       "      <td>14.600</td>\n",
       "      <td>Low Fat</td>\n",
       "      <td>0.099575</td>\n",
       "      <td>Others</td>\n",
       "      <td>241.7538</td>\n",
       "      <td>OUT010</td>\n",
       "      <td>1998</td>\n",
       "      <td>NaN</td>\n",
       "      <td>Tier 3</td>\n",
       "      <td>Grocery Store</td>\n",
       "    </tr>\n",
       "    <tr>\n",
       "      <th>3</th>\n",
       "      <td>FDQ58</td>\n",
       "      <td>7.315</td>\n",
       "      <td>Low Fat</td>\n",
       "      <td>0.015388</td>\n",
       "      <td>Snack Foods</td>\n",
       "      <td>155.0340</td>\n",
       "      <td>OUT017</td>\n",
       "      <td>2007</td>\n",
       "      <td>NaN</td>\n",
       "      <td>Tier 2</td>\n",
       "      <td>Supermarket Type1</td>\n",
       "    </tr>\n",
       "    <tr>\n",
       "      <th>4</th>\n",
       "      <td>FDY38</td>\n",
       "      <td>NaN</td>\n",
       "      <td>Regular</td>\n",
       "      <td>0.118599</td>\n",
       "      <td>Dairy</td>\n",
       "      <td>234.2300</td>\n",
       "      <td>OUT027</td>\n",
       "      <td>1985</td>\n",
       "      <td>Medium</td>\n",
       "      <td>Tier 3</td>\n",
       "      <td>Supermarket Type3</td>\n",
       "    </tr>\n",
       "  </tbody>\n",
       "</table>\n",
       "</div>"
      ],
      "text/plain": [
       "  Item_Identifier  Item_Weight Item_Fat_Content  Item_Visibility    Item_Type  \\\n",
       "0           FDW58       20.750          Low Fat         0.007565  Snack Foods   \n",
       "1           FDW14        8.300              reg         0.038428        Dairy   \n",
       "2           NCN55       14.600          Low Fat         0.099575       Others   \n",
       "3           FDQ58        7.315          Low Fat         0.015388  Snack Foods   \n",
       "4           FDY38          NaN          Regular         0.118599        Dairy   \n",
       "\n",
       "   Item_MRP Outlet_Identifier  Outlet_Establishment_Year Outlet_Size  \\\n",
       "0  107.8622            OUT049                       1999      Medium   \n",
       "1   87.3198            OUT017                       2007         NaN   \n",
       "2  241.7538            OUT010                       1998         NaN   \n",
       "3  155.0340            OUT017                       2007         NaN   \n",
       "4  234.2300            OUT027                       1985      Medium   \n",
       "\n",
       "  Outlet_Location_Type        Outlet_Type  \n",
       "0               Tier 1  Supermarket Type1  \n",
       "1               Tier 2  Supermarket Type1  \n",
       "2               Tier 3      Grocery Store  \n",
       "3               Tier 2  Supermarket Type1  \n",
       "4               Tier 3  Supermarket Type3  "
      ]
     },
     "execution_count": 374,
     "metadata": {},
     "output_type": "execute_result"
    }
   ],
   "source": [
    "big_test = pd.read_csv('https://raw.githubusercontent.com/dsrscientist/bigdatamart_rep/master/bigdatamart_Test.csv')\n",
    "big_test.head()"
   ]
  },
  {
   "cell_type": "code",
   "execution_count": 375,
   "id": "76ba843e",
   "metadata": {},
   "outputs": [
    {
     "data": {
      "text/plain": [
       "Item_Identifier                 0\n",
       "Item_Weight                   976\n",
       "Item_Fat_Content                0\n",
       "Item_Visibility                 0\n",
       "Item_Type                       0\n",
       "Item_MRP                        0\n",
       "Outlet_Identifier               0\n",
       "Outlet_Establishment_Year       0\n",
       "Outlet_Size                  1606\n",
       "Outlet_Location_Type            0\n",
       "Outlet_Type                     0\n",
       "dtype: int64"
      ]
     },
     "execution_count": 375,
     "metadata": {},
     "output_type": "execute_result"
    }
   ],
   "source": [
    "big_test.isna().sum()"
   ]
  },
  {
   "cell_type": "code",
   "execution_count": 376,
   "id": "457949c0",
   "metadata": {},
   "outputs": [
    {
     "data": {
      "text/plain": [
       "Item_Weight    0\n",
       "Outlet_Size    0\n",
       "dtype: int64"
      ]
     },
     "execution_count": 376,
     "metadata": {},
     "output_type": "execute_result"
    }
   ],
   "source": [
    "big_test.dropna(subset = ['Item_Weight'],inplace = True)\n",
    "big_test['Outlet_Size'] = big_test['Outlet_Size'].fillna(big_test['Outlet_Size'].mode()[0])\n",
    "big_test[['Item_Weight','Outlet_Size']].isna().sum()"
   ]
  },
  {
   "cell_type": "code",
   "execution_count": 377,
   "id": "e286692e",
   "metadata": {},
   "outputs": [],
   "source": [
    "big_test = big_test.drop(columns=['Outlet_Establishment_Year'])"
   ]
  },
  {
   "cell_type": "code",
   "execution_count": 378,
   "id": "a2032da8",
   "metadata": {},
   "outputs": [],
   "source": [
    "big_test['Item_Identifier'] = lab.fit_transform(big_test['Item_Identifier'])\n",
    "big_test['Outlet_Identifier'] = lab.fit_transform(big_test['Outlet_Identifier'])\n",
    "big_test['Item_Type'] = lab.fit_transform(big_test['Item_Type'])\n",
    "big_test['Outlet_Location_Type'] = lab.fit_transform(big_test['Outlet_Location_Type'])\n",
    "big_test['Outlet_Size'] = lab.fit_transform(big_test['Outlet_Size'])\n",
    "big_test['Outlet_Type'] = lab.fit_transform(big_test['Outlet_Type'])"
   ]
  },
  {
   "cell_type": "code",
   "execution_count": 379,
   "id": "c853195a",
   "metadata": {},
   "outputs": [],
   "source": [
    "big_test['Item_Fat_Content'] = big_test['Item_Fat_Content'].replace('Low Fat',0)\n",
    "big_test['Item_Fat_Content'] = big_test['Item_Fat_Content'].replace('LF',0)\n",
    "big_test['Item_Fat_Content'] = big_test['Item_Fat_Content'].replace('low fat',0)"
   ]
  },
  {
   "cell_type": "code",
   "execution_count": 380,
   "id": "b7b69d1f",
   "metadata": {},
   "outputs": [],
   "source": [
    "big_test['Item_Fat_Content'] = big_test['Item_Fat_Content'].replace('Regular',1)\n",
    "big_test['Item_Fat_Content'] = big_test['Item_Fat_Content'].replace('reg',1)"
   ]
  },
  {
   "cell_type": "code",
   "execution_count": 381,
   "id": "1aaf5bfc",
   "metadata": {},
   "outputs": [],
   "source": [
    "big_test = big_test.drop(columns = ['Outlet_Location_Type'])"
   ]
  },
  {
   "cell_type": "code",
   "execution_count": 382,
   "id": "525b4343",
   "metadata": {},
   "outputs": [
    {
     "data": {
      "text/html": [
       "<div>\n",
       "<style scoped>\n",
       "    .dataframe tbody tr th:only-of-type {\n",
       "        vertical-align: middle;\n",
       "    }\n",
       "\n",
       "    .dataframe tbody tr th {\n",
       "        vertical-align: top;\n",
       "    }\n",
       "\n",
       "    .dataframe thead th {\n",
       "        text-align: right;\n",
       "    }\n",
       "</style>\n",
       "<table border=\"1\" class=\"dataframe\">\n",
       "  <thead>\n",
       "    <tr style=\"text-align: right;\">\n",
       "      <th></th>\n",
       "      <th>Item_Identifier</th>\n",
       "      <th>Item_Weight</th>\n",
       "      <th>Item_Fat_Content</th>\n",
       "      <th>Item_Visibility</th>\n",
       "      <th>Item_Type</th>\n",
       "      <th>Item_MRP</th>\n",
       "      <th>Outlet_Identifier</th>\n",
       "      <th>Outlet_Size</th>\n",
       "      <th>Outlet_Type</th>\n",
       "    </tr>\n",
       "  </thead>\n",
       "  <tbody>\n",
       "    <tr>\n",
       "      <th>0</th>\n",
       "      <td>1089</td>\n",
       "      <td>20.750</td>\n",
       "      <td>0</td>\n",
       "      <td>0.007565</td>\n",
       "      <td>13</td>\n",
       "      <td>107.8622</td>\n",
       "      <td>7</td>\n",
       "      <td>1</td>\n",
       "      <td>1</td>\n",
       "    </tr>\n",
       "    <tr>\n",
       "      <th>1</th>\n",
       "      <td>1053</td>\n",
       "      <td>8.300</td>\n",
       "      <td>1</td>\n",
       "      <td>0.038428</td>\n",
       "      <td>4</td>\n",
       "      <td>87.3198</td>\n",
       "      <td>2</td>\n",
       "      <td>2</td>\n",
       "      <td>1</td>\n",
       "    </tr>\n",
       "    <tr>\n",
       "      <th>2</th>\n",
       "      <td>1390</td>\n",
       "      <td>14.600</td>\n",
       "      <td>0</td>\n",
       "      <td>0.099575</td>\n",
       "      <td>11</td>\n",
       "      <td>241.7538</td>\n",
       "      <td>0</td>\n",
       "      <td>2</td>\n",
       "      <td>0</td>\n",
       "    </tr>\n",
       "    <tr>\n",
       "      <th>3</th>\n",
       "      <td>796</td>\n",
       "      <td>7.315</td>\n",
       "      <td>0</td>\n",
       "      <td>0.015388</td>\n",
       "      <td>13</td>\n",
       "      <td>155.0340</td>\n",
       "      <td>2</td>\n",
       "      <td>2</td>\n",
       "      <td>1</td>\n",
       "    </tr>\n",
       "    <tr>\n",
       "      <th>5</th>\n",
       "      <td>454</td>\n",
       "      <td>9.800</td>\n",
       "      <td>1</td>\n",
       "      <td>0.063817</td>\n",
       "      <td>6</td>\n",
       "      <td>117.1492</td>\n",
       "      <td>6</td>\n",
       "      <td>2</td>\n",
       "      <td>1</td>\n",
       "    </tr>\n",
       "    <tr>\n",
       "      <th>...</th>\n",
       "      <td>...</td>\n",
       "      <td>...</td>\n",
       "      <td>...</td>\n",
       "      <td>...</td>\n",
       "      <td>...</td>\n",
       "      <td>...</td>\n",
       "      <td>...</td>\n",
       "      <td>...</td>\n",
       "      <td>...</td>\n",
       "    </tr>\n",
       "    <tr>\n",
       "      <th>5676</th>\n",
       "      <td>230</td>\n",
       "      <td>10.500</td>\n",
       "      <td>1</td>\n",
       "      <td>0.013496</td>\n",
       "      <td>13</td>\n",
       "      <td>141.3154</td>\n",
       "      <td>6</td>\n",
       "      <td>2</td>\n",
       "      <td>1</td>\n",
       "    </tr>\n",
       "    <tr>\n",
       "      <th>5677</th>\n",
       "      <td>305</td>\n",
       "      <td>7.600</td>\n",
       "      <td>1</td>\n",
       "      <td>0.142991</td>\n",
       "      <td>15</td>\n",
       "      <td>169.1448</td>\n",
       "      <td>3</td>\n",
       "      <td>1</td>\n",
       "      <td>2</td>\n",
       "    </tr>\n",
       "    <tr>\n",
       "      <th>5678</th>\n",
       "      <td>1396</td>\n",
       "      <td>10.000</td>\n",
       "      <td>0</td>\n",
       "      <td>0.073529</td>\n",
       "      <td>8</td>\n",
       "      <td>118.7440</td>\n",
       "      <td>5</td>\n",
       "      <td>2</td>\n",
       "      <td>1</td>\n",
       "    </tr>\n",
       "    <tr>\n",
       "      <th>5679</th>\n",
       "      <td>507</td>\n",
       "      <td>15.300</td>\n",
       "      <td>1</td>\n",
       "      <td>0.000000</td>\n",
       "      <td>3</td>\n",
       "      <td>214.6218</td>\n",
       "      <td>2</td>\n",
       "      <td>2</td>\n",
       "      <td>1</td>\n",
       "    </tr>\n",
       "    <tr>\n",
       "      <th>5680</th>\n",
       "      <td>973</td>\n",
       "      <td>9.500</td>\n",
       "      <td>1</td>\n",
       "      <td>0.104720</td>\n",
       "      <td>3</td>\n",
       "      <td>79.7960</td>\n",
       "      <td>5</td>\n",
       "      <td>2</td>\n",
       "      <td>1</td>\n",
       "    </tr>\n",
       "  </tbody>\n",
       "</table>\n",
       "<p>4705 rows × 9 columns</p>\n",
       "</div>"
      ],
      "text/plain": [
       "      Item_Identifier  Item_Weight  Item_Fat_Content  Item_Visibility  \\\n",
       "0                1089       20.750                 0         0.007565   \n",
       "1                1053        8.300                 1         0.038428   \n",
       "2                1390       14.600                 0         0.099575   \n",
       "3                 796        7.315                 0         0.015388   \n",
       "5                 454        9.800                 1         0.063817   \n",
       "...               ...          ...               ...              ...   \n",
       "5676              230       10.500                 1         0.013496   \n",
       "5677              305        7.600                 1         0.142991   \n",
       "5678             1396       10.000                 0         0.073529   \n",
       "5679              507       15.300                 1         0.000000   \n",
       "5680              973        9.500                 1         0.104720   \n",
       "\n",
       "      Item_Type  Item_MRP  Outlet_Identifier  Outlet_Size  Outlet_Type  \n",
       "0            13  107.8622                  7            1            1  \n",
       "1             4   87.3198                  2            2            1  \n",
       "2            11  241.7538                  0            2            0  \n",
       "3            13  155.0340                  2            2            1  \n",
       "5             6  117.1492                  6            2            1  \n",
       "...         ...       ...                ...          ...          ...  \n",
       "5676         13  141.3154                  6            2            1  \n",
       "5677         15  169.1448                  3            1            2  \n",
       "5678          8  118.7440                  5            2            1  \n",
       "5679          3  214.6218                  2            2            1  \n",
       "5680          3   79.7960                  5            2            1  \n",
       "\n",
       "[4705 rows x 9 columns]"
      ]
     },
     "execution_count": 382,
     "metadata": {},
     "output_type": "execute_result"
    }
   ],
   "source": [
    "big_test"
   ]
  },
  {
   "cell_type": "markdown",
   "id": "ee8d0743",
   "metadata": {},
   "source": [
    "**- Prediction For Test Dataset.**"
   ]
  },
  {
   "cell_type": "code",
   "execution_count": 383,
   "id": "7520ddf1",
   "metadata": {},
   "outputs": [
    {
     "data": {
      "text/plain": [
       "array([5768.95178379, 6018.51736081, 5777.10365514, ..., 5768.95178379,\n",
       "       6018.51736081, 6018.51736081])"
      ]
     },
     "execution_count": 383,
     "metadata": {},
     "output_type": "execute_result"
    }
   ],
   "source": [
    "y_pred = gbr.predict(big_test)\n",
    "y_pred"
   ]
  },
  {
   "cell_type": "code",
   "execution_count": 387,
   "id": "307920ec",
   "metadata": {},
   "outputs": [
    {
     "data": {
      "text/plain": [
       "[5768.951783785435,\n",
       " 6018.517360808992,\n",
       " 5777.10365514154,\n",
       " 5768.951783785435,\n",
       " 6018.517360808992,\n",
       " 6507.238081720017,\n",
       " 6018.517360808992,\n",
       " 6257.672504696462,\n",
       " 5768.951783785435,\n",
       " 5768.951783785435,\n",
       " 5768.951783785435,\n",
       " 6245.880566799209,\n",
       " 6507.238081720017,\n",
       " 5768.951783785435,\n",
       " 5768.951783785435,\n",
       " 5810.974251320333,\n",
       " 6245.880566799209,\n",
       " 5802.822379964227,\n",
       " 5768.951783785435,\n",
       " 5768.951783785435,\n",
       " 6026.669232165097,\n",
       " 5768.951783785435,\n",
       " 5768.951783785435,\n",
       " 5768.951783785435,\n",
       " 5768.951783785435,\n",
       " 6018.517360808992,\n",
       " 5768.951783785435,\n",
       " 5768.951783785435,\n",
       " 6394.0451148853945,\n",
       " 5768.951783785435,\n",
       " 5768.951783785435,\n",
       " 5777.10365514154,\n",
       " 5802.822379964227,\n",
       " 5768.951783785435,\n",
       " 5740.732798945908,\n",
       " 6245.880566799209,\n",
       " 5794.494030088581,\n",
       " 5768.951783785435,\n",
       " 5768.951783785435,\n",
       " 5768.951783785435,\n",
       " 5768.951783785435,\n",
       " 6245.880566799209,\n",
       " 6018.517360808992,\n",
       " 6018.517360808992,\n",
       " 5768.951783785435,\n",
       " 6495.4461438227645,\n",
       " 6245.880566799209,\n",
       " 6018.517360808992,\n",
       " 6507.238081720017,\n",
       " 6018.517360808992,\n",
       " 5768.951783785435,\n",
       " 5768.951783785435,\n",
       " 5768.951783785435,\n",
       " 5768.951783785435,\n",
       " 6245.880566799209,\n",
       " 5768.951783785435,\n",
       " 5768.951783785435,\n",
       " 6018.517360808992,\n",
       " 5768.951783785435,\n",
       " 5768.951783785435,\n",
       " 6018.517360808992,\n",
       " 5768.951783785435,\n",
       " 6245.880566799209,\n",
       " 5768.951783785435,\n",
       " 6018.517360808992,\n",
       " 5768.951783785435,\n",
       " 6495.4461438227645,\n",
       " 5768.951783785435,\n",
       " 6018.517360808992,\n",
       " 5768.951783785435,\n",
       " 6018.517360808992,\n",
       " 5768.951783785435,\n",
       " 6060.53982834389,\n",
       " 6018.517360808992,\n",
       " 5768.951783785435,\n",
       " 6245.880566799209,\n",
       " 5768.951783785435,\n",
       " 5768.951783785435,\n",
       " 6018.517360808992,\n",
       " 6507.238081720017,\n",
       " 6245.880566799209,\n",
       " 6018.517360808992,\n",
       " 6507.238081720017,\n",
       " 6018.517360808992,\n",
       " 6507.238081720017,\n",
       " 6018.517360808992,\n",
       " 5768.951783785435,\n",
       " 5777.10365514154,\n",
       " 5768.951783785435,\n",
       " 5777.10365514154,\n",
       " 6052.3879569877845,\n",
       " 6018.517360808992,\n",
       " 6085.444844051436,\n",
       " 6018.517360808992,\n",
       " 5768.951783785435,\n",
       " 5768.951783785435,\n",
       " 5768.951783785435,\n",
       " 6507.238081720017,\n",
       " 6257.672504696462,\n",
       " 5768.951783785435,\n",
       " 6257.672504696462,\n",
       " 5768.951783785435,\n",
       " 6245.880566799209,\n",
       " 6507.238081720017,\n",
       " 6245.880566799209,\n",
       " 5768.951783785435,\n",
       " 6394.0451148853945,\n",
       " 5802.822379964227,\n",
       " 5768.951783785435,\n",
       " 6257.672504696462,\n",
       " 6085.444844051436,\n",
       " 5777.10365514154,\n",
       " 6052.3879569877845,\n",
       " 5768.951783785435,\n",
       " 5768.951783785435,\n",
       " 6018.517360808992,\n",
       " 5768.951783785435,\n",
       " 5768.951783785435,\n",
       " 5768.951783785435,\n",
       " 5768.951783785435,\n",
       " 5768.951783785435,\n",
       " 5777.10365514154,\n",
       " 5768.951783785435,\n",
       " 5768.951783785435,\n",
       " 6245.880566799209,\n",
       " 6018.517360808992,\n",
       " 5768.951783785435,\n",
       " 5768.951783785435,\n",
       " 5768.951783785435,\n",
       " 6052.3879569877845,\n",
       " 5768.951783785435,\n",
       " 6245.880566799209,\n",
       " 5768.951783785435,\n",
       " 5768.951783785435,\n",
       " 6394.0451148853945,\n",
       " 5768.951783785435,\n",
       " 6257.672504696462,\n",
       " 6026.669232165097,\n",
       " 6018.517360808992,\n",
       " 5768.951783785435,\n",
       " 5810.974251320333,\n",
       " 6643.61069190895,\n",
       " 6257.672504696462,\n",
       " 5768.951783785435,\n",
       " 6018.517360808992,\n",
       " 5768.951783785435,\n",
       " 6018.517360808992,\n",
       " 5768.951783785435,\n",
       " 5777.10365514154,\n",
       " 5768.951783785435,\n",
       " 5768.951783785435,\n",
       " 6495.4461438227645,\n",
       " 5768.951783785435,\n",
       " 5768.951783785435,\n",
       " 5768.951783785435,\n",
       " 5768.951783785435,\n",
       " 6257.672504696462,\n",
       " 6018.517360808992,\n",
       " 6018.517360808992,\n",
       " 5768.951783785435,\n",
       " 5768.951783785435,\n",
       " 5768.951783785435,\n",
       " 5768.951783785435,\n",
       " 5768.951783785435,\n",
       " 5768.951783785435,\n",
       " 5768.951783785435,\n",
       " 5768.951783785435,\n",
       " 6018.517360808992,\n",
       " 5768.951783785435,\n",
       " 6018.517360808992,\n",
       " 6018.517360808992,\n",
       " 6245.880566799209,\n",
       " 5768.951783785435,\n",
       " 5768.951783785435,\n",
       " 5768.951783785435,\n",
       " 6495.4461438227645,\n",
       " 6018.517360808992,\n",
       " 5768.951783785435,\n",
       " 5768.951783785435,\n",
       " 5768.951783785435,\n",
       " 6018.517360808992,\n",
       " 5768.951783785435,\n",
       " 5768.951783785435,\n",
       " 6245.880566799209,\n",
       " 5777.10365514154,\n",
       " 5768.951783785435,\n",
       " 6018.517360808992,\n",
       " 6018.517360808992,\n",
       " 6018.517360808992,\n",
       " 5768.951783785435,\n",
       " 5768.951783785435,\n",
       " 6018.517360808992,\n",
       " 5777.10365514154,\n",
       " 5768.951783785435,\n",
       " 6060.53982834389,\n",
       " 6257.672504696462,\n",
       " 6026.669232165097,\n",
       " 5768.951783785435,\n",
       " 6245.880566799209,\n",
       " 5768.951783785435,\n",
       " 6026.669232165097,\n",
       " 6018.517360808992,\n",
       " 6018.517360808992,\n",
       " 5777.10365514154,\n",
       " 5768.951783785435,\n",
       " 5768.951783785435,\n",
       " 5768.951783785435,\n",
       " 5768.951783785435,\n",
       " 5768.951783785435,\n",
       " 6495.4461438227645,\n",
       " 5768.951783785435,\n",
       " 5768.951783785435,\n",
       " 6018.517360808992,\n",
       " 6018.517360808992,\n",
       " 5768.951783785435,\n",
       " 5768.951783785435,\n",
       " 5768.951783785435,\n",
       " 5768.951783785435,\n",
       " 5768.951783785435,\n",
       " 5768.951783785435,\n",
       " 6245.880566799209,\n",
       " 5768.951783785435,\n",
       " 5768.951783785435,\n",
       " 5802.822379964227,\n",
       " 6052.3879569877845,\n",
       " 6052.3879569877845,\n",
       " 6018.517360808992,\n",
       " 6257.672504696462,\n",
       " 5768.951783785435,\n",
       " 6018.517360808992,\n",
       " 5768.951783785435,\n",
       " 5768.951783785435,\n",
       " 6495.4461438227645,\n",
       " 6018.517360808992,\n",
       " 6245.880566799209,\n",
       " 6245.880566799209,\n",
       " 5768.951783785435,\n",
       " 6245.880566799209,\n",
       " 6257.672504696462,\n",
       " 5768.951783785435,\n",
       " 6026.669232165097,\n",
       " 5768.951783785435,\n",
       " 5777.10365514154,\n",
       " 5768.951783785435,\n",
       " 5835.370570052826,\n",
       " 6257.672504696462,\n",
       " 5768.951783785435,\n",
       " 6052.3879569877845,\n",
       " 5768.951783785435,\n",
       " 6245.880566799209,\n",
       " 6335.010421074993,\n",
       " 6245.880566799209,\n",
       " 5768.951783785435,\n",
       " 6018.517360808992,\n",
       " 5768.951783785435,\n",
       " 6018.517360808992,\n",
       " 5768.951783785435,\n",
       " 5768.951783785435,\n",
       " 6018.517360808992,\n",
       " 5768.951783785435,\n",
       " 5768.951783785435,\n",
       " 5768.951783785435,\n",
       " 6245.880566799209,\n",
       " 6018.517360808992,\n",
       " 6018.517360808992,\n",
       " 6026.669232165097,\n",
       " 5768.951783785435,\n",
       " 5768.951783785435,\n",
       " 5768.951783785435,\n",
       " 5768.951783785435,\n",
       " 5768.951783785435,\n",
       " 5768.951783785435,\n",
       " 6018.517360808992,\n",
       " 5768.951783785435,\n",
       " 5768.951783785435,\n",
       " 5768.951783785435,\n",
       " 5768.951783785435,\n",
       " 5768.951783785435,\n",
       " 5768.951783785435,\n",
       " 6018.517360808992,\n",
       " 6018.517360808992,\n",
       " 6018.517360808992,\n",
       " 6018.517360808992,\n",
       " 6018.517360808992,\n",
       " 5768.951783785435,\n",
       " 6495.4461438227645,\n",
       " 5768.951783785435,\n",
       " 6495.4461438227645,\n",
       " 5768.951783785435,\n",
       " 5768.951783785435,\n",
       " 6507.238081720017,\n",
       " 5768.951783785435,\n",
       " 6245.880566799209,\n",
       " 5810.974251320333,\n",
       " 6052.3879569877845,\n",
       " 6018.517360808992,\n",
       " 5768.951783785435,\n",
       " 6018.517360808992,\n",
       " 5768.951783785435,\n",
       " 5802.822379964227,\n",
       " 5768.951783785435,\n",
       " 6495.4461438227645,\n",
       " 6018.517360808992,\n",
       " 6018.517360808992,\n",
       " 6018.517360808992,\n",
       " 5768.951783785435,\n",
       " 5768.951783785435,\n",
       " 6394.0451148853945,\n",
       " 6257.672504696462,\n",
       " 5768.951783785435,\n",
       " 6018.517360808992,\n",
       " 5768.951783785435,\n",
       " 5768.951783785435,\n",
       " 5768.951783785435,\n",
       " 5777.10365514154,\n",
       " 6018.517360808992,\n",
       " 5768.951783785435,\n",
       " 6507.238081720017,\n",
       " 6018.517360808992,\n",
       " 6495.4461438227645,\n",
       " 5768.951783785435,\n",
       " 5768.951783785435,\n",
       " 6018.517360808992,\n",
       " 6018.517360808992,\n",
       " 6018.517360808992,\n",
       " 5768.951783785435,\n",
       " 5768.951783785435,\n",
       " 5768.951783785435,\n",
       " 5768.951783785435,\n",
       " 5768.951783785435,\n",
       " 5768.951783785435,\n",
       " 5768.951783785435,\n",
       " 5768.951783785435,\n",
       " 5777.10365514154,\n",
       " 5768.951783785435,\n",
       " 5768.951783785435,\n",
       " 6018.517360808992,\n",
       " 5768.951783785435,\n",
       " 5768.951783785435,\n",
       " 5768.951783785435,\n",
       " 5768.951783785435,\n",
       " 6018.517360808992,\n",
       " 5768.951783785435,\n",
       " 6507.238081720017,\n",
       " 6495.4461438227645,\n",
       " 5768.951783785435,\n",
       " 5802.822379964227,\n",
       " 5768.951783785435,\n",
       " 5768.951783785435,\n",
       " 6529.316740001557,\n",
       " 6018.517360808992,\n",
       " 6507.238081720017,\n",
       " 5777.10365514154,\n",
       " 6245.880566799209,\n",
       " 6018.517360808992,\n",
       " 6026.669232165097,\n",
       " 6279.751162978002,\n",
       " 6018.517360808992,\n",
       " 6018.517360808992,\n",
       " 6507.238081720017,\n",
       " 5768.951783785435,\n",
       " 6018.517360808992,\n",
       " 6018.517360808992,\n",
       " 5768.951783785435,\n",
       " 6495.4461438227645,\n",
       " 5768.951783785435,\n",
       " 5768.951783785435,\n",
       " 6018.517360808992,\n",
       " 5777.10365514154,\n",
       " 6026.669232165097,\n",
       " 5802.822379964227,\n",
       " 5768.951783785435,\n",
       " 5768.951783785435,\n",
       " 5802.822379964227,\n",
       " 6018.517360808992,\n",
       " 6018.517360808992,\n",
       " 6507.238081720017,\n",
       " 6245.880566799209,\n",
       " 5768.951783785435,\n",
       " 6018.517360808992,\n",
       " 6507.238081720017,\n",
       " 5768.951783785435,\n",
       " 5768.951783785435,\n",
       " 6495.4461438227645,\n",
       " 6018.517360808992,\n",
       " 6257.672504696462,\n",
       " 5768.951783785435,\n",
       " 6495.4461438227645,\n",
       " 6060.53982834389,\n",
       " 6018.517360808992,\n",
       " 6018.517360808992,\n",
       " 5768.951783785435,\n",
       " 5990.298375969465,\n",
       " 5768.951783785435,\n",
       " 5768.951783785435,\n",
       " 5835.370570052826,\n",
       " 6018.517360808992,\n",
       " 6018.517360808992,\n",
       " 6257.672504696462,\n",
       " 5768.951783785435,\n",
       " 5768.951783785435,\n",
       " 5768.951783785435,\n",
       " 5768.951783785435,\n",
       " 5768.951783785435,\n",
       " 5768.951783785435,\n",
       " 6495.4461438227645,\n",
       " 6060.53982834389,\n",
       " 5768.951783785435,\n",
       " 5768.951783785435,\n",
       " 6495.4461438227645,\n",
       " 5559.082710671113,\n",
       " 6026.669232165097,\n",
       " 6495.4461438227645,\n",
       " 5768.951783785435,\n",
       " 5768.951783785435,\n",
       " 5768.951783785435,\n",
       " 5777.10365514154,\n",
       " 5768.951783785435,\n",
       " 5768.951783785435,\n",
       " 5802.822379964227,\n",
       " 5768.951783785435,\n",
       " 5768.951783785435,\n",
       " 5768.951783785435,\n",
       " 6018.517360808992,\n",
       " 6018.517360808992,\n",
       " 6018.517360808992,\n",
       " 6052.3879569877845,\n",
       " 5768.951783785435,\n",
       " 5768.951783785435,\n",
       " 6018.517360808992,\n",
       " 5768.951783785435,\n",
       " 5768.951783785435,\n",
       " 6018.517360808992,\n",
       " 6018.517360808992,\n",
       " 5768.951783785435,\n",
       " 6052.3879569877845,\n",
       " 5768.951783785435,\n",
       " 6018.517360808992,\n",
       " 6018.517360808992,\n",
       " 6018.517360808992,\n",
       " 5768.951783785435,\n",
       " 6257.672504696462,\n",
       " 5768.951783785435,\n",
       " 5768.951783785435,\n",
       " 6018.517360808992,\n",
       " 5777.10365514154,\n",
       " 6018.517360808992,\n",
       " 6018.517360808992,\n",
       " 6018.517360808992,\n",
       " 6245.880566799209,\n",
       " 5768.951783785435,\n",
       " 6257.672504696462,\n",
       " 5768.951783785435,\n",
       " 6018.517360808992,\n",
       " 5768.951783785435,\n",
       " 6018.517360808992,\n",
       " 5768.951783785435,\n",
       " 6245.880566799209,\n",
       " 6018.517360808992,\n",
       " 6495.4461438227645,\n",
       " 5768.951783785435,\n",
       " 5768.951783785435,\n",
       " 6245.880566799209,\n",
       " 5768.951783785435,\n",
       " 6245.880566799209,\n",
       " 6018.517360808992,\n",
       " 6018.517360808992,\n",
       " 6026.669232165097,\n",
       " 5810.974251320333,\n",
       " 6507.238081720017,\n",
       " 5777.10365514154,\n",
       " 5802.822379964227,\n",
       " 5768.951783785435,\n",
       " 6018.517360808992,\n",
       " 5768.951783785435,\n",
       " 5768.951783785435,\n",
       " 6507.238081720017,\n",
       " 5768.951783785435,\n",
       " 6018.517360808992,\n",
       " 6245.880566799209,\n",
       " 5768.951783785435,\n",
       " 5768.951783785435,\n",
       " 5768.951783785435,\n",
       " 6495.4461438227645,\n",
       " 5768.951783785435,\n",
       " 6245.880566799209,\n",
       " 6018.517360808992,\n",
       " 5768.951783785435,\n",
       " 6018.517360808992,\n",
       " 5768.951783785435,\n",
       " 6495.4461438227645,\n",
       " 6018.517360808992,\n",
       " 6052.3879569877845,\n",
       " 6026.669232165097,\n",
       " 6026.669232165097,\n",
       " 5768.951783785435,\n",
       " 6018.517360808992,\n",
       " 6507.238081720017,\n",
       " 6245.880566799209,\n",
       " 5777.10365514154,\n",
       " 5768.951783785435,\n",
       " 6257.672504696462,\n",
       " 5777.10365514154,\n",
       " 6026.669232165097,\n",
       " 5768.951783785435,\n",
       " 6495.4461438227645,\n",
       " 5768.951783785435,\n",
       " 6495.4461438227645,\n",
       " 5768.951783785435,\n",
       " 6257.672504696462,\n",
       " 6018.517360808992,\n",
       " 5768.951783785435,\n",
       " 6018.517360808992,\n",
       " 6018.517360808992,\n",
       " 5768.951783785435,\n",
       " 6018.517360808992,\n",
       " 5768.951783785435,\n",
       " 6026.669232165097,\n",
       " 6279.751162978002,\n",
       " 5768.951783785435,\n",
       " 5768.951783785435,\n",
       " 5802.822379964227,\n",
       " 6245.880566799209,\n",
       " 6018.517360808992,\n",
       " 6018.517360808992,\n",
       " 5768.951783785435,\n",
       " 6018.517360808992,\n",
       " 6018.517360808992,\n",
       " 5768.951783785435,\n",
       " 6018.517360808992,\n",
       " 5768.951783785435,\n",
       " 5768.951783785435,\n",
       " 6507.238081720017,\n",
       " 5768.951783785435,\n",
       " 6245.880566799209,\n",
       " 6507.238081720017,\n",
       " 5768.951783785435,\n",
       " 6279.751162978002,\n",
       " 5768.951783785435,\n",
       " 6245.880566799209,\n",
       " 6507.238081720017,\n",
       " 5768.951783785435,\n",
       " 6257.672504696462,\n",
       " 5768.951783785435,\n",
       " 6018.517360808992,\n",
       " 5768.951783785435,\n",
       " 6495.4461438227645,\n",
       " 5802.822379964227,\n",
       " 6026.669232165097,\n",
       " 5768.951783785435,\n",
       " 6245.880566799209,\n",
       " 6507.238081720017,\n",
       " 5768.951783785435,\n",
       " 6245.880566799209,\n",
       " 5768.951783785435,\n",
       " 5768.951783785435,\n",
       " 6507.238081720017,\n",
       " 6084.936147076383,\n",
       " 6018.517360808992,\n",
       " 6495.4461438227645,\n",
       " 6018.517360808992,\n",
       " 5777.10365514154,\n",
       " 6018.517360808992,\n",
       " 5768.951783785435,\n",
       " 5768.951783785435,\n",
       " 5768.951783785435,\n",
       " 5768.951783785435,\n",
       " 6018.517360808992,\n",
       " 5768.951783785435,\n",
       " 6018.517360808992,\n",
       " 5768.951783785435,\n",
       " 5768.951783785435,\n",
       " 5768.951783785435,\n",
       " 5768.951783785435,\n",
       " 6257.672504696462,\n",
       " 5768.951783785435,\n",
       " 6018.517360808992,\n",
       " 6018.517360808992,\n",
       " 5768.951783785435,\n",
       " 5768.951783785435,\n",
       " 5768.951783785435,\n",
       " 5835.370570052826,\n",
       " 5768.951783785435,\n",
       " 6245.880566799209,\n",
       " 6060.53982834389,\n",
       " 6018.517360808992,\n",
       " 5768.951783785435,\n",
       " 5768.951783785435,\n",
       " 5810.974251320333,\n",
       " 6052.3879569877845,\n",
       " 5768.951783785435,\n",
       " 6495.4461438227645,\n",
       " 5768.951783785435,\n",
       " 6245.880566799209,\n",
       " 6245.880566799209,\n",
       " 6018.517360808992,\n",
       " 5768.951783785435,\n",
       " 6018.517360808992,\n",
       " 5777.10365514154,\n",
       " 5768.951783785435,\n",
       " 5768.951783785435,\n",
       " 6018.517360808992,\n",
       " 6018.517360808992,\n",
       " 6018.517360808992,\n",
       " 5768.951783785435,\n",
       " 6257.672504696462,\n",
       " 5768.951783785435,\n",
       " 5768.951783785435,\n",
       " 5768.951783785435,\n",
       " 5768.951783785435,\n",
       " 6018.517360808992,\n",
       " 6018.517360808992,\n",
       " 5768.951783785435,\n",
       " 6018.517360808992,\n",
       " 6018.517360808992,\n",
       " 5768.951783785435,\n",
       " 5768.951783785435,\n",
       " 5768.951783785435,\n",
       " 6245.880566799209,\n",
       " 5768.951783785435,\n",
       " 6245.880566799209,\n",
       " 6018.517360808992,\n",
       " 6018.517360808992,\n",
       " 6495.4461438227645,\n",
       " 5768.951783785435,\n",
       " 6507.238081720017,\n",
       " 5768.951783785435,\n",
       " 5768.951783785435,\n",
       " 5768.951783785435,\n",
       " 5768.951783785435,\n",
       " 6052.3879569877845,\n",
       " 6018.517360808992,\n",
       " 5768.951783785435,\n",
       " 6018.517360808992,\n",
       " 5777.10365514154,\n",
       " 6257.672504696462,\n",
       " 5768.951783785435,\n",
       " 6018.517360808992,\n",
       " 6018.517360808992,\n",
       " 6245.880566799209,\n",
       " 5768.951783785435,\n",
       " 6018.517360808992,\n",
       " 5768.951783785435,\n",
       " 5777.10365514154,\n",
       " 5835.370570052826,\n",
       " 5768.951783785435,\n",
       " 5768.951783785435,\n",
       " 6052.3879569877845,\n",
       " 5768.951783785435,\n",
       " 6018.517360808992,\n",
       " 6018.517360808992,\n",
       " 5768.951783785435,\n",
       " 6018.517360808992,\n",
       " 5768.951783785435,\n",
       " 5768.951783785435,\n",
       " 6495.4461438227645,\n",
       " 5768.951783785435,\n",
       " 5777.10365514154,\n",
       " 5768.951783785435,\n",
       " 5768.951783785435,\n",
       " 6018.517360808992,\n",
       " 5768.951783785435,\n",
       " 5768.951783785435,\n",
       " 5768.951783785435,\n",
       " 6018.517360808992,\n",
       " 5768.951783785435,\n",
       " 5768.951783785435,\n",
       " 6018.517360808992,\n",
       " 5768.951783785435,\n",
       " 5768.951783785435,\n",
       " 6018.517360808992,\n",
       " 5768.951783785435,\n",
       " 6018.517360808992,\n",
       " 5768.951783785435,\n",
       " 6018.517360808992,\n",
       " 5768.951783785435,\n",
       " 6245.880566799209,\n",
       " 5777.10365514154,\n",
       " 6018.517360808992,\n",
       " 6026.669232165097,\n",
       " 5802.822379964227,\n",
       " 5768.951783785435,\n",
       " 5768.951783785435,\n",
       " 6018.517360808992,\n",
       " 5768.951783785435,\n",
       " 5768.951783785435,\n",
       " 6495.4461438227645,\n",
       " 5777.10365514154,\n",
       " 5768.951783785435,\n",
       " 6018.517360808992,\n",
       " 6245.880566799209,\n",
       " 5768.951783785435,\n",
       " 6018.517360808992,\n",
       " 6018.517360808992,\n",
       " 5768.951783785435,\n",
       " 5768.951783785435,\n",
       " 5768.951783785435,\n",
       " 6245.880566799209,\n",
       " 5777.10365514154,\n",
       " 6257.672504696462,\n",
       " 6507.238081720017,\n",
       " 5768.951783785435,\n",
       " 5768.951783785435,\n",
       " 5768.951783785435,\n",
       " 6018.517360808992,\n",
       " 5768.951783785435,\n",
       " 5768.951783785435,\n",
       " 6018.517360808992,\n",
       " 6507.238081720017,\n",
       " 5768.951783785435,\n",
       " 5768.951783785435,\n",
       " 6018.517360808992,\n",
       " 6018.517360808992,\n",
       " 6085.444844051436,\n",
       " 5777.10365514154,\n",
       " 5768.951783785435,\n",
       " 5768.951783785435,\n",
       " 6495.4461438227645,\n",
       " 5768.951783785435,\n",
       " 5768.951783785435,\n",
       " 5768.951783785435,\n",
       " 6018.517360808992,\n",
       " 5777.10365514154,\n",
       " 6507.238081720017,\n",
       " 5768.951783785435,\n",
       " 6018.517360808992,\n",
       " 6257.672504696462,\n",
       " 6507.238081720017,\n",
       " 6257.672504696462,\n",
       " 6018.517360808992,\n",
       " 5768.951783785435,\n",
       " 5768.951783785435,\n",
       " 6507.238081720017,\n",
       " 6085.444844051436,\n",
       " 6495.4461438227645,\n",
       " 6018.517360808992,\n",
       " 5768.951783785435,\n",
       " 6018.517360808992,\n",
       " 6018.517360808992,\n",
       " 5768.951783785435,\n",
       " 5768.951783785435,\n",
       " 6257.672504696462,\n",
       " 5768.951783785435,\n",
       " 6018.517360808992,\n",
       " 6245.880566799209,\n",
       " 6495.4461438227645,\n",
       " 5768.951783785435,\n",
       " 5768.951783785435,\n",
       " 6507.238081720017,\n",
       " 5777.10365514154,\n",
       " 6052.3879569877845,\n",
       " 5768.951783785435,\n",
       " 6018.517360808992,\n",
       " 5768.951783785435,\n",
       " 5777.10365514154,\n",
       " 5768.951783785435,\n",
       " 6257.672504696462,\n",
       " 6245.880566799209,\n",
       " 6245.880566799209,\n",
       " 6018.517360808992,\n",
       " 6018.517360808992,\n",
       " 5768.951783785435,\n",
       " 6495.4461438227645,\n",
       " 5768.951783785435,\n",
       " 6018.517360808992,\n",
       " 6026.669232165097,\n",
       " 6052.3879569877845,\n",
       " 6018.517360808992,\n",
       " 5777.10365514154,\n",
       " 6245.880566799209,\n",
       " 6093.088018432489,\n",
       " 5768.951783785435,\n",
       " 5768.951783785435,\n",
       " 5777.10365514154,\n",
       " 6018.517360808992,\n",
       " 6026.669232165097,\n",
       " 6245.880566799209,\n",
       " 5768.951783785435,\n",
       " 5802.822379964227,\n",
       " 5768.951783785435,\n",
       " 5768.951783785435,\n",
       " 6245.880566799209,\n",
       " 5768.951783785435,\n",
       " 5768.951783785435,\n",
       " 5768.951783785435,\n",
       " 6018.517360808992,\n",
       " 5768.951783785435,\n",
       " 5768.951783785435,\n",
       " 6060.53982834389,\n",
       " 5768.951783785435,\n",
       " 5768.951783785435,\n",
       " 5768.951783785435,\n",
       " 6052.3879569877845,\n",
       " 6245.880566799209,\n",
       " 6245.880566799209,\n",
       " 5768.951783785435,\n",
       " 5768.951783785435,\n",
       " 6245.880566799209,\n",
       " 6018.517360808992,\n",
       " 5768.951783785435,\n",
       " 6245.880566799209,\n",
       " 5768.951783785435,\n",
       " 5768.951783785435,\n",
       " 5768.951783785435,\n",
       " 5768.951783785435,\n",
       " 5768.951783785435,\n",
       " 6018.517360808992,\n",
       " 6018.517360808992,\n",
       " 5802.822379964227,\n",
       " 5768.951783785435,\n",
       " 6018.517360808992,\n",
       " 6495.4461438227645,\n",
       " 6018.517360808992,\n",
       " 5768.951783785435,\n",
       " 5768.951783785435,\n",
       " 6018.517360808992,\n",
       " 5768.951783785435,\n",
       " 5768.951783785435,\n",
       " 5768.951783785435,\n",
       " 6018.517360808992,\n",
       " 5768.951783785435,\n",
       " 5768.951783785435,\n",
       " 6245.880566799209,\n",
       " 6018.517360808992,\n",
       " 6018.517360808992,\n",
       " 5768.951783785435,\n",
       " 5768.951783785435,\n",
       " 6245.880566799209,\n",
       " 6018.517360808992,\n",
       " 5768.951783785435,\n",
       " 5768.951783785435,\n",
       " 5802.822379964227,\n",
       " 6245.880566799209,\n",
       " 5768.951783785435,\n",
       " 5768.951783785435,\n",
       " 6291.543100875255,\n",
       " 6026.669232165097,\n",
       " 6335.010421074993,\n",
       " 6018.517360808992,\n",
       " 5768.951783785435,\n",
       " 6018.517360808992,\n",
       " 5768.951783785435,\n",
       " 5768.951783785435,\n",
       " 5768.951783785435,\n",
       " 5768.951783785435,\n",
       " 5768.951783785435,\n",
       " 5768.951783785435,\n",
       " 5768.951783785435,\n",
       " 6507.238081720017,\n",
       " 6018.517360808992,\n",
       " 5768.951783785435,\n",
       " 6060.53982834389,\n",
       " 6245.880566799209,\n",
       " 5768.951783785435,\n",
       " 5768.951783785435,\n",
       " 6495.4461438227645,\n",
       " 6018.517360808992,\n",
       " 6018.517360808992,\n",
       " 5768.951783785435,\n",
       " 5768.951783785435,\n",
       " 5768.951783785435,\n",
       " 6018.517360808992,\n",
       " 6018.517360808992,\n",
       " 6507.238081720017,\n",
       " 5768.951783785435,\n",
       " 5768.951783785435,\n",
       " 5768.951783785435,\n",
       " 5768.951783785435,\n",
       " 5777.10365514154,\n",
       " 5768.951783785435,\n",
       " 5768.951783785435,\n",
       " 5768.951783785435,\n",
       " 5768.951783785435,\n",
       " 6018.517360808992,\n",
       " 5768.951783785435,\n",
       " 5768.951783785435,\n",
       " 5768.951783785435,\n",
       " 6018.517360808992,\n",
       " 5768.951783785435,\n",
       " 5835.370570052826,\n",
       " 6018.517360808992,\n",
       " 5777.10365514154,\n",
       " 5802.822379964227,\n",
       " 6257.672504696462,\n",
       " 5768.951783785435,\n",
       " 6018.517360808992,\n",
       " 5768.951783785435,\n",
       " 5768.951783785435,\n",
       " 5802.822379964227,\n",
       " 6018.517360808992,\n",
       " 5768.951783785435,\n",
       " 5835.370570052826,\n",
       " 6018.517360808992,\n",
       " 6245.880566799209,\n",
       " 5768.951783785435,\n",
       " 5768.951783785435,\n",
       " 5768.951783785435,\n",
       " 6245.880566799209,\n",
       " 6018.517360808992,\n",
       " 5768.951783785435,\n",
       " 6018.517360808992,\n",
       " 5768.951783785435,\n",
       " 6245.880566799209,\n",
       " 5768.951783785435,\n",
       " 6060.53982834389,\n",
       " 5768.951783785435,\n",
       " 5768.951783785435,\n",
       " 6018.517360808992,\n",
       " 5768.951783785435,\n",
       " 5768.951783785435,\n",
       " 6018.517360808992,\n",
       " 5768.951783785435,\n",
       " 6018.517360808992,\n",
       " 5768.951783785435,\n",
       " 6495.4461438227645,\n",
       " 5768.951783785435,\n",
       " 6018.517360808992,\n",
       " 6245.880566799209,\n",
       " 6245.880566799209,\n",
       " 6495.4461438227645,\n",
       " 5777.10365514154,\n",
       " 5768.951783785435,\n",
       " 6245.880566799209,\n",
       " 6018.517360808992,\n",
       " 5768.951783785435,\n",
       " 5768.951783785435,\n",
       " 6507.238081720017,\n",
       " 5777.10365514154,\n",
       " 6245.880566799209,\n",
       " 5768.951783785435,\n",
       " 5768.951783785435,\n",
       " 6335.010421074993,\n",
       " 5768.951783785435,\n",
       " 6495.4461438227645,\n",
       " 6018.517360808992,\n",
       " 6529.316740001557,\n",
       " 5768.951783785435,\n",
       " 6018.517360808992,\n",
       " 6495.4461438227645,\n",
       " 6018.517360808992,\n",
       " 5768.951783785435,\n",
       " 5768.951783785435,\n",
       " 5768.951783785435,\n",
       " 6018.517360808992,\n",
       " 6018.517360808992,\n",
       " 5768.951783785435,\n",
       " 5768.951783785435,\n",
       " 5768.951783785435,\n",
       " 5768.951783785435,\n",
       " 5768.951783785435,\n",
       " 5768.951783785435,\n",
       " 6245.880566799209,\n",
       " 5768.951783785435,\n",
       " 5768.951783785435,\n",
       " 6245.880566799209,\n",
       " 6018.517360808992,\n",
       " 6018.517360808992,\n",
       " 6018.517360808992,\n",
       " 6018.517360808992,\n",
       " 6018.517360808992,\n",
       " 6018.517360808992,\n",
       " 5768.951783785435,\n",
       " 5768.951783785435,\n",
       " 5768.951783785435,\n",
       " 6018.517360808992,\n",
       " 5768.951783785435,\n",
       " 6018.517360808992,\n",
       " 6052.3879569877845,\n",
       " 5768.951783785435,\n",
       " 6018.517360808992,\n",
       " 6018.517360808992,\n",
       " 6245.880566799209,\n",
       " 5768.951783785435,\n",
       " 6018.517360808992,\n",
       " 6245.880566799209,\n",
       " 5768.951783785435,\n",
       " 5768.951783785435,\n",
       " 5768.951783785435,\n",
       " 5777.10365514154,\n",
       " 5768.951783785435,\n",
       " 5768.951783785435,\n",
       " 5768.951783785435,\n",
       " 6018.517360808992,\n",
       " 6495.4461438227645,\n",
       " 5768.951783785435,\n",
       " 6060.53982834389,\n",
       " 6257.672504696462,\n",
       " 5768.951783785435,\n",
       " 6018.517360808992,\n",
       " 6018.517360808992,\n",
       " 5768.951783785435,\n",
       " 6018.517360808992,\n",
       " 5822.673105272262,\n",
       " 6018.517360808992,\n",
       " 6335.010421074993,\n",
       " 6018.517360808992,\n",
       " 5768.951783785435,\n",
       " 5768.951783785435,\n",
       " 5768.951783785435,\n",
       " 5768.951783785435,\n",
       " ...]"
      ]
     },
     "execution_count": 387,
     "metadata": {},
     "output_type": "execute_result"
    }
   ],
   "source": [
    "a = []\n",
    "for i in y_pred:\n",
    "    a.append(i)\n",
    "a"
   ]
  },
  {
   "cell_type": "code",
   "execution_count": 388,
   "id": "d4260a62",
   "metadata": {},
   "outputs": [
    {
     "data": {
      "text/plain": [
       "4705"
      ]
     },
     "execution_count": 388,
     "metadata": {},
     "output_type": "execute_result"
    }
   ],
   "source": [
    "len(a)"
   ]
  },
  {
   "cell_type": "code",
   "execution_count": 390,
   "id": "47eb8c70",
   "metadata": {},
   "outputs": [],
   "source": [
    "filename = 'Big_data_Mart.pickle'\n",
    "pickle.dump(gbr, open(filename, 'wb'))"
   ]
  }
 ],
 "metadata": {
  "kernelspec": {
   "display_name": "Python 3 (ipykernel)",
   "language": "python",
   "name": "python3"
  },
  "language_info": {
   "codemirror_mode": {
    "name": "ipython",
    "version": 3
   },
   "file_extension": ".py",
   "mimetype": "text/x-python",
   "name": "python",
   "nbconvert_exporter": "python",
   "pygments_lexer": "ipython3",
   "version": "3.9.7"
  }
 },
 "nbformat": 4,
 "nbformat_minor": 5
}
