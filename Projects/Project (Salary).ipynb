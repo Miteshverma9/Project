{
 "cells": [
  {
   "cell_type": "code",
   "execution_count": null,
   "id": "baa87b58",
   "metadata": {},
   "outputs": [],
   "source": [
    "'''Problem Statement: Predict the salary if the employee using the features provided in the data.'''"
   ]
  },
  {
   "cell_type": "code",
   "execution_count": 1,
   "id": "2b650342",
   "metadata": {},
   "outputs": [],
   "source": [
    "import pandas as pd\n",
    "import numpy as np\n",
    "import seaborn as sns\n",
    "import matplotlib.pyplot as plt\n",
    "%matplotlib inline\n",
    "\n",
    "from sklearn.preprocessing import OneHotEncoder,StandardScaler,LabelEncoder\n",
    "from sklearn.compose import make_column_transformer\n",
    "from sklearn.model_selection import train_test_split,GridSearchCV\n",
    "from sklearn import metrics\n",
    "from sklearn.ensemble import AdaBoostRegressor,RandomForestRegressor\n",
    "\n",
    "import warnings\n",
    "warnings.filterwarnings('ignore')"
   ]
  },
  {
   "cell_type": "code",
   "execution_count": 2,
   "id": "eb2239ff",
   "metadata": {},
   "outputs": [
    {
     "data": {
      "text/html": [
       "<div>\n",
       "<style scoped>\n",
       "    .dataframe tbody tr th:only-of-type {\n",
       "        vertical-align: middle;\n",
       "    }\n",
       "\n",
       "    .dataframe tbody tr th {\n",
       "        vertical-align: top;\n",
       "    }\n",
       "\n",
       "    .dataframe thead th {\n",
       "        text-align: right;\n",
       "    }\n",
       "</style>\n",
       "<table border=\"1\" class=\"dataframe\">\n",
       "  <thead>\n",
       "    <tr style=\"text-align: right;\">\n",
       "      <th></th>\n",
       "      <th>rank</th>\n",
       "      <th>discipline</th>\n",
       "      <th>yrs.since.phd</th>\n",
       "      <th>yrs.service</th>\n",
       "      <th>sex</th>\n",
       "      <th>salary</th>\n",
       "    </tr>\n",
       "  </thead>\n",
       "  <tbody>\n",
       "    <tr>\n",
       "      <th>0</th>\n",
       "      <td>Prof</td>\n",
       "      <td>B</td>\n",
       "      <td>19</td>\n",
       "      <td>18</td>\n",
       "      <td>Male</td>\n",
       "      <td>139750</td>\n",
       "    </tr>\n",
       "    <tr>\n",
       "      <th>1</th>\n",
       "      <td>Prof</td>\n",
       "      <td>B</td>\n",
       "      <td>20</td>\n",
       "      <td>16</td>\n",
       "      <td>Male</td>\n",
       "      <td>173200</td>\n",
       "    </tr>\n",
       "    <tr>\n",
       "      <th>2</th>\n",
       "      <td>AsstProf</td>\n",
       "      <td>B</td>\n",
       "      <td>4</td>\n",
       "      <td>3</td>\n",
       "      <td>Male</td>\n",
       "      <td>79750</td>\n",
       "    </tr>\n",
       "    <tr>\n",
       "      <th>3</th>\n",
       "      <td>Prof</td>\n",
       "      <td>B</td>\n",
       "      <td>45</td>\n",
       "      <td>39</td>\n",
       "      <td>Male</td>\n",
       "      <td>115000</td>\n",
       "    </tr>\n",
       "    <tr>\n",
       "      <th>4</th>\n",
       "      <td>Prof</td>\n",
       "      <td>B</td>\n",
       "      <td>40</td>\n",
       "      <td>41</td>\n",
       "      <td>Male</td>\n",
       "      <td>141500</td>\n",
       "    </tr>\n",
       "  </tbody>\n",
       "</table>\n",
       "</div>"
      ],
      "text/plain": [
       "       rank discipline  yrs.since.phd  yrs.service   sex  salary\n",
       "0      Prof          B             19           18  Male  139750\n",
       "1      Prof          B             20           16  Male  173200\n",
       "2  AsstProf          B              4            3  Male   79750\n",
       "3      Prof          B             45           39  Male  115000\n",
       "4      Prof          B             40           41  Male  141500"
      ]
     },
     "execution_count": 2,
     "metadata": {},
     "output_type": "execute_result"
    }
   ],
   "source": [
    "data = pd.read_csv('https://raw.githubusercontent.com/dsrscientist/dataset3/main/Salaries.csv')\n",
    "data.head()"
   ]
  },
  {
   "cell_type": "markdown",
   "id": "35a65bf8",
   "metadata": {},
   "source": [
    "## Lables\n",
    "- Rank : Rank of the Professor(Assistant Professor, Associate Professor, Professor).\n",
    "- Discipline : Discipline of Professor.\n",
    "- yrs.since.phd : Years since PHD.\n",
    "- yrs.service : Years in Service.\n",
    "- Sex : Gender of professor.\n",
    "\n",
    "## Target\n",
    "- Salary : Salary of professor based on the labels."
   ]
  },
  {
   "cell_type": "code",
   "execution_count": 3,
   "id": "3107dfc9",
   "metadata": {},
   "outputs": [
    {
     "data": {
      "text/plain": [
       "(397, 6)"
      ]
     },
     "execution_count": 3,
     "metadata": {},
     "output_type": "execute_result"
    }
   ],
   "source": [
    "data.shape"
   ]
  },
  {
   "cell_type": "markdown",
   "id": "16b11001",
   "metadata": {},
   "source": [
    "Shape of the dataset."
   ]
  },
  {
   "cell_type": "code",
   "execution_count": 4,
   "id": "90aa189f",
   "metadata": {},
   "outputs": [
    {
     "name": "stdout",
     "output_type": "stream",
     "text": [
      "<class 'pandas.core.frame.DataFrame'>\n",
      "RangeIndex: 397 entries, 0 to 396\n",
      "Data columns (total 6 columns):\n",
      " #   Column         Non-Null Count  Dtype \n",
      "---  ------         --------------  ----- \n",
      " 0   rank           397 non-null    object\n",
      " 1   discipline     397 non-null    object\n",
      " 2   yrs.since.phd  397 non-null    int64 \n",
      " 3   yrs.service    397 non-null    int64 \n",
      " 4   sex            397 non-null    object\n",
      " 5   salary         397 non-null    int64 \n",
      "dtypes: int64(3), object(3)\n",
      "memory usage: 18.7+ KB\n"
     ]
    }
   ],
   "source": [
    "data.info()"
   ]
  },
  {
   "cell_type": "markdown",
   "id": "46cd4188",
   "metadata": {},
   "source": [
    "Indformation of Dataset.\n",
    "- Range index : 0 to 396\n",
    "- Total columns : 6\n",
    "- Non null value : no null\n",
    "- dtypes : int(3),object(3)"
   ]
  },
  {
   "cell_type": "code",
   "execution_count": 5,
   "id": "89a07146",
   "metadata": {},
   "outputs": [
    {
     "data": {
      "text/plain": [
       "rank             0\n",
       "discipline       0\n",
       "yrs.since.phd    0\n",
       "yrs.service      0\n",
       "sex              0\n",
       "salary           0\n",
       "dtype: int64"
      ]
     },
     "execution_count": 5,
     "metadata": {},
     "output_type": "execute_result"
    }
   ],
   "source": [
    "data.isna().sum()"
   ]
  },
  {
   "cell_type": "markdown",
   "id": "4532265c",
   "metadata": {},
   "source": [
    "No null values present in any column"
   ]
  },
  {
   "cell_type": "code",
   "execution_count": 6,
   "id": "30a25193",
   "metadata": {},
   "outputs": [
    {
     "data": {
      "text/html": [
       "<div>\n",
       "<style scoped>\n",
       "    .dataframe tbody tr th:only-of-type {\n",
       "        vertical-align: middle;\n",
       "    }\n",
       "\n",
       "    .dataframe tbody tr th {\n",
       "        vertical-align: top;\n",
       "    }\n",
       "\n",
       "    .dataframe thead th {\n",
       "        text-align: right;\n",
       "    }\n",
       "</style>\n",
       "<table border=\"1\" class=\"dataframe\">\n",
       "  <thead>\n",
       "    <tr style=\"text-align: right;\">\n",
       "      <th></th>\n",
       "      <th>yrs.since.phd</th>\n",
       "      <th>yrs.service</th>\n",
       "      <th>salary</th>\n",
       "    </tr>\n",
       "  </thead>\n",
       "  <tbody>\n",
       "    <tr>\n",
       "      <th>count</th>\n",
       "      <td>397.000000</td>\n",
       "      <td>397.000000</td>\n",
       "      <td>397.000000</td>\n",
       "    </tr>\n",
       "    <tr>\n",
       "      <th>mean</th>\n",
       "      <td>22.314861</td>\n",
       "      <td>17.614610</td>\n",
       "      <td>113706.458438</td>\n",
       "    </tr>\n",
       "    <tr>\n",
       "      <th>std</th>\n",
       "      <td>12.887003</td>\n",
       "      <td>13.006024</td>\n",
       "      <td>30289.038695</td>\n",
       "    </tr>\n",
       "    <tr>\n",
       "      <th>min</th>\n",
       "      <td>1.000000</td>\n",
       "      <td>0.000000</td>\n",
       "      <td>57800.000000</td>\n",
       "    </tr>\n",
       "    <tr>\n",
       "      <th>25%</th>\n",
       "      <td>12.000000</td>\n",
       "      <td>7.000000</td>\n",
       "      <td>91000.000000</td>\n",
       "    </tr>\n",
       "    <tr>\n",
       "      <th>50%</th>\n",
       "      <td>21.000000</td>\n",
       "      <td>16.000000</td>\n",
       "      <td>107300.000000</td>\n",
       "    </tr>\n",
       "    <tr>\n",
       "      <th>75%</th>\n",
       "      <td>32.000000</td>\n",
       "      <td>27.000000</td>\n",
       "      <td>134185.000000</td>\n",
       "    </tr>\n",
       "    <tr>\n",
       "      <th>max</th>\n",
       "      <td>56.000000</td>\n",
       "      <td>60.000000</td>\n",
       "      <td>231545.000000</td>\n",
       "    </tr>\n",
       "  </tbody>\n",
       "</table>\n",
       "</div>"
      ],
      "text/plain": [
       "       yrs.since.phd  yrs.service         salary\n",
       "count     397.000000   397.000000     397.000000\n",
       "mean       22.314861    17.614610  113706.458438\n",
       "std        12.887003    13.006024   30289.038695\n",
       "min         1.000000     0.000000   57800.000000\n",
       "25%        12.000000     7.000000   91000.000000\n",
       "50%        21.000000    16.000000  107300.000000\n",
       "75%        32.000000    27.000000  134185.000000\n",
       "max        56.000000    60.000000  231545.000000"
      ]
     },
     "execution_count": 6,
     "metadata": {},
     "output_type": "execute_result"
    }
   ],
   "source": [
    "data.describe()"
   ]
  },
  {
   "cell_type": "markdown",
   "id": "5819515b",
   "metadata": {},
   "source": [
    "Description of the dataset."
   ]
  },
  {
   "cell_type": "code",
   "execution_count": 7,
   "id": "65d6c9ac",
   "metadata": {},
   "outputs": [
    {
     "name": "stdout",
     "output_type": "stream",
     "text": [
      "['Prof' 'AsstProf' 'AssocProf']\n",
      "['B' 'A']\n",
      "['Male' 'Female']\n"
     ]
    }
   ],
   "source": [
    "print(data['rank'].unique())\n",
    "print(data['discipline'].unique())\n",
    "print(data['sex'].unique())"
   ]
  },
  {
   "cell_type": "markdown",
   "id": "af197afc",
   "metadata": {},
   "source": [
    "Unique elements in particular columns."
   ]
  },
  {
   "cell_type": "markdown",
   "id": "729acbcb",
   "metadata": {},
   "source": [
    "- Using label encoder for encoding the object values."
   ]
  },
  {
   "cell_type": "code",
   "execution_count": 8,
   "id": "55677607",
   "metadata": {},
   "outputs": [],
   "source": [
    "lb = LabelEncoder()"
   ]
  },
  {
   "cell_type": "code",
   "execution_count": 9,
   "id": "ee82d92f",
   "metadata": {},
   "outputs": [
    {
     "data": {
      "text/plain": [
       "array([2, 1, 0])"
      ]
     },
     "execution_count": 9,
     "metadata": {},
     "output_type": "execute_result"
    }
   ],
   "source": [
    "df = lb.fit_transform(data['rank'])\n",
    "data['rank'] = df\n",
    "data['rank'].unique()"
   ]
  },
  {
   "cell_type": "code",
   "execution_count": 10,
   "id": "9d4f811d",
   "metadata": {},
   "outputs": [
    {
     "data": {
      "text/plain": [
       "array([1, 0])"
      ]
     },
     "execution_count": 10,
     "metadata": {},
     "output_type": "execute_result"
    }
   ],
   "source": [
    "dfd = lb.fit_transform(data['discipline'])\n",
    "data['discipline'] = dfd\n",
    "data['discipline'].unique()"
   ]
  },
  {
   "cell_type": "code",
   "execution_count": 11,
   "id": "67fe2a64",
   "metadata": {},
   "outputs": [
    {
     "data": {
      "text/plain": [
       "array([1, 0])"
      ]
     },
     "execution_count": 11,
     "metadata": {},
     "output_type": "execute_result"
    }
   ],
   "source": [
    "dfs = lb.fit_transform(data['sex'])\n",
    "data['sex'] = dfs\n",
    "data['sex'].unique()"
   ]
  },
  {
   "cell_type": "code",
   "execution_count": 12,
   "id": "c9472bd7",
   "metadata": {},
   "outputs": [
    {
     "data": {
      "text/html": [
       "<div>\n",
       "<style scoped>\n",
       "    .dataframe tbody tr th:only-of-type {\n",
       "        vertical-align: middle;\n",
       "    }\n",
       "\n",
       "    .dataframe tbody tr th {\n",
       "        vertical-align: top;\n",
       "    }\n",
       "\n",
       "    .dataframe thead th {\n",
       "        text-align: right;\n",
       "    }\n",
       "</style>\n",
       "<table border=\"1\" class=\"dataframe\">\n",
       "  <thead>\n",
       "    <tr style=\"text-align: right;\">\n",
       "      <th></th>\n",
       "      <th>rank</th>\n",
       "      <th>discipline</th>\n",
       "      <th>yrs.since.phd</th>\n",
       "      <th>yrs.service</th>\n",
       "      <th>sex</th>\n",
       "      <th>salary</th>\n",
       "    </tr>\n",
       "  </thead>\n",
       "  <tbody>\n",
       "    <tr>\n",
       "      <th>0</th>\n",
       "      <td>2</td>\n",
       "      <td>1</td>\n",
       "      <td>19</td>\n",
       "      <td>18</td>\n",
       "      <td>1</td>\n",
       "      <td>139750</td>\n",
       "    </tr>\n",
       "    <tr>\n",
       "      <th>1</th>\n",
       "      <td>2</td>\n",
       "      <td>1</td>\n",
       "      <td>20</td>\n",
       "      <td>16</td>\n",
       "      <td>1</td>\n",
       "      <td>173200</td>\n",
       "    </tr>\n",
       "    <tr>\n",
       "      <th>2</th>\n",
       "      <td>1</td>\n",
       "      <td>1</td>\n",
       "      <td>4</td>\n",
       "      <td>3</td>\n",
       "      <td>1</td>\n",
       "      <td>79750</td>\n",
       "    </tr>\n",
       "    <tr>\n",
       "      <th>3</th>\n",
       "      <td>2</td>\n",
       "      <td>1</td>\n",
       "      <td>45</td>\n",
       "      <td>39</td>\n",
       "      <td>1</td>\n",
       "      <td>115000</td>\n",
       "    </tr>\n",
       "    <tr>\n",
       "      <th>4</th>\n",
       "      <td>2</td>\n",
       "      <td>1</td>\n",
       "      <td>40</td>\n",
       "      <td>41</td>\n",
       "      <td>1</td>\n",
       "      <td>141500</td>\n",
       "    </tr>\n",
       "  </tbody>\n",
       "</table>\n",
       "</div>"
      ],
      "text/plain": [
       "   rank  discipline  yrs.since.phd  yrs.service  sex  salary\n",
       "0     2           1             19           18    1  139750\n",
       "1     2           1             20           16    1  173200\n",
       "2     1           1              4            3    1   79750\n",
       "3     2           1             45           39    1  115000\n",
       "4     2           1             40           41    1  141500"
      ]
     },
     "execution_count": 12,
     "metadata": {},
     "output_type": "execute_result"
    }
   ],
   "source": [
    "data.head()"
   ]
  },
  {
   "cell_type": "code",
   "execution_count": 13,
   "id": "ba63effe",
   "metadata": {},
   "outputs": [],
   "source": [
    "x = data.drop('salary',axis = 1)\n",
    "y = data.salary"
   ]
  },
  {
   "cell_type": "markdown",
   "id": "1cd05134",
   "metadata": {},
   "source": [
    "Seperation labels and target"
   ]
  },
  {
   "cell_type": "code",
   "execution_count": 16,
   "id": "eee20bc4",
   "metadata": {},
   "outputs": [
    {
     "data": {
      "text/plain": [
       "array([[ 0.64925739,  0.91540317, -0.25754973,  0.02966908,  0.3300584 ],\n",
       "       [ 0.64925739,  0.91540317, -0.17985426, -0.12429986,  0.3300584 ],\n",
       "       [-0.67256406,  0.91540317, -1.42298184, -1.12509795,  0.3300584 ],\n",
       "       ...,\n",
       "       [ 0.64925739, -1.09241483,  1.52944617,  0.56856036,  0.3300584 ],\n",
       "       [ 0.64925739, -1.09241483,  0.20862311, -0.20128433,  0.3300584 ],\n",
       "       [-0.67256406, -1.09241483, -1.11219995, -1.04811348,  0.3300584 ]])"
      ]
     },
     "execution_count": 16,
     "metadata": {},
     "output_type": "execute_result"
    }
   ],
   "source": [
    "scaler = StandardScaler()\n",
    "x_scaled = scaler.fit_transform(x)\n",
    "x_scaled"
   ]
  },
  {
   "cell_type": "markdown",
   "id": "842925ac",
   "metadata": {},
   "source": [
    "Applying Standard Scaler on labels to scaled the values present."
   ]
  },
  {
   "cell_type": "markdown",
   "id": "f8f5f521",
   "metadata": {},
   "source": [
    "## Training the Model"
   ]
  },
  {
   "cell_type": "markdown",
   "id": "b8791a52",
   "metadata": {},
   "source": [
    "**- Train Test Split**"
   ]
  },
  {
   "cell_type": "code",
   "execution_count": 17,
   "id": "bf64d5ef",
   "metadata": {},
   "outputs": [],
   "source": [
    "x_train,x_test,y_train,y_test = train_test_split(x_scaled, y, test_size = 0.20, random_state = 30)"
   ]
  },
  {
   "cell_type": "markdown",
   "id": "a805f054",
   "metadata": {},
   "source": [
    "**- Creating The function for the training and testing score, so that, we can get the results just nby calling the function**"
   ]
  },
  {
   "cell_type": "code",
   "execution_count": 18,
   "id": "4045191c",
   "metadata": {},
   "outputs": [],
   "source": [
    "def score(reg, x_train, x_test, y_train, y_test, train = True):\n",
    "    if train:\n",
    "        y_pred = reg.predict(x_train)\n",
    "        print('\\n ----- Train Result ----- \\n')\n",
    "        print('R2 Score:', metrics.r2_score(y_train,y_pred))\n",
    "    \n",
    "    elif train == False:\n",
    "        pred = reg.predict(x_test)\n",
    "        print('\\n ----- Test Result ----- \\n')\n",
    "        print('R2 Score:', metrics.r2_score(y_test,pred))"
   ]
  },
  {
   "cell_type": "markdown",
   "id": "b38191c5",
   "metadata": {},
   "source": [
    "**- Model Instantiating**"
   ]
  },
  {
   "cell_type": "code",
   "execution_count": 30,
   "id": "30cc61f2",
   "metadata": {},
   "outputs": [],
   "source": [
    "ada = AdaBoostRegressor()\n",
    "rf = RandomForestRegressor()"
   ]
  },
  {
   "cell_type": "markdown",
   "id": "a8e37347",
   "metadata": {},
   "source": [
    "**- Model Trainning For AdaBoost**"
   ]
  },
  {
   "cell_type": "code",
   "execution_count": 20,
   "id": "609666dc",
   "metadata": {},
   "outputs": [
    {
     "name": "stdout",
     "output_type": "stream",
     "text": [
      "\n",
      " ----- Train Result ----- \n",
      "\n",
      "R2 Score: 0.4985370397779263\n",
      "\n",
      " ----- Test Result ----- \n",
      "\n",
      "R2 Score: 0.3678456363063437\n"
     ]
    }
   ],
   "source": [
    "ada.fit(x_train,y_train)\n",
    "score(ada, x_train,x_test,y_train,y_test,train = True)\n",
    "score(ada, x_train,x_test,y_train,y_test,train = False)"
   ]
  },
  {
   "cell_type": "markdown",
   "id": "94857d72",
   "metadata": {},
   "source": [
    "Score for Adaboost."
   ]
  },
  {
   "cell_type": "markdown",
   "id": "686a676f",
   "metadata": {},
   "source": [
    "**- Model Trainning For Random Forest**"
   ]
  },
  {
   "cell_type": "code",
   "execution_count": 21,
   "id": "9472c6c7",
   "metadata": {},
   "outputs": [
    {
     "name": "stdout",
     "output_type": "stream",
     "text": [
      "\n",
      " ----- Train Result ----- \n",
      "\n",
      "R2 Score: 0.8656506758366306\n",
      "\n",
      " ----- Test Result ----- \n",
      "\n",
      "R2 Score: 0.4231849705628815\n"
     ]
    }
   ],
   "source": [
    "rf.fit(x_train,y_train)\n",
    "score(rf, x_train,x_test,y_train,y_test,train = True)\n",
    "score(rf, x_train,x_test,y_train,y_test,train = False)"
   ]
  },
  {
   "cell_type": "markdown",
   "id": "af04fb6d",
   "metadata": {},
   "source": [
    "Score of Random Forest"
   ]
  },
  {
   "cell_type": "code",
   "execution_count": 22,
   "id": "a434a677",
   "metadata": {},
   "outputs": [
    {
     "data": {
      "text/html": [
       "<div>\n",
       "<style scoped>\n",
       "    .dataframe tbody tr th:only-of-type {\n",
       "        vertical-align: middle;\n",
       "    }\n",
       "\n",
       "    .dataframe tbody tr th {\n",
       "        vertical-align: top;\n",
       "    }\n",
       "\n",
       "    .dataframe thead th {\n",
       "        text-align: right;\n",
       "    }\n",
       "</style>\n",
       "<table border=\"1\" class=\"dataframe\">\n",
       "  <thead>\n",
       "    <tr style=\"text-align: right;\">\n",
       "      <th></th>\n",
       "      <th>rank</th>\n",
       "      <th>discipline</th>\n",
       "      <th>yrs.since.phd</th>\n",
       "      <th>yrs.service</th>\n",
       "      <th>sex</th>\n",
       "      <th>salary</th>\n",
       "    </tr>\n",
       "  </thead>\n",
       "  <tbody>\n",
       "    <tr>\n",
       "      <th>0</th>\n",
       "      <td>2</td>\n",
       "      <td>1</td>\n",
       "      <td>19</td>\n",
       "      <td>18</td>\n",
       "      <td>1</td>\n",
       "      <td>139750</td>\n",
       "    </tr>\n",
       "    <tr>\n",
       "      <th>1</th>\n",
       "      <td>2</td>\n",
       "      <td>1</td>\n",
       "      <td>20</td>\n",
       "      <td>16</td>\n",
       "      <td>1</td>\n",
       "      <td>173200</td>\n",
       "    </tr>\n",
       "    <tr>\n",
       "      <th>2</th>\n",
       "      <td>1</td>\n",
       "      <td>1</td>\n",
       "      <td>4</td>\n",
       "      <td>3</td>\n",
       "      <td>1</td>\n",
       "      <td>79750</td>\n",
       "    </tr>\n",
       "    <tr>\n",
       "      <th>3</th>\n",
       "      <td>2</td>\n",
       "      <td>1</td>\n",
       "      <td>45</td>\n",
       "      <td>39</td>\n",
       "      <td>1</td>\n",
       "      <td>115000</td>\n",
       "    </tr>\n",
       "    <tr>\n",
       "      <th>4</th>\n",
       "      <td>2</td>\n",
       "      <td>1</td>\n",
       "      <td>40</td>\n",
       "      <td>41</td>\n",
       "      <td>1</td>\n",
       "      <td>141500</td>\n",
       "    </tr>\n",
       "  </tbody>\n",
       "</table>\n",
       "</div>"
      ],
      "text/plain": [
       "   rank  discipline  yrs.since.phd  yrs.service  sex  salary\n",
       "0     2           1             19           18    1  139750\n",
       "1     2           1             20           16    1  173200\n",
       "2     1           1              4            3    1   79750\n",
       "3     2           1             45           39    1  115000\n",
       "4     2           1             40           41    1  141500"
      ]
     },
     "execution_count": 22,
     "metadata": {},
     "output_type": "execute_result"
    }
   ],
   "source": [
    "data.head()"
   ]
  },
  {
   "cell_type": "code",
   "execution_count": 23,
   "id": "bb04e998",
   "metadata": {},
   "outputs": [
    {
     "data": {
      "text/html": [
       "<div>\n",
       "<style scoped>\n",
       "    .dataframe tbody tr th:only-of-type {\n",
       "        vertical-align: middle;\n",
       "    }\n",
       "\n",
       "    .dataframe tbody tr th {\n",
       "        vertical-align: top;\n",
       "    }\n",
       "\n",
       "    .dataframe thead th {\n",
       "        text-align: right;\n",
       "    }\n",
       "</style>\n",
       "<table border=\"1\" class=\"dataframe\">\n",
       "  <thead>\n",
       "    <tr style=\"text-align: right;\">\n",
       "      <th></th>\n",
       "      <th>rank</th>\n",
       "      <th>discipline</th>\n",
       "      <th>yrs.since.phd</th>\n",
       "      <th>yrs.service</th>\n",
       "      <th>sex</th>\n",
       "    </tr>\n",
       "  </thead>\n",
       "  <tbody>\n",
       "    <tr>\n",
       "      <th>0</th>\n",
       "      <td>2</td>\n",
       "      <td>1</td>\n",
       "      <td>19</td>\n",
       "      <td>18</td>\n",
       "      <td>1</td>\n",
       "    </tr>\n",
       "    <tr>\n",
       "      <th>1</th>\n",
       "      <td>2</td>\n",
       "      <td>1</td>\n",
       "      <td>20</td>\n",
       "      <td>16</td>\n",
       "      <td>1</td>\n",
       "    </tr>\n",
       "    <tr>\n",
       "      <th>2</th>\n",
       "      <td>1</td>\n",
       "      <td>1</td>\n",
       "      <td>4</td>\n",
       "      <td>3</td>\n",
       "      <td>1</td>\n",
       "    </tr>\n",
       "    <tr>\n",
       "      <th>3</th>\n",
       "      <td>2</td>\n",
       "      <td>1</td>\n",
       "      <td>45</td>\n",
       "      <td>39</td>\n",
       "      <td>1</td>\n",
       "    </tr>\n",
       "    <tr>\n",
       "      <th>4</th>\n",
       "      <td>2</td>\n",
       "      <td>1</td>\n",
       "      <td>40</td>\n",
       "      <td>41</td>\n",
       "      <td>1</td>\n",
       "    </tr>\n",
       "  </tbody>\n",
       "</table>\n",
       "</div>"
      ],
      "text/plain": [
       "   rank  discipline  yrs.since.phd  yrs.service  sex\n",
       "0     2           1             19           18    1\n",
       "1     2           1             20           16    1\n",
       "2     1           1              4            3    1\n",
       "3     2           1             45           39    1\n",
       "4     2           1             40           41    1"
      ]
     },
     "execution_count": 23,
     "metadata": {},
     "output_type": "execute_result"
    }
   ],
   "source": [
    "x.head()"
   ]
  },
  {
   "cell_type": "code",
   "execution_count": 25,
   "id": "5c5bbaf0",
   "metadata": {},
   "outputs": [
    {
     "name": "stdout",
     "output_type": "stream",
     "text": [
      "Score :  [158349.03083333]\n"
     ]
    }
   ],
   "source": [
    "print('Score : ', rf.predict(scaler.transform([[2,1,20,16,1]])))"
   ]
  },
  {
   "cell_type": "markdown",
   "id": "c2ce54b3",
   "metadata": {},
   "source": [
    "**As the Random Forest is giving the better result, so will go with Random Forest Regressor**"
   ]
  },
  {
   "cell_type": "markdown",
   "id": "a6c99f3a",
   "metadata": {},
   "source": [
    "**- Hyperparameter Tuning**"
   ]
  },
  {
   "cell_type": "code",
   "execution_count": 26,
   "id": "483658d6",
   "metadata": {},
   "outputs": [],
   "source": [
    "param = {'n_estimators': range(1,10),\n",
    "         'max_depth':range(1,10),\n",
    "         'max_leaf_nodes' : [2,4,6],\n",
    "        }"
   ]
  },
  {
   "cell_type": "code",
   "execution_count": 42,
   "id": "13c84c7d",
   "metadata": {},
   "outputs": [],
   "source": [
    "grid = GridSearchCV(estimator = rf ,param_grid = param )"
   ]
  },
  {
   "cell_type": "code",
   "execution_count": 36,
   "id": "cdcb9047",
   "metadata": {
    "scrolled": true
   },
   "outputs": [
    {
     "data": {
      "text/plain": [
       "GridSearchCV(estimator=RandomForestRegressor(),\n",
       "             param_grid={'max_depth': range(1, 10), 'max_leaf_nodes': [2, 4, 6],\n",
       "                         'n_estimators': range(1, 100)})"
      ]
     },
     "execution_count": 36,
     "metadata": {},
     "output_type": "execute_result"
    }
   ],
   "source": [
    "grid.fit(x_train,y_train)"
   ]
  },
  {
   "cell_type": "code",
   "execution_count": 37,
   "id": "3dc143f2",
   "metadata": {},
   "outputs": [
    {
     "data": {
      "text/plain": [
       "{'max_depth': 3, 'max_leaf_nodes': 6, 'n_estimators': 37}"
      ]
     },
     "execution_count": 37,
     "metadata": {},
     "output_type": "execute_result"
    }
   ],
   "source": [
    "best = grid.best_params_\n",
    "best"
   ]
  },
  {
   "cell_type": "code",
   "execution_count": 38,
   "id": "2c0d49e0",
   "metadata": {},
   "outputs": [],
   "source": [
    "rfh = RandomForestRegressor(max_depth = 3, max_leaf_nodes = 6, n_estimators = 37)"
   ]
  },
  {
   "cell_type": "markdown",
   "id": "6376a7fd",
   "metadata": {},
   "source": [
    "**- Post tunning Result**"
   ]
  },
  {
   "cell_type": "code",
   "execution_count": 39,
   "id": "455d7eff",
   "metadata": {},
   "outputs": [
    {
     "name": "stdout",
     "output_type": "stream",
     "text": [
      "\n",
      " ----- Train Result ----- \n",
      "\n",
      "R2 Score: 0.49233071380089555\n",
      "\n",
      " ----- Test Result ----- \n",
      "\n",
      "R2 Score: 0.45430665984908014\n"
     ]
    }
   ],
   "source": [
    "rfh.fit(x_train,y_train)\n",
    "score(rfh, x_train,x_test,y_train,y_test,train = True)\n",
    "score(rfh, x_train,x_test,y_train,y_test,train = False)"
   ]
  },
  {
   "cell_type": "markdown",
   "id": "f3d44e47",
   "metadata": {},
   "source": [
    "Post tunning result of Random Forest Regressor"
   ]
  }
 ],
 "metadata": {
  "kernelspec": {
   "display_name": "Python 3 (ipykernel)",
   "language": "python",
   "name": "python3"
  },
  "language_info": {
   "codemirror_mode": {
    "name": "ipython",
    "version": 3
   },
   "file_extension": ".py",
   "mimetype": "text/x-python",
   "name": "python",
   "nbconvert_exporter": "python",
   "pygments_lexer": "ipython3",
   "version": "3.9.7"
  }
 },
 "nbformat": 4,
 "nbformat_minor": 5
}
