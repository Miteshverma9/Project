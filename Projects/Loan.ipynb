{
 "cells": [
  {
   "cell_type": "code",
   "execution_count": 101,
   "id": "81f07878",
   "metadata": {},
   "outputs": [],
   "source": [
    "import pandas as pd\n",
    "import numpy as np\n",
    "import seaborn as sns\n",
    "import matplotlib.pyplot as plt\n",
    "%matplotlib inline\n",
    "\n",
    "from sklearn.preprocessing import LabelEncoder,StandardScaler\n",
    "from sklearn.feature_selection import SelectKBest,f_classif\n",
    "from sklearn.model_selection import train_test_split,GridSearchCV\n",
    "from sklearn.metrics import accuracy_score,classification_report,confusion_matrix,roc_auc_score,roc_curve,plot_roc_curve\n",
    "from sklearn.neighbors import KNeighborsClassifier\n",
    "from sklearn.ensemble import AdaBoostClassifier,RandomForestClassifier,BaggingClassifier,GradientBoostingClassifier\n",
    "\n",
    "import pickle\n",
    "import warnings\n",
    "warnings.filterwarnings('ignore')"
   ]
  },
  {
   "cell_type": "code",
   "execution_count": 5,
   "id": "469d9e04",
   "metadata": {},
   "outputs": [
    {
     "data": {
      "text/html": [
       "<div>\n",
       "<style scoped>\n",
       "    .dataframe tbody tr th:only-of-type {\n",
       "        vertical-align: middle;\n",
       "    }\n",
       "\n",
       "    .dataframe tbody tr th {\n",
       "        vertical-align: top;\n",
       "    }\n",
       "\n",
       "    .dataframe thead th {\n",
       "        text-align: right;\n",
       "    }\n",
       "</style>\n",
       "<table border=\"1\" class=\"dataframe\">\n",
       "  <thead>\n",
       "    <tr style=\"text-align: right;\">\n",
       "      <th></th>\n",
       "      <th>Loan_ID</th>\n",
       "      <th>Gender</th>\n",
       "      <th>Married</th>\n",
       "      <th>Dependents</th>\n",
       "      <th>Education</th>\n",
       "      <th>Self_Employed</th>\n",
       "      <th>ApplicantIncome</th>\n",
       "      <th>CoapplicantIncome</th>\n",
       "      <th>LoanAmount</th>\n",
       "      <th>Loan_Amount_Term</th>\n",
       "      <th>Credit_History</th>\n",
       "      <th>Property_Area</th>\n",
       "      <th>Loan_Status</th>\n",
       "    </tr>\n",
       "  </thead>\n",
       "  <tbody>\n",
       "    <tr>\n",
       "      <th>0</th>\n",
       "      <td>LP001002</td>\n",
       "      <td>Male</td>\n",
       "      <td>No</td>\n",
       "      <td>0</td>\n",
       "      <td>Graduate</td>\n",
       "      <td>No</td>\n",
       "      <td>5849</td>\n",
       "      <td>0.0</td>\n",
       "      <td>NaN</td>\n",
       "      <td>360.0</td>\n",
       "      <td>1.0</td>\n",
       "      <td>Urban</td>\n",
       "      <td>Y</td>\n",
       "    </tr>\n",
       "    <tr>\n",
       "      <th>1</th>\n",
       "      <td>LP001003</td>\n",
       "      <td>Male</td>\n",
       "      <td>Yes</td>\n",
       "      <td>1</td>\n",
       "      <td>Graduate</td>\n",
       "      <td>No</td>\n",
       "      <td>4583</td>\n",
       "      <td>1508.0</td>\n",
       "      <td>128.0</td>\n",
       "      <td>360.0</td>\n",
       "      <td>1.0</td>\n",
       "      <td>Rural</td>\n",
       "      <td>N</td>\n",
       "    </tr>\n",
       "    <tr>\n",
       "      <th>2</th>\n",
       "      <td>LP001005</td>\n",
       "      <td>Male</td>\n",
       "      <td>Yes</td>\n",
       "      <td>0</td>\n",
       "      <td>Graduate</td>\n",
       "      <td>Yes</td>\n",
       "      <td>3000</td>\n",
       "      <td>0.0</td>\n",
       "      <td>66.0</td>\n",
       "      <td>360.0</td>\n",
       "      <td>1.0</td>\n",
       "      <td>Urban</td>\n",
       "      <td>Y</td>\n",
       "    </tr>\n",
       "    <tr>\n",
       "      <th>3</th>\n",
       "      <td>LP001006</td>\n",
       "      <td>Male</td>\n",
       "      <td>Yes</td>\n",
       "      <td>0</td>\n",
       "      <td>Not Graduate</td>\n",
       "      <td>No</td>\n",
       "      <td>2583</td>\n",
       "      <td>2358.0</td>\n",
       "      <td>120.0</td>\n",
       "      <td>360.0</td>\n",
       "      <td>1.0</td>\n",
       "      <td>Urban</td>\n",
       "      <td>Y</td>\n",
       "    </tr>\n",
       "    <tr>\n",
       "      <th>4</th>\n",
       "      <td>LP001008</td>\n",
       "      <td>Male</td>\n",
       "      <td>No</td>\n",
       "      <td>0</td>\n",
       "      <td>Graduate</td>\n",
       "      <td>No</td>\n",
       "      <td>6000</td>\n",
       "      <td>0.0</td>\n",
       "      <td>141.0</td>\n",
       "      <td>360.0</td>\n",
       "      <td>1.0</td>\n",
       "      <td>Urban</td>\n",
       "      <td>Y</td>\n",
       "    </tr>\n",
       "  </tbody>\n",
       "</table>\n",
       "</div>"
      ],
      "text/plain": [
       "    Loan_ID Gender Married Dependents     Education Self_Employed  \\\n",
       "0  LP001002   Male      No          0      Graduate            No   \n",
       "1  LP001003   Male     Yes          1      Graduate            No   \n",
       "2  LP001005   Male     Yes          0      Graduate           Yes   \n",
       "3  LP001006   Male     Yes          0  Not Graduate            No   \n",
       "4  LP001008   Male      No          0      Graduate            No   \n",
       "\n",
       "   ApplicantIncome  CoapplicantIncome  LoanAmount  Loan_Amount_Term  \\\n",
       "0             5849                0.0         NaN             360.0   \n",
       "1             4583             1508.0       128.0             360.0   \n",
       "2             3000                0.0        66.0             360.0   \n",
       "3             2583             2358.0       120.0             360.0   \n",
       "4             6000                0.0       141.0             360.0   \n",
       "\n",
       "   Credit_History Property_Area Loan_Status  \n",
       "0             1.0         Urban           Y  \n",
       "1             1.0         Rural           N  \n",
       "2             1.0         Urban           Y  \n",
       "3             1.0         Urban           Y  \n",
       "4             1.0         Urban           Y  "
      ]
     },
     "execution_count": 5,
     "metadata": {},
     "output_type": "execute_result"
    }
   ],
   "source": [
    "loan = pd.read_csv('https://raw.githubusercontent.com/dsrscientist/DSData/master/loan_prediction.csv')\n",
    "loan.head()"
   ]
  },
  {
   "cell_type": "markdown",
   "id": "4f57327a",
   "metadata": {},
   "source": [
    "## Features.\n",
    "**- Categorical Columns.**\n",
    "- Gender\n",
    "- Married\n",
    "- Dependents\n",
    "- Education\n",
    "- Self_Employed\n",
    "- Credit_History\n",
    "- Property_Area\n",
    "\n",
    "**- Non-Categorical Columns.**\n",
    "- Loan_ID\n",
    "- ApplicantIncome\n",
    "- CoapplicantIncome\n",
    "- LoanAmount\n",
    "- Loan_Amount_Term\n",
    "\n",
    "## Target.\n",
    "- Loan_Status"
   ]
  },
  {
   "cell_type": "markdown",
   "id": "60f76189",
   "metadata": {},
   "source": [
    "## EDA "
   ]
  },
  {
   "cell_type": "code",
   "execution_count": 3,
   "id": "6d636006",
   "metadata": {},
   "outputs": [
    {
     "data": {
      "text/plain": [
       "(614, 13)"
      ]
     },
     "execution_count": 3,
     "metadata": {},
     "output_type": "execute_result"
    }
   ],
   "source": [
    "loan.shape"
   ]
  },
  {
   "cell_type": "markdown",
   "id": "1ed86915",
   "metadata": {},
   "source": [
    "Shape of our dataset is 614,17"
   ]
  },
  {
   "cell_type": "code",
   "execution_count": 6,
   "id": "e5454f59",
   "metadata": {},
   "outputs": [
    {
     "data": {
      "text/html": [
       "<div>\n",
       "<style scoped>\n",
       "    .dataframe tbody tr th:only-of-type {\n",
       "        vertical-align: middle;\n",
       "    }\n",
       "\n",
       "    .dataframe tbody tr th {\n",
       "        vertical-align: top;\n",
       "    }\n",
       "\n",
       "    .dataframe thead th {\n",
       "        text-align: right;\n",
       "    }\n",
       "</style>\n",
       "<table border=\"1\" class=\"dataframe\">\n",
       "  <thead>\n",
       "    <tr style=\"text-align: right;\">\n",
       "      <th></th>\n",
       "      <th>ApplicantIncome</th>\n",
       "      <th>CoapplicantIncome</th>\n",
       "      <th>LoanAmount</th>\n",
       "      <th>Loan_Amount_Term</th>\n",
       "      <th>Credit_History</th>\n",
       "    </tr>\n",
       "  </thead>\n",
       "  <tbody>\n",
       "    <tr>\n",
       "      <th>count</th>\n",
       "      <td>614.000000</td>\n",
       "      <td>614.000000</td>\n",
       "      <td>592.000000</td>\n",
       "      <td>600.00000</td>\n",
       "      <td>564.000000</td>\n",
       "    </tr>\n",
       "    <tr>\n",
       "      <th>mean</th>\n",
       "      <td>5403.459283</td>\n",
       "      <td>1621.245798</td>\n",
       "      <td>146.412162</td>\n",
       "      <td>342.00000</td>\n",
       "      <td>0.842199</td>\n",
       "    </tr>\n",
       "    <tr>\n",
       "      <th>std</th>\n",
       "      <td>6109.041673</td>\n",
       "      <td>2926.248369</td>\n",
       "      <td>85.587325</td>\n",
       "      <td>65.12041</td>\n",
       "      <td>0.364878</td>\n",
       "    </tr>\n",
       "    <tr>\n",
       "      <th>min</th>\n",
       "      <td>150.000000</td>\n",
       "      <td>0.000000</td>\n",
       "      <td>9.000000</td>\n",
       "      <td>12.00000</td>\n",
       "      <td>0.000000</td>\n",
       "    </tr>\n",
       "    <tr>\n",
       "      <th>25%</th>\n",
       "      <td>2877.500000</td>\n",
       "      <td>0.000000</td>\n",
       "      <td>100.000000</td>\n",
       "      <td>360.00000</td>\n",
       "      <td>1.000000</td>\n",
       "    </tr>\n",
       "    <tr>\n",
       "      <th>50%</th>\n",
       "      <td>3812.500000</td>\n",
       "      <td>1188.500000</td>\n",
       "      <td>128.000000</td>\n",
       "      <td>360.00000</td>\n",
       "      <td>1.000000</td>\n",
       "    </tr>\n",
       "    <tr>\n",
       "      <th>75%</th>\n",
       "      <td>5795.000000</td>\n",
       "      <td>2297.250000</td>\n",
       "      <td>168.000000</td>\n",
       "      <td>360.00000</td>\n",
       "      <td>1.000000</td>\n",
       "    </tr>\n",
       "    <tr>\n",
       "      <th>max</th>\n",
       "      <td>81000.000000</td>\n",
       "      <td>41667.000000</td>\n",
       "      <td>700.000000</td>\n",
       "      <td>480.00000</td>\n",
       "      <td>1.000000</td>\n",
       "    </tr>\n",
       "  </tbody>\n",
       "</table>\n",
       "</div>"
      ],
      "text/plain": [
       "       ApplicantIncome  CoapplicantIncome  LoanAmount  Loan_Amount_Term  \\\n",
       "count       614.000000         614.000000  592.000000         600.00000   \n",
       "mean       5403.459283        1621.245798  146.412162         342.00000   \n",
       "std        6109.041673        2926.248369   85.587325          65.12041   \n",
       "min         150.000000           0.000000    9.000000          12.00000   \n",
       "25%        2877.500000           0.000000  100.000000         360.00000   \n",
       "50%        3812.500000        1188.500000  128.000000         360.00000   \n",
       "75%        5795.000000        2297.250000  168.000000         360.00000   \n",
       "max       81000.000000       41667.000000  700.000000         480.00000   \n",
       "\n",
       "       Credit_History  \n",
       "count      564.000000  \n",
       "mean         0.842199  \n",
       "std          0.364878  \n",
       "min          0.000000  \n",
       "25%          1.000000  \n",
       "50%          1.000000  \n",
       "75%          1.000000  \n",
       "max          1.000000  "
      ]
     },
     "execution_count": 6,
     "metadata": {},
     "output_type": "execute_result"
    }
   ],
   "source": [
    "loan.describe()"
   ]
  },
  {
   "cell_type": "markdown",
   "id": "f239240c",
   "metadata": {},
   "source": [
    "**- Description of dataset. (Showing description only for non-categorical columns)**\n",
    "- Count.\n",
    "- Mean.\n",
    "- Standard deviation.\n",
    "- Mininum\n",
    "- 1st Quantile (25%)\n",
    "- 2nd Quantile (50%)\n",
    "- 3rd Quantile (75%)\n",
    "- Maximum."
   ]
  },
  {
   "cell_type": "code",
   "execution_count": 7,
   "id": "258f45a4",
   "metadata": {},
   "outputs": [
    {
     "name": "stdout",
     "output_type": "stream",
     "text": [
      "<class 'pandas.core.frame.DataFrame'>\n",
      "RangeIndex: 614 entries, 0 to 613\n",
      "Data columns (total 13 columns):\n",
      " #   Column             Non-Null Count  Dtype  \n",
      "---  ------             --------------  -----  \n",
      " 0   Loan_ID            614 non-null    object \n",
      " 1   Gender             601 non-null    object \n",
      " 2   Married            611 non-null    object \n",
      " 3   Dependents         599 non-null    object \n",
      " 4   Education          614 non-null    object \n",
      " 5   Self_Employed      582 non-null    object \n",
      " 6   ApplicantIncome    614 non-null    int64  \n",
      " 7   CoapplicantIncome  614 non-null    float64\n",
      " 8   LoanAmount         592 non-null    float64\n",
      " 9   Loan_Amount_Term   600 non-null    float64\n",
      " 10  Credit_History     564 non-null    float64\n",
      " 11  Property_Area      614 non-null    object \n",
      " 12  Loan_Status        614 non-null    object \n",
      "dtypes: float64(4), int64(1), object(8)\n",
      "memory usage: 62.5+ KB\n"
     ]
    }
   ],
   "source": [
    "loan.info()"
   ]
  },
  {
   "cell_type": "markdown",
   "id": "e8c6bfad",
   "metadata": {},
   "source": [
    "**Information of dataset.**\n",
    "- RangeIndex: 0 to 613\n",
    "- Data columns: 13\n",
    "- dtypes: float64(4), int64(1), object(8)\n",
    "- There are null values present in our dataset."
   ]
  },
  {
   "cell_type": "code",
   "execution_count": 8,
   "id": "a84b5934",
   "metadata": {},
   "outputs": [
    {
     "data": {
      "text/plain": [
       "Loan_ID               0\n",
       "Gender               13\n",
       "Married               3\n",
       "Dependents           15\n",
       "Education             0\n",
       "Self_Employed        32\n",
       "ApplicantIncome       0\n",
       "CoapplicantIncome     0\n",
       "LoanAmount           22\n",
       "Loan_Amount_Term     14\n",
       "Credit_History       50\n",
       "Property_Area         0\n",
       "Loan_Status           0\n",
       "dtype: int64"
      ]
     },
     "execution_count": 8,
     "metadata": {},
     "output_type": "execute_result"
    }
   ],
   "source": [
    "loan.isna().sum()"
   ]
  },
  {
   "cell_type": "markdown",
   "id": "a93899a5",
   "metadata": {},
   "source": [
    "**Columns with null values.**\n",
    "- Gender\n",
    "- Married\n",
    "- Dependents\n",
    "- Self_Employed\n",
    "- LoanAmount\n",
    "- Loan_Amount_Term\n",
    "- Credit_History"
   ]
  },
  {
   "cell_type": "markdown",
   "id": "27360b5b",
   "metadata": {},
   "source": [
    "**- Filling the null values.**"
   ]
  },
  {
   "cell_type": "markdown",
   "id": "4c0ec93a",
   "metadata": {},
   "source": [
    "**Categorical columns with Mode()**"
   ]
  },
  {
   "cell_type": "code",
   "execution_count": 10,
   "id": "a550e9cc",
   "metadata": {},
   "outputs": [],
   "source": [
    "loan['Gender'] = loan['Gender'].fillna(loan['Gender'].mode()[0])\n",
    "loan['Married'] = loan['Married'].fillna(loan['Married'].mode()[0])\n",
    "loan['Dependents'] = loan['Dependents'].fillna(loan['Dependents'].mode()[0])\n",
    "loan['Self_Employed'] = loan['Self_Employed'].fillna(loan['Self_Employed'].mode()[0])\n",
    "loan['Credit_History'] = loan['Credit_History'].fillna(loan['Credit_History'].mode()[0])"
   ]
  },
  {
   "cell_type": "markdown",
   "id": "bbd42f95",
   "metadata": {},
   "source": [
    "**Non-Categorical columns with Mean()**"
   ]
  },
  {
   "cell_type": "code",
   "execution_count": 11,
   "id": "480fc30c",
   "metadata": {},
   "outputs": [],
   "source": [
    "loan['LoanAmount'] = loan['LoanAmount'].fillna(loan['LoanAmount'].mean())\n",
    "loan['Loan_Amount_Term'] = loan['Loan_Amount_Term'].fillna(loan['Loan_Amount_Term'].mean())"
   ]
  },
  {
   "cell_type": "code",
   "execution_count": 12,
   "id": "a62600a9",
   "metadata": {},
   "outputs": [
    {
     "data": {
      "text/plain": [
       "Loan_ID              0\n",
       "Gender               0\n",
       "Married              0\n",
       "Dependents           0\n",
       "Education            0\n",
       "Self_Employed        0\n",
       "ApplicantIncome      0\n",
       "CoapplicantIncome    0\n",
       "LoanAmount           0\n",
       "Loan_Amount_Term     0\n",
       "Credit_History       0\n",
       "Property_Area        0\n",
       "Loan_Status          0\n",
       "dtype: int64"
      ]
     },
     "execution_count": 12,
     "metadata": {},
     "output_type": "execute_result"
    }
   ],
   "source": [
    "loan.isna().sum()"
   ]
  },
  {
   "cell_type": "markdown",
   "id": "3a0286b7",
   "metadata": {},
   "source": [
    "Now, No Null values present in our dataset."
   ]
  },
  {
   "cell_type": "markdown",
   "id": "16bb4735",
   "metadata": {},
   "source": [
    "## Visualisation."
   ]
  },
  {
   "cell_type": "code",
   "execution_count": 13,
   "id": "1ca05893",
   "metadata": {},
   "outputs": [],
   "source": [
    "def plot(x,y,data):\n",
    "    plt.figure()\n",
    "    plt.scatter(x,y,data=loan)\n",
    "    plt.xlabel(x)\n",
    "    plt.ylabel(y)\n",
    "    print('Scatterpot between',x,'and',y)\n",
    "    plt.show()"
   ]
  },
  {
   "cell_type": "code",
   "execution_count": 22,
   "id": "f2e929af",
   "metadata": {},
   "outputs": [
    {
     "name": "stdout",
     "output_type": "stream",
     "text": [
      "Scatterpot between LoanAmount and Loan_Status\n"
     ]
    },
    {
     "data": {
      "image/png": "[encoded data removed]",
      "text/plain": [
       "<Figure size 432x288 with 1 Axes>"
      ]
     },
     "metadata": {
      "needs_background": "light"
     },
     "output_type": "display_data"
    },
    {
     "name": "stdout",
     "output_type": "stream",
     "text": [
      "Scatterpot between ApplicantIncome and Loan_Status\n"
     ]
    },
    {
     "data": {
      "image/png": "[encoded data removed]",
      "text/plain": [
       "<Figure size 432x288 with 1 Axes>"
      ]
     },
     "metadata": {
      "needs_background": "light"
     },
     "output_type": "display_data"
    },
    {
     "name": "stdout",
     "output_type": "stream",
     "text": [
      "Scatterpot between LoanAmount and Loan_Amount_Term\n"
     ]
    },
    {
     "data": {
      "image/png": "[encoded data removed]",
      "text/plain": [
       "<Figure size 432x288 with 1 Axes>"
      ]
     },
     "metadata": {
      "needs_background": "light"
     },
     "output_type": "display_data"
    }
   ],
   "source": [
    "plot('LoanAmount','Loan_Status',data = loan)\n",
    "plot('ApplicantIncome','Loan_Status',data = loan)\n",
    "plot('LoanAmount','Loan_Amount_Term',data = loan)"
   ]
  },
  {
   "cell_type": "markdown",
   "id": "784c61df",
   "metadata": {},
   "source": [
    "## Encoding."
   ]
  },
  {
   "cell_type": "code",
   "execution_count": 20,
   "id": "cbd8eb89",
   "metadata": {},
   "outputs": [],
   "source": [
    "lb = LabelEncoder()"
   ]
  },
  {
   "cell_type": "code",
   "execution_count": 33,
   "id": "54a9cd46",
   "metadata": {},
   "outputs": [],
   "source": [
    "loan['Gender'] = lb.fit_transform(loan['Gender'])\n",
    "loan['Married'] = lb.fit_transform(loan['Married'])\n",
    "loan['Dependents'] = lb.fit_transform(loan['Dependents'])\n",
    "loan['Education'] = lb.fit_transform(loan['Education'])\n",
    "loan['Self_Employed'] = lb.fit_transform(loan['Self_Employed'])\n",
    "loan['Property_Area'] = lb.fit_transform(loan['Property_Area'])\n",
    "loan['Loan_Status'] = lb.fit_transform(loan['Loan_Status'])"
   ]
  },
  {
   "cell_type": "markdown",
   "id": "39000639",
   "metadata": {},
   "source": [
    "## Normal distribution & Outliers"
   ]
  },
  {
   "cell_type": "code",
   "execution_count": 37,
   "id": "e0cf384e",
   "metadata": {},
   "outputs": [
    {
     "data": {
      "image/png": "[encoded data removed]",
      "text/plain": [
       "<Figure size 720x360 with 2 Axes>"
      ]
     },
     "metadata": {
      "needs_background": "light"
     },
     "output_type": "display_data"
    },
    {
     "data": {
      "image/png": "[encoded data removed]",
      "text/plain": [
       "<Figure size 720x360 with 2 Axes>"
      ]
     },
     "metadata": {
      "needs_background": "light"
     },
     "output_type": "display_data"
    },
    {
     "data": {
      "image/png": "[encoded data removed]",
      "text/plain": [
       "<Figure size 720x360 with 2 Axes>"
      ]
     },
     "metadata": {
      "needs_background": "light"
     },
     "output_type": "display_data"
    },
    {
     "name": "stdout",
     "output_type": "stream",
     "text": [
      "(614, 13)\n"
     ]
    }
   ],
   "source": [
    "def check_outliers(x):\n",
    "    global data\n",
    "    fig, axes = plt.subplots(1,2,figsize=(10,5))\n",
    "    sns.distplot(loan[x],color='#22b199',ax=axes[0])\n",
    "    sns.boxplot(y=loan[x],color='#22b199',ax=axes[1])\n",
    "    axes[0].set_title('Distribution of ' + x)\n",
    "    axes[1].set_title('Box plot of '+ x)\n",
    "    plt.tight_layout()\n",
    "    plt.show()\n",
    "\n",
    "for i in ['ApplicantIncome','CoapplicantIncome','LoanAmount']:\n",
    "    check_outliers(i)\n",
    "    \n",
    "print(loan.shape)"
   ]
  },
  {
   "cell_type": "markdown",
   "id": "f655994d",
   "metadata": {},
   "source": [
    "Outliers and Skewness are present in our dataset, so using IQR to remove them."
   ]
  },
  {
   "cell_type": "code",
   "execution_count": 38,
   "id": "c8dd887d",
   "metadata": {},
   "outputs": [
    {
     "data": {
      "image/png": "[encoded data removed]",
      "text/plain": [
       "<Figure size 720x360 with 2 Axes>"
      ]
     },
     "metadata": {
      "needs_background": "light"
     },
     "output_type": "display_data"
    },
    {
     "data": {
      "image/png": "[encoded data removed]",
      "text/plain": [
       "<Figure size 720x360 with 2 Axes>"
      ]
     },
     "metadata": {
      "needs_background": "light"
     },
     "output_type": "display_data"
    },
    {
     "data": {
      "image/png": "[encoded data removed]",
      "text/plain": [
       "<Figure size 720x360 with 2 Axes>"
      ]
     },
     "metadata": {
      "needs_background": "light"
     },
     "output_type": "display_data"
    },
    {
     "name": "stdout",
     "output_type": "stream",
     "text": [
      "(522, 13)\n"
     ]
    }
   ],
   "source": [
    "def remove_outliers(x):\n",
    "    global loan\n",
    "    Q1= loan[x].quantile(0.25)\n",
    "    Q3 = loan[x].quantile(0.75)\n",
    "    IQR = Q3 - Q1\n",
    "    upper_limit = Q3 + 1.5 * IQR\n",
    "    \n",
    "    index = np.where(loan[x] > upper_limit)\n",
    "    loan = loan.drop(loan.index[index])\n",
    "    loan.reset_index()\n",
    "        \n",
    "    fig, axes = plt.subplots(1,2,figsize=(10,5))\n",
    "    sns.distplot(loan[x],color='#22b199',ax=axes[0])\n",
    "    sns.boxplot(y=loan[x],color='#22b199',ax=axes[1])\n",
    "    axes[0].set_title('Distribution of '+ x )\n",
    "    axes[1].set_title('Box plot of '+ x)\n",
    "    plt.tight_layout()\n",
    "    plt.show()\n",
    "\n",
    "for i in ['ApplicantIncome','CoapplicantIncome','LoanAmount']:\n",
    "    remove_outliers(i)\n",
    "print(loan.shape)"
   ]
  },
  {
   "cell_type": "markdown",
   "id": "e00671db",
   "metadata": {},
   "source": [
    "Post removing outliers and skewness."
   ]
  },
  {
   "cell_type": "markdown",
   "id": "13eced19",
   "metadata": {},
   "source": [
    "## Correlation."
   ]
  },
  {
   "cell_type": "code",
   "execution_count": 43,
   "id": "a15e66c9",
   "metadata": {},
   "outputs": [],
   "source": [
    "df = loan.corr()"
   ]
  },
  {
   "cell_type": "code",
   "execution_count": 44,
   "id": "b17d5fb8",
   "metadata": {},
   "outputs": [
    {
     "data": {
      "text/plain": [
       "<AxesSubplot:>"
      ]
     },
     "execution_count": 44,
     "metadata": {},
     "output_type": "execute_result"
    },
    {
     "data": {
      "image/png": "[encoded data removed]",
      "text/plain": [
       "<Figure size 720x720 with 2 Axes>"
      ]
     },
     "metadata": {
      "needs_background": "light"
     },
     "output_type": "display_data"
    }
   ],
   "source": [
    "plt.figure(figsize = (10,10))\n",
    "sns.heatmap(df,annot = True)"
   ]
  },
  {
   "cell_type": "markdown",
   "id": "d80dfa9b",
   "metadata": {},
   "source": [
    "No multicollinearity problem present."
   ]
  },
  {
   "cell_type": "markdown",
   "id": "5bdd6b13",
   "metadata": {},
   "source": [
    "## Features Selection."
   ]
  },
  {
   "cell_type": "markdown",
   "id": "df3b3ba9",
   "metadata": {},
   "source": [
    "**- Seperating the Features & Target columns.**"
   ]
  },
  {
   "cell_type": "code",
   "execution_count": 50,
   "id": "5067847b",
   "metadata": {},
   "outputs": [],
   "source": [
    "x = loan.drop(columns = ['Loan_Status','Loan_ID'],axis = 1)\n",
    "y = loan.Loan_Status"
   ]
  },
  {
   "cell_type": "markdown",
   "id": "eb152d4b",
   "metadata": {},
   "source": [
    "**- Using SelectKbest for best features.**"
   ]
  },
  {
   "cell_type": "code",
   "execution_count": 54,
   "id": "a5cf2cd2",
   "metadata": {},
   "outputs": [],
   "source": [
    "best = SelectKBest(score_func = f_classif, k = 11)\n",
    "fit = best.fit(x,y)\n",
    "score = pd.DataFrame(fit.scores_)\n",
    "column = pd.DataFrame(x.columns)"
   ]
  },
  {
   "cell_type": "code",
   "execution_count": 55,
   "id": "af43c42f",
   "metadata": {},
   "outputs": [
    {
     "data": {
      "text/html": [
       "<div>\n",
       "<style scoped>\n",
       "    .dataframe tbody tr th:only-of-type {\n",
       "        vertical-align: middle;\n",
       "    }\n",
       "\n",
       "    .dataframe tbody tr th {\n",
       "        vertical-align: top;\n",
       "    }\n",
       "\n",
       "    .dataframe thead th {\n",
       "        text-align: right;\n",
       "    }\n",
       "</style>\n",
       "<table border=\"1\" class=\"dataframe\">\n",
       "  <thead>\n",
       "    <tr style=\"text-align: right;\">\n",
       "      <th></th>\n",
       "      <th>Score</th>\n",
       "      <th>Feature</th>\n",
       "    </tr>\n",
       "  </thead>\n",
       "  <tbody>\n",
       "    <tr>\n",
       "      <th>9</th>\n",
       "      <td>250.037278</td>\n",
       "      <td>Credit_History</td>\n",
       "    </tr>\n",
       "    <tr>\n",
       "      <th>3</th>\n",
       "      <td>7.110441</td>\n",
       "      <td>Education</td>\n",
       "    </tr>\n",
       "    <tr>\n",
       "      <th>1</th>\n",
       "      <td>3.692452</td>\n",
       "      <td>Married</td>\n",
       "    </tr>\n",
       "    <tr>\n",
       "      <th>6</th>\n",
       "      <td>2.210632</td>\n",
       "      <td>CoapplicantIncome</td>\n",
       "    </tr>\n",
       "    <tr>\n",
       "      <th>0</th>\n",
       "      <td>1.379661</td>\n",
       "      <td>Gender</td>\n",
       "    </tr>\n",
       "    <tr>\n",
       "      <th>10</th>\n",
       "      <td>0.741922</td>\n",
       "      <td>Property_Area</td>\n",
       "    </tr>\n",
       "    <tr>\n",
       "      <th>8</th>\n",
       "      <td>0.294152</td>\n",
       "      <td>Loan_Amount_Term</td>\n",
       "    </tr>\n",
       "    <tr>\n",
       "      <th>7</th>\n",
       "      <td>0.249133</td>\n",
       "      <td>LoanAmount</td>\n",
       "    </tr>\n",
       "    <tr>\n",
       "      <th>5</th>\n",
       "      <td>0.207816</td>\n",
       "      <td>ApplicantIncome</td>\n",
       "    </tr>\n",
       "    <tr>\n",
       "      <th>4</th>\n",
       "      <td>0.095125</td>\n",
       "      <td>Self_Employed</td>\n",
       "    </tr>\n",
       "    <tr>\n",
       "      <th>2</th>\n",
       "      <td>0.003357</td>\n",
       "      <td>Dependents</td>\n",
       "    </tr>\n",
       "  </tbody>\n",
       "</table>\n",
       "</div>"
      ],
      "text/plain": [
       "         Score            Feature\n",
       "9   250.037278     Credit_History\n",
       "3     7.110441          Education\n",
       "1     3.692452            Married\n",
       "6     2.210632  CoapplicantIncome\n",
       "0     1.379661             Gender\n",
       "10    0.741922      Property_Area\n",
       "8     0.294152   Loan_Amount_Term\n",
       "7     0.249133         LoanAmount\n",
       "5     0.207816    ApplicantIncome\n",
       "4     0.095125      Self_Employed\n",
       "2     0.003357         Dependents"
      ]
     },
     "execution_count": 55,
     "metadata": {},
     "output_type": "execute_result"
    }
   ],
   "source": [
    "feat = pd.concat([score,column],axis = 1)\n",
    "feat.columns = ['Score','Feature']\n",
    "feat.nlargest(11,'Score')"
   ]
  },
  {
   "cell_type": "markdown",
   "id": "3c359de6",
   "metadata": {},
   "source": [
    "As Dependents have the least score with our target column so dropping the Dependents column."
   ]
  },
  {
   "cell_type": "markdown",
   "id": "b9c43f1f",
   "metadata": {},
   "source": [
    "**- Final Dataset.**"
   ]
  },
  {
   "cell_type": "code",
   "execution_count": 92,
   "id": "27d7f2ed",
   "metadata": {},
   "outputs": [
    {
     "data": {
      "text/html": [
       "<div>\n",
       "<style scoped>\n",
       "    .dataframe tbody tr th:only-of-type {\n",
       "        vertical-align: middle;\n",
       "    }\n",
       "\n",
       "    .dataframe tbody tr th {\n",
       "        vertical-align: top;\n",
       "    }\n",
       "\n",
       "    .dataframe thead th {\n",
       "        text-align: right;\n",
       "    }\n",
       "</style>\n",
       "<table border=\"1\" class=\"dataframe\">\n",
       "  <thead>\n",
       "    <tr style=\"text-align: right;\">\n",
       "      <th></th>\n",
       "      <th>Gender</th>\n",
       "      <th>Married</th>\n",
       "      <th>Education</th>\n",
       "      <th>Self_Employed</th>\n",
       "      <th>ApplicantIncome</th>\n",
       "      <th>CoapplicantIncome</th>\n",
       "      <th>LoanAmount</th>\n",
       "      <th>Loan_Amount_Term</th>\n",
       "      <th>Credit_History</th>\n",
       "      <th>Property_Area</th>\n",
       "    </tr>\n",
       "  </thead>\n",
       "  <tbody>\n",
       "    <tr>\n",
       "      <th>0</th>\n",
       "      <td>1</td>\n",
       "      <td>0</td>\n",
       "      <td>0</td>\n",
       "      <td>0</td>\n",
       "      <td>5849</td>\n",
       "      <td>0.0</td>\n",
       "      <td>146.412162</td>\n",
       "      <td>360.0</td>\n",
       "      <td>1.0</td>\n",
       "      <td>2</td>\n",
       "    </tr>\n",
       "    <tr>\n",
       "      <th>1</th>\n",
       "      <td>1</td>\n",
       "      <td>1</td>\n",
       "      <td>0</td>\n",
       "      <td>0</td>\n",
       "      <td>4583</td>\n",
       "      <td>1508.0</td>\n",
       "      <td>128.000000</td>\n",
       "      <td>360.0</td>\n",
       "      <td>1.0</td>\n",
       "      <td>0</td>\n",
       "    </tr>\n",
       "    <tr>\n",
       "      <th>2</th>\n",
       "      <td>1</td>\n",
       "      <td>1</td>\n",
       "      <td>0</td>\n",
       "      <td>1</td>\n",
       "      <td>3000</td>\n",
       "      <td>0.0</td>\n",
       "      <td>66.000000</td>\n",
       "      <td>360.0</td>\n",
       "      <td>1.0</td>\n",
       "      <td>2</td>\n",
       "    </tr>\n",
       "    <tr>\n",
       "      <th>3</th>\n",
       "      <td>1</td>\n",
       "      <td>1</td>\n",
       "      <td>1</td>\n",
       "      <td>0</td>\n",
       "      <td>2583</td>\n",
       "      <td>2358.0</td>\n",
       "      <td>120.000000</td>\n",
       "      <td>360.0</td>\n",
       "      <td>1.0</td>\n",
       "      <td>2</td>\n",
       "    </tr>\n",
       "    <tr>\n",
       "      <th>4</th>\n",
       "      <td>1</td>\n",
       "      <td>0</td>\n",
       "      <td>0</td>\n",
       "      <td>0</td>\n",
       "      <td>6000</td>\n",
       "      <td>0.0</td>\n",
       "      <td>141.000000</td>\n",
       "      <td>360.0</td>\n",
       "      <td>1.0</td>\n",
       "      <td>2</td>\n",
       "    </tr>\n",
       "    <tr>\n",
       "      <th>...</th>\n",
       "      <td>...</td>\n",
       "      <td>...</td>\n",
       "      <td>...</td>\n",
       "      <td>...</td>\n",
       "      <td>...</td>\n",
       "      <td>...</td>\n",
       "      <td>...</td>\n",
       "      <td>...</td>\n",
       "      <td>...</td>\n",
       "      <td>...</td>\n",
       "    </tr>\n",
       "    <tr>\n",
       "      <th>608</th>\n",
       "      <td>1</td>\n",
       "      <td>1</td>\n",
       "      <td>0</td>\n",
       "      <td>0</td>\n",
       "      <td>3232</td>\n",
       "      <td>1950.0</td>\n",
       "      <td>108.000000</td>\n",
       "      <td>360.0</td>\n",
       "      <td>1.0</td>\n",
       "      <td>0</td>\n",
       "    </tr>\n",
       "    <tr>\n",
       "      <th>609</th>\n",
       "      <td>0</td>\n",
       "      <td>0</td>\n",
       "      <td>0</td>\n",
       "      <td>0</td>\n",
       "      <td>2900</td>\n",
       "      <td>0.0</td>\n",
       "      <td>71.000000</td>\n",
       "      <td>360.0</td>\n",
       "      <td>1.0</td>\n",
       "      <td>0</td>\n",
       "    </tr>\n",
       "    <tr>\n",
       "      <th>610</th>\n",
       "      <td>1</td>\n",
       "      <td>1</td>\n",
       "      <td>0</td>\n",
       "      <td>0</td>\n",
       "      <td>4106</td>\n",
       "      <td>0.0</td>\n",
       "      <td>40.000000</td>\n",
       "      <td>180.0</td>\n",
       "      <td>1.0</td>\n",
       "      <td>0</td>\n",
       "    </tr>\n",
       "    <tr>\n",
       "      <th>612</th>\n",
       "      <td>1</td>\n",
       "      <td>1</td>\n",
       "      <td>0</td>\n",
       "      <td>0</td>\n",
       "      <td>7583</td>\n",
       "      <td>0.0</td>\n",
       "      <td>187.000000</td>\n",
       "      <td>360.0</td>\n",
       "      <td>1.0</td>\n",
       "      <td>2</td>\n",
       "    </tr>\n",
       "    <tr>\n",
       "      <th>613</th>\n",
       "      <td>0</td>\n",
       "      <td>0</td>\n",
       "      <td>0</td>\n",
       "      <td>1</td>\n",
       "      <td>4583</td>\n",
       "      <td>0.0</td>\n",
       "      <td>133.000000</td>\n",
       "      <td>360.0</td>\n",
       "      <td>0.0</td>\n",
       "      <td>1</td>\n",
       "    </tr>\n",
       "  </tbody>\n",
       "</table>\n",
       "<p>522 rows × 10 columns</p>\n",
       "</div>"
      ],
      "text/plain": [
       "     Gender  Married  Education  Self_Employed  ApplicantIncome  \\\n",
       "0         1        0          0              0             5849   \n",
       "1         1        1          0              0             4583   \n",
       "2         1        1          0              1             3000   \n",
       "3         1        1          1              0             2583   \n",
       "4         1        0          0              0             6000   \n",
       "..      ...      ...        ...            ...              ...   \n",
       "608       1        1          0              0             3232   \n",
       "609       0        0          0              0             2900   \n",
       "610       1        1          0              0             4106   \n",
       "612       1        1          0              0             7583   \n",
       "613       0        0          0              1             4583   \n",
       "\n",
       "     CoapplicantIncome  LoanAmount  Loan_Amount_Term  Credit_History  \\\n",
       "0                  0.0  146.412162             360.0             1.0   \n",
       "1               1508.0  128.000000             360.0             1.0   \n",
       "2                  0.0   66.000000             360.0             1.0   \n",
       "3               2358.0  120.000000             360.0             1.0   \n",
       "4                  0.0  141.000000             360.0             1.0   \n",
       "..                 ...         ...               ...             ...   \n",
       "608             1950.0  108.000000             360.0             1.0   \n",
       "609                0.0   71.000000             360.0             1.0   \n",
       "610                0.0   40.000000             180.0             1.0   \n",
       "612                0.0  187.000000             360.0             1.0   \n",
       "613                0.0  133.000000             360.0             0.0   \n",
       "\n",
       "     Property_Area  \n",
       "0                2  \n",
       "1                0  \n",
       "2                2  \n",
       "3                2  \n",
       "4                2  \n",
       "..             ...  \n",
       "608              0  \n",
       "609              0  \n",
       "610              0  \n",
       "612              2  \n",
       "613              1  \n",
       "\n",
       "[522 rows x 10 columns]"
      ]
     },
     "execution_count": 92,
     "metadata": {},
     "output_type": "execute_result"
    }
   ],
   "source": [
    "x.drop('Dependents',axis = 1,inplace = True)"
   ]
  },
  {
   "cell_type": "markdown",
   "id": "221e385a",
   "metadata": {},
   "source": [
    "## Training The Model."
   ]
  },
  {
   "cell_type": "markdown",
   "id": "7f7a9d4a",
   "metadata": {},
   "source": [
    "**- Using Standard scaler on features to scale the values.**"
   ]
  },
  {
   "cell_type": "code",
   "execution_count": 63,
   "id": "60680adc",
   "metadata": {},
   "outputs": [],
   "source": [
    "scaler = StandardScaler()\n",
    "x_scaled = scaler.fit_transform(x)"
   ]
  },
  {
   "cell_type": "code",
   "execution_count": 64,
   "id": "5620d83c",
   "metadata": {},
   "outputs": [
    {
     "data": {
      "text/plain": [
       "array([[ 0.48377945, -1.34967464, -0.71505586, ...,  0.27688578,\n",
       "         0.41597321,  1.25439361],\n",
       "       [ 0.48377945,  0.74091931,  0.29648657, ...,  0.27688578,\n",
       "         0.41597321, -1.28849363],\n",
       "       [ 0.48377945,  0.74091931, -0.71505586, ...,  0.27688578,\n",
       "         0.41597321,  1.25439361],\n",
       "       ...,\n",
       "       [ 0.48377945,  0.74091931,  2.31957143, ..., -2.44675197,\n",
       "         0.41597321, -1.28849363],\n",
       "       [ 0.48377945,  0.74091931,  1.308029  , ...,  0.27688578,\n",
       "         0.41597321,  1.25439361],\n",
       "       [-2.06705764, -1.34967464, -0.71505586, ...,  0.27688578,\n",
       "        -2.40400099, -0.01705001]])"
      ]
     },
     "execution_count": 64,
     "metadata": {},
     "output_type": "execute_result"
    }
   ],
   "source": [
    "x_scaled"
   ]
  },
  {
   "cell_type": "markdown",
   "id": "aba6dee8",
   "metadata": {},
   "source": [
    "**- Train Test Split.**"
   ]
  },
  {
   "cell_type": "code",
   "execution_count": 68,
   "id": "c5399a20",
   "metadata": {},
   "outputs": [],
   "source": [
    "x_train,x_test,y_train,y_test = train_test_split(x_scaled, y, test_size = 0.25, random_state = 9)"
   ]
  },
  {
   "cell_type": "markdown",
   "id": "8183a446",
   "metadata": {},
   "source": [
    "**- Training & Testing Function.**"
   ]
  },
  {
   "cell_type": "code",
   "execution_count": 70,
   "id": "2736323b",
   "metadata": {},
   "outputs": [],
   "source": [
    "def score(clas, x_train, x_test, y_train, y_test, train = True):\n",
    "    if train:\n",
    "        y_pred = clas.predict(x_train)\n",
    "        print('\\n ----- Train Result ----- \\n')\n",
    "        print('Accuracy Score:', accuracy_score(y_train,y_pred))\n",
    "        print('\\n ----- Classification Report ----- \\n', classification_report(y_train,y_pred))\n",
    "        print('\\n ----- Confusion matrix ----- \\n', confusion_matrix(y_train,y_pred))\n",
    "    \n",
    "    elif train == False:\n",
    "        pred = clas.predict(x_test)\n",
    "        print('\\n ----- Test Result ----- \\n')\n",
    "        print('Accuracy Score:', accuracy_score(y_test,pred))\n",
    "        print('\\n ----- Classification Report ----- \\n', classification_report(y_test,pred))\n",
    "        print('\\n ----- Confusion matrix ----- \\n', confusion_matrix(y_test,pred))"
   ]
  },
  {
   "cell_type": "markdown",
   "id": "793fdb5b",
   "metadata": {},
   "source": [
    "**- Model Instantiating.**"
   ]
  },
  {
   "cell_type": "code",
   "execution_count": 75,
   "id": "100f9bb4",
   "metadata": {},
   "outputs": [],
   "source": [
    "knn = KNeighborsClassifier()\n",
    "gb = GradientBoostingClassifier()\n",
    "ada = AdaBoostClassifier()\n",
    "rf = RandomForestClassifier()"
   ]
  },
  {
   "cell_type": "markdown",
   "id": "08e85cd1",
   "metadata": {},
   "source": [
    "**- KNeighbors Classifier.**"
   ]
  },
  {
   "cell_type": "code",
   "execution_count": 73,
   "id": "c0bd5ec3",
   "metadata": {},
   "outputs": [
    {
     "name": "stdout",
     "output_type": "stream",
     "text": [
      "\n",
      " ----- Train Result ----- \n",
      "\n",
      "Accuracy Score: 0.8132992327365729\n",
      "\n",
      " ----- Classification Report ----- \n",
      "               precision    recall  f1-score   support\n",
      "\n",
      "           0       0.83      0.54      0.65       127\n",
      "           1       0.81      0.95      0.87       264\n",
      "\n",
      "    accuracy                           0.81       391\n",
      "   macro avg       0.82      0.74      0.76       391\n",
      "weighted avg       0.82      0.81      0.80       391\n",
      "\n",
      "\n",
      " ----- Confusion matrix ----- \n",
      " [[ 68  59]\n",
      " [ 14 250]]\n",
      "\n",
      " ----- Test Result ----- \n",
      "\n",
      "Accuracy Score: 0.8015267175572519\n",
      "\n",
      " ----- Classification Report ----- \n",
      "               precision    recall  f1-score   support\n",
      "\n",
      "           0       0.61      0.53      0.57        32\n",
      "           1       0.85      0.89      0.87        99\n",
      "\n",
      "    accuracy                           0.80       131\n",
      "   macro avg       0.73      0.71      0.72       131\n",
      "weighted avg       0.79      0.80      0.80       131\n",
      "\n",
      "\n",
      " ----- Confusion matrix ----- \n",
      " [[17 15]\n",
      " [11 88]]\n"
     ]
    }
   ],
   "source": [
    "knn.fit(x_train,y_train)\n",
    "score(knn, x_train,x_test,y_train,y_test,train = True)\n",
    "score(knn, x_train,x_test,y_train,y_test,train = False)"
   ]
  },
  {
   "cell_type": "markdown",
   "id": "edc88fa7",
   "metadata": {},
   "source": [
    "**- GradientBoosting Classifier.**"
   ]
  },
  {
   "cell_type": "code",
   "execution_count": 76,
   "id": "805024d6",
   "metadata": {},
   "outputs": [
    {
     "name": "stdout",
     "output_type": "stream",
     "text": [
      "\n",
      " ----- Train Result ----- \n",
      "\n",
      "Accuracy Score: 0.9232736572890026\n",
      "\n",
      " ----- Classification Report ----- \n",
      "               precision    recall  f1-score   support\n",
      "\n",
      "           0       0.98      0.78      0.87       127\n",
      "           1       0.90      0.99      0.95       264\n",
      "\n",
      "    accuracy                           0.92       391\n",
      "   macro avg       0.94      0.89      0.91       391\n",
      "weighted avg       0.93      0.92      0.92       391\n",
      "\n",
      "\n",
      " ----- Confusion matrix ----- \n",
      " [[ 99  28]\n",
      " [  2 262]]\n",
      "\n",
      " ----- Test Result ----- \n",
      "\n",
      "Accuracy Score: 0.8473282442748091\n",
      "\n",
      " ----- Classification Report ----- \n",
      "               precision    recall  f1-score   support\n",
      "\n",
      "           0       0.73      0.59      0.66        32\n",
      "           1       0.88      0.93      0.90        99\n",
      "\n",
      "    accuracy                           0.85       131\n",
      "   macro avg       0.80      0.76      0.78       131\n",
      "weighted avg       0.84      0.85      0.84       131\n",
      "\n",
      "\n",
      " ----- Confusion matrix ----- \n",
      " [[19 13]\n",
      " [ 7 92]]\n"
     ]
    }
   ],
   "source": [
    "gb.fit(x_train,y_train)\n",
    "score(gb, x_train,x_test,y_train,y_test,train = True)\n",
    "score(gb, x_train,x_test,y_train,y_test,train = False)"
   ]
  },
  {
   "cell_type": "markdown",
   "id": "25fc532d",
   "metadata": {},
   "source": [
    "**- RandomForest Classifier.**"
   ]
  },
  {
   "cell_type": "code",
   "execution_count": 77,
   "id": "094adbdc",
   "metadata": {},
   "outputs": [
    {
     "name": "stdout",
     "output_type": "stream",
     "text": [
      "\n",
      " ----- Train Result ----- \n",
      "\n",
      "Accuracy Score: 1.0\n",
      "\n",
      " ----- Classification Report ----- \n",
      "               precision    recall  f1-score   support\n",
      "\n",
      "           0       1.00      1.00      1.00       127\n",
      "           1       1.00      1.00      1.00       264\n",
      "\n",
      "    accuracy                           1.00       391\n",
      "   macro avg       1.00      1.00      1.00       391\n",
      "weighted avg       1.00      1.00      1.00       391\n",
      "\n",
      "\n",
      " ----- Confusion matrix ----- \n",
      " [[127   0]\n",
      " [  0 264]]\n",
      "\n",
      " ----- Test Result ----- \n",
      "\n",
      "Accuracy Score: 0.8396946564885496\n",
      "\n",
      " ----- Classification Report ----- \n",
      "               precision    recall  f1-score   support\n",
      "\n",
      "           0       0.72      0.56      0.63        32\n",
      "           1       0.87      0.93      0.90        99\n",
      "\n",
      "    accuracy                           0.84       131\n",
      "   macro avg       0.79      0.75      0.76       131\n",
      "weighted avg       0.83      0.84      0.83       131\n",
      "\n",
      "\n",
      " ----- Confusion matrix ----- \n",
      " [[18 14]\n",
      " [ 7 92]]\n"
     ]
    }
   ],
   "source": [
    "rf.fit(x_train,y_train)\n",
    "score(rf, x_train,x_test,y_train,y_test,train = True)\n",
    "score(rf, x_train,x_test,y_train,y_test,train = False)"
   ]
  },
  {
   "cell_type": "markdown",
   "id": "b7bedcf8",
   "metadata": {},
   "source": [
    "**- AdaBoost Classifier.**"
   ]
  },
  {
   "cell_type": "code",
   "execution_count": 78,
   "id": "1cda2a8c",
   "metadata": {},
   "outputs": [
    {
     "name": "stdout",
     "output_type": "stream",
     "text": [
      "\n",
      " ----- Train Result ----- \n",
      "\n",
      "Accuracy Score: 0.8593350383631714\n",
      "\n",
      " ----- Classification Report ----- \n",
      "               precision    recall  f1-score   support\n",
      "\n",
      "           0       0.88      0.65      0.75       127\n",
      "           1       0.85      0.96      0.90       264\n",
      "\n",
      "    accuracy                           0.86       391\n",
      "   macro avg       0.87      0.81      0.83       391\n",
      "weighted avg       0.86      0.86      0.85       391\n",
      "\n",
      "\n",
      " ----- Confusion matrix ----- \n",
      " [[ 83  44]\n",
      " [ 11 253]]\n",
      "\n",
      " ----- Test Result ----- \n",
      "\n",
      "Accuracy Score: 0.8702290076335878\n",
      "\n",
      " ----- Classification Report ----- \n",
      "               precision    recall  f1-score   support\n",
      "\n",
      "           0       0.83      0.59      0.69        32\n",
      "           1       0.88      0.96      0.92        99\n",
      "\n",
      "    accuracy                           0.87       131\n",
      "   macro avg       0.85      0.78      0.80       131\n",
      "weighted avg       0.87      0.87      0.86       131\n",
      "\n",
      "\n",
      " ----- Confusion matrix ----- \n",
      " [[19 13]\n",
      " [ 4 95]]\n"
     ]
    }
   ],
   "source": [
    "ada.fit(x_train,y_train)\n",
    "score(ada, x_train,x_test,y_train,y_test,train = True)\n",
    "score(ada, x_train,x_test,y_train,y_test,train = False)"
   ]
  },
  {
   "cell_type": "markdown",
   "id": "af533b0d",
   "metadata": {},
   "source": [
    "    *** AdaBoostClassifier & GradientBoostingClassifier, are giving the best accuracy score. ***"
   ]
  },
  {
   "cell_type": "markdown",
   "id": "52c4950b",
   "metadata": {},
   "source": [
    "## Hyperparameter Tuning"
   ]
  },
  {
   "cell_type": "markdown",
   "id": "7f862245",
   "metadata": {},
   "source": [
    "**- AdaBoost Classifier.**"
   ]
  },
  {
   "cell_type": "code",
   "execution_count": 80,
   "id": "1dd315ac",
   "metadata": {},
   "outputs": [
    {
     "data": {
      "text/plain": [
       "{'algorithm': 'SAMME.R',\n",
       " 'base_estimator': None,\n",
       " 'learning_rate': 1.0,\n",
       " 'n_estimators': 50,\n",
       " 'random_state': None}"
      ]
     },
     "execution_count": 80,
     "metadata": {},
     "output_type": "execute_result"
    }
   ],
   "source": [
    "ada.get_params()"
   ]
  },
  {
   "cell_type": "code",
   "execution_count": 83,
   "id": "171ced2f",
   "metadata": {},
   "outputs": [],
   "source": [
    "param = {'algorithm': ['SAMME', 'SAMME.R'],\n",
    "         'learning_rate': [0.0001, 0.001, 0.01, 0.1, 1.0],\n",
    "         'n_estimators': [10, 50, 100, 500],\n",
    "         'random_state': range(1,100,10)\n",
    "        }"
   ]
  },
  {
   "cell_type": "code",
   "execution_count": 89,
   "id": "6b88fd9a",
   "metadata": {},
   "outputs": [
    {
     "data": {
      "text/plain": [
       "{'algorithm': 'SAMME',\n",
       " 'learning_rate': 0.0001,\n",
       " 'n_estimators': 10,\n",
       " 'random_state': 1}"
      ]
     },
     "execution_count": 89,
     "metadata": {},
     "output_type": "execute_result"
    }
   ],
   "source": [
    "grid = GridSearchCV(ada, param_grid = param)\n",
    "grid.fit(x_train,y_train)\n",
    "grid.best_params_"
   ]
  },
  {
   "cell_type": "code",
   "execution_count": 86,
   "id": "3a49e6cd",
   "metadata": {},
   "outputs": [],
   "source": [
    "ada_hyp = AdaBoostClassifier(algorithm = 'SAMME',learning_rate = 0.0001,n_estimators = 10, random_state = 1)"
   ]
  },
  {
   "cell_type": "code",
   "execution_count": 88,
   "id": "8adfb537",
   "metadata": {},
   "outputs": [
    {
     "name": "stdout",
     "output_type": "stream",
     "text": [
      "\n",
      " ----- Test Result ----- \n",
      "\n",
      "Accuracy Score: 0.8931297709923665\n",
      "\n",
      " ----- Classification Report ----- \n",
      "               precision    recall  f1-score   support\n",
      "\n",
      "           0       1.00      0.56      0.72        32\n",
      "           1       0.88      1.00      0.93        99\n",
      "\n",
      "    accuracy                           0.89       131\n",
      "   macro avg       0.94      0.78      0.83       131\n",
      "weighted avg       0.91      0.89      0.88       131\n",
      "\n",
      "\n",
      " ----- Confusion matrix ----- \n",
      " [[18 14]\n",
      " [ 0 99]]\n"
     ]
    }
   ],
   "source": [
    "ada_hyp.fit(x_train,y_train)\n",
    "score(ada_hyp, x_train,x_test,y_train,y_test,train = False)"
   ]
  },
  {
   "cell_type": "markdown",
   "id": "9684df3a",
   "metadata": {},
   "source": [
    "    *** Post tuning score are better then the previous one, so taking these parameters as the final model. ***"
   ]
  },
  {
   "cell_type": "markdown",
   "id": "d4cab418",
   "metadata": {},
   "source": [
    "**- GradientBoosting Classifier.**"
   ]
  },
  {
   "cell_type": "code",
   "execution_count": 95,
   "id": "e2081352",
   "metadata": {},
   "outputs": [
    {
     "data": {
      "text/plain": [
       "{'ccp_alpha': 0.0,\n",
       " 'criterion': 'friedman_mse',\n",
       " 'init': None,\n",
       " 'learning_rate': 0.1,\n",
       " 'loss': 'log_loss',\n",
       " 'max_depth': 3,\n",
       " 'max_features': None,\n",
       " 'max_leaf_nodes': None,\n",
       " 'min_impurity_decrease': 0.0,\n",
       " 'min_samples_leaf': 1,\n",
       " 'min_samples_split': 2,\n",
       " 'min_weight_fraction_leaf': 0.0,\n",
       " 'n_estimators': 100,\n",
       " 'n_iter_no_change': None,\n",
       " 'random_state': None,\n",
       " 'subsample': 1.0,\n",
       " 'tol': 0.0001,\n",
       " 'validation_fraction': 0.1,\n",
       " 'verbose': 0,\n",
       " 'warm_start': False}"
      ]
     },
     "execution_count": 95,
     "metadata": {},
     "output_type": "execute_result"
    }
   ],
   "source": [
    "gb.get_params()"
   ]
  },
  {
   "cell_type": "code",
   "execution_count": 96,
   "id": "9d62eda8",
   "metadata": {},
   "outputs": [],
   "source": [
    "param = {'n_estimators':range(10,100,10),\n",
    "         'learning_rate':[0.1,0.5,1.0],\n",
    "         'criterion':['friedman_mse','squared_error', 'mse'],\n",
    "         'random_state':range(10,100,10)}"
   ]
  },
  {
   "cell_type": "code",
   "execution_count": 97,
   "id": "2e799931",
   "metadata": {},
   "outputs": [
    {
     "data": {
      "text/plain": [
       "{'criterion': 'friedman_mse',\n",
       " 'learning_rate': 0.1,\n",
       " 'n_estimators': 40,\n",
       " 'random_state': 40}"
      ]
     },
     "execution_count": 97,
     "metadata": {},
     "output_type": "execute_result"
    }
   ],
   "source": [
    "grid = GridSearchCV(gb, param_grid = param)\n",
    "grid.fit(x_train,y_train)\n",
    "grid.best_params_"
   ]
  },
  {
   "cell_type": "code",
   "execution_count": 98,
   "id": "4a9fa2e1",
   "metadata": {},
   "outputs": [],
   "source": [
    "gb_hyp = GradientBoostingClassifier(criterion = 'friedman_mse', learning_rate = 0.1, n_estimators = 40, random_state = 40)"
   ]
  },
  {
   "cell_type": "code",
   "execution_count": 100,
   "id": "b3ac694e",
   "metadata": {},
   "outputs": [
    {
     "name": "stdout",
     "output_type": "stream",
     "text": [
      "\n",
      " ----- Test Result ----- \n",
      "\n",
      "Accuracy Score: 0.8854961832061069\n",
      "\n",
      " ----- Classification Report ----- \n",
      "               precision    recall  f1-score   support\n",
      "\n",
      "           0       0.90      0.59      0.72        32\n",
      "           1       0.88      0.98      0.93        99\n",
      "\n",
      "    accuracy                           0.89       131\n",
      "   macro avg       0.89      0.79      0.82       131\n",
      "weighted avg       0.89      0.89      0.88       131\n",
      "\n",
      "\n",
      " ----- Confusion matrix ----- \n",
      " [[19 13]\n",
      " [ 2 97]]\n"
     ]
    }
   ],
   "source": [
    "gb_hyp.fit(x_train,y_train)\n",
    "score(gb_hyp, x_train,x_test,y_train,y_test,train = False)"
   ]
  },
  {
   "cell_type": "markdown",
   "id": "90ab8e64",
   "metadata": {},
   "source": [
    "    *** Post tuning score are better then the previous one, so taking these parameters as the final model. ***"
   ]
  },
  {
   "cell_type": "markdown",
   "id": "6a935387",
   "metadata": {},
   "source": [
    "**- Saving Model of AdaBoost Classifier.**"
   ]
  },
  {
   "cell_type": "code",
   "execution_count": 102,
   "id": "2ce4999e",
   "metadata": {},
   "outputs": [],
   "source": [
    "filename = 'loan_ada.pickle'\n",
    "pickle.dump(ada_hyp, open(filename, 'wb'))"
   ]
  },
  {
   "cell_type": "markdown",
   "id": "39ece2e8",
   "metadata": {},
   "source": [
    "**- Saving Model of GradientBoost Classifier.**"
   ]
  },
  {
   "cell_type": "code",
   "execution_count": 103,
   "id": "61a0a40d",
   "metadata": {},
   "outputs": [],
   "source": [
    "filename = 'ada_gb.pickle'\n",
    "pickle.dump(gb_hyp, open(filename, 'wb'))"
   ]
  }
 ],
 "metadata": {
  "kernelspec": {
   "display_name": "Python 3 (ipykernel)",
   "language": "python",
   "name": "python3"
  },
  "language_info": {
   "codemirror_mode": {
    "name": "ipython",
    "version": 3
   },
   "file_extension": ".py",
   "mimetype": "text/x-python",
   "name": "python",
   "nbconvert_exporter": "python",
   "pygments_lexer": "ipython3",
   "version": "3.9.7"
  }
 },
 "nbformat": 4,
 "nbformat_minor": 5
}
