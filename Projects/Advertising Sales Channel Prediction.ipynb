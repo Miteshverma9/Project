{
 "cells": [
  {
   "cell_type": "code",
   "execution_count": 32,
   "id": "7891ffa3",
   "metadata": {},
   "outputs": [],
   "source": [
    "import pandas as pd\n",
    "import numpy as np\n",
    "import seaborn as sns\n",
    "import matplotlib.pyplot as plt\n",
    "%matplotlib inline\n",
    "\n",
    "from sklearn.preprocessing import PowerTransformer\n",
    "from sklearn.model_selection import train_test_split,GridSearchCV\n",
    "from sklearn.metrics import mean_squared_error,mean_absolute_error\n",
    "from sklearn import metrics\n",
    "from sklearn.svm import SVR\n",
    "from sklearn.linear_model import LinearRegression\n",
    "from sklearn.neighbors import KNeighborsRegressor\n",
    "from sklearn.ensemble import GradientBoostingRegressor,AdaBoostRegressor,RandomForestRegressor\n",
    "\n",
    "import pickle\n",
    "import warnings\n",
    "warnings.filterwarnings('ignore')"
   ]
  },
  {
   "cell_type": "code",
   "execution_count": 2,
   "id": "8b3ec408",
   "metadata": {},
   "outputs": [
    {
     "data": {
      "text/html": [
       "<div>\n",
       "<style scoped>\n",
       "    .dataframe tbody tr th:only-of-type {\n",
       "        vertical-align: middle;\n",
       "    }\n",
       "\n",
       "    .dataframe tbody tr th {\n",
       "        vertical-align: top;\n",
       "    }\n",
       "\n",
       "    .dataframe thead th {\n",
       "        text-align: right;\n",
       "    }\n",
       "</style>\n",
       "<table border=\"1\" class=\"dataframe\">\n",
       "  <thead>\n",
       "    <tr style=\"text-align: right;\">\n",
       "      <th></th>\n",
       "      <th>Unnamed: 0</th>\n",
       "      <th>TV</th>\n",
       "      <th>radio</th>\n",
       "      <th>newspaper</th>\n",
       "      <th>sales</th>\n",
       "    </tr>\n",
       "  </thead>\n",
       "  <tbody>\n",
       "    <tr>\n",
       "      <th>0</th>\n",
       "      <td>1</td>\n",
       "      <td>230.1</td>\n",
       "      <td>37.8</td>\n",
       "      <td>69.2</td>\n",
       "      <td>22.1</td>\n",
       "    </tr>\n",
       "    <tr>\n",
       "      <th>1</th>\n",
       "      <td>2</td>\n",
       "      <td>44.5</td>\n",
       "      <td>39.3</td>\n",
       "      <td>45.1</td>\n",
       "      <td>10.4</td>\n",
       "    </tr>\n",
       "    <tr>\n",
       "      <th>2</th>\n",
       "      <td>3</td>\n",
       "      <td>17.2</td>\n",
       "      <td>45.9</td>\n",
       "      <td>69.3</td>\n",
       "      <td>9.3</td>\n",
       "    </tr>\n",
       "    <tr>\n",
       "      <th>3</th>\n",
       "      <td>4</td>\n",
       "      <td>151.5</td>\n",
       "      <td>41.3</td>\n",
       "      <td>58.5</td>\n",
       "      <td>18.5</td>\n",
       "    </tr>\n",
       "    <tr>\n",
       "      <th>4</th>\n",
       "      <td>5</td>\n",
       "      <td>180.8</td>\n",
       "      <td>10.8</td>\n",
       "      <td>58.4</td>\n",
       "      <td>12.9</td>\n",
       "    </tr>\n",
       "  </tbody>\n",
       "</table>\n",
       "</div>"
      ],
      "text/plain": [
       "   Unnamed: 0     TV  radio  newspaper  sales\n",
       "0           1  230.1   37.8       69.2   22.1\n",
       "1           2   44.5   39.3       45.1   10.4\n",
       "2           3   17.2   45.9       69.3    9.3\n",
       "3           4  151.5   41.3       58.5   18.5\n",
       "4           5  180.8   10.8       58.4   12.9"
      ]
     },
     "execution_count": 2,
     "metadata": {},
     "output_type": "execute_result"
    }
   ],
   "source": [
    "sales = pd.read_csv('https://raw.githubusercontent.com/dsrscientist/DSData/master/Advertising.csv')\n",
    "sales.head()"
   ]
  },
  {
   "cell_type": "markdown",
   "id": "cafbedd2",
   "metadata": {},
   "source": [
    "## Features :\n",
    "- Unnamed: 0 : Unnecessary column.\n",
    "- TV : TV sales.\n",
    "- Radio : Sales through Radio.\n",
    "- Newspaper : Sales through Newspaper.\n",
    "\n",
    "## Target :\n",
    "- Sales"
   ]
  },
  {
   "cell_type": "markdown",
   "id": "298d2df6",
   "metadata": {},
   "source": [
    "## Data Cleaning :"
   ]
  },
  {
   "cell_type": "code",
   "execution_count": 3,
   "id": "28efb06e",
   "metadata": {},
   "outputs": [],
   "source": [
    "sales.drop('Unnamed: 0',axis = 1,inplace = True)"
   ]
  },
  {
   "cell_type": "code",
   "execution_count": 4,
   "id": "72871493",
   "metadata": {},
   "outputs": [
    {
     "data": {
      "text/plain": [
       "(200, 4)"
      ]
     },
     "execution_count": 4,
     "metadata": {},
     "output_type": "execute_result"
    }
   ],
   "source": [
    "sales.shape"
   ]
  },
  {
   "cell_type": "code",
   "execution_count": 5,
   "id": "3924924b",
   "metadata": {},
   "outputs": [
    {
     "data": {
      "text/html": [
       "<div>\n",
       "<style scoped>\n",
       "    .dataframe tbody tr th:only-of-type {\n",
       "        vertical-align: middle;\n",
       "    }\n",
       "\n",
       "    .dataframe tbody tr th {\n",
       "        vertical-align: top;\n",
       "    }\n",
       "\n",
       "    .dataframe thead th {\n",
       "        text-align: right;\n",
       "    }\n",
       "</style>\n",
       "<table border=\"1\" class=\"dataframe\">\n",
       "  <thead>\n",
       "    <tr style=\"text-align: right;\">\n",
       "      <th></th>\n",
       "      <th>TV</th>\n",
       "      <th>radio</th>\n",
       "      <th>newspaper</th>\n",
       "      <th>sales</th>\n",
       "    </tr>\n",
       "  </thead>\n",
       "  <tbody>\n",
       "    <tr>\n",
       "      <th>count</th>\n",
       "      <td>200.000000</td>\n",
       "      <td>200.000000</td>\n",
       "      <td>200.000000</td>\n",
       "      <td>200.000000</td>\n",
       "    </tr>\n",
       "    <tr>\n",
       "      <th>mean</th>\n",
       "      <td>147.042500</td>\n",
       "      <td>23.264000</td>\n",
       "      <td>30.554000</td>\n",
       "      <td>14.022500</td>\n",
       "    </tr>\n",
       "    <tr>\n",
       "      <th>std</th>\n",
       "      <td>85.854236</td>\n",
       "      <td>14.846809</td>\n",
       "      <td>21.778621</td>\n",
       "      <td>5.217457</td>\n",
       "    </tr>\n",
       "    <tr>\n",
       "      <th>min</th>\n",
       "      <td>0.700000</td>\n",
       "      <td>0.000000</td>\n",
       "      <td>0.300000</td>\n",
       "      <td>1.600000</td>\n",
       "    </tr>\n",
       "    <tr>\n",
       "      <th>25%</th>\n",
       "      <td>74.375000</td>\n",
       "      <td>9.975000</td>\n",
       "      <td>12.750000</td>\n",
       "      <td>10.375000</td>\n",
       "    </tr>\n",
       "    <tr>\n",
       "      <th>50%</th>\n",
       "      <td>149.750000</td>\n",
       "      <td>22.900000</td>\n",
       "      <td>25.750000</td>\n",
       "      <td>12.900000</td>\n",
       "    </tr>\n",
       "    <tr>\n",
       "      <th>75%</th>\n",
       "      <td>218.825000</td>\n",
       "      <td>36.525000</td>\n",
       "      <td>45.100000</td>\n",
       "      <td>17.400000</td>\n",
       "    </tr>\n",
       "    <tr>\n",
       "      <th>max</th>\n",
       "      <td>296.400000</td>\n",
       "      <td>49.600000</td>\n",
       "      <td>114.000000</td>\n",
       "      <td>27.000000</td>\n",
       "    </tr>\n",
       "  </tbody>\n",
       "</table>\n",
       "</div>"
      ],
      "text/plain": [
       "               TV       radio   newspaper       sales\n",
       "count  200.000000  200.000000  200.000000  200.000000\n",
       "mean   147.042500   23.264000   30.554000   14.022500\n",
       "std     85.854236   14.846809   21.778621    5.217457\n",
       "min      0.700000    0.000000    0.300000    1.600000\n",
       "25%     74.375000    9.975000   12.750000   10.375000\n",
       "50%    149.750000   22.900000   25.750000   12.900000\n",
       "75%    218.825000   36.525000   45.100000   17.400000\n",
       "max    296.400000   49.600000  114.000000   27.000000"
      ]
     },
     "execution_count": 5,
     "metadata": {},
     "output_type": "execute_result"
    }
   ],
   "source": [
    "sales.describe()"
   ]
  },
  {
   "cell_type": "code",
   "execution_count": 6,
   "id": "2914f841",
   "metadata": {},
   "outputs": [
    {
     "name": "stdout",
     "output_type": "stream",
     "text": [
      "<class 'pandas.core.frame.DataFrame'>\n",
      "RangeIndex: 200 entries, 0 to 199\n",
      "Data columns (total 4 columns):\n",
      " #   Column     Non-Null Count  Dtype  \n",
      "---  ------     --------------  -----  \n",
      " 0   TV         200 non-null    float64\n",
      " 1   radio      200 non-null    float64\n",
      " 2   newspaper  200 non-null    float64\n",
      " 3   sales      200 non-null    float64\n",
      "dtypes: float64(4)\n",
      "memory usage: 6.4 KB\n"
     ]
    }
   ],
   "source": [
    "sales.info()"
   ]
  },
  {
   "cell_type": "code",
   "execution_count": 7,
   "id": "0f93348d",
   "metadata": {},
   "outputs": [
    {
     "data": {
      "text/plain": [
       "TV           0\n",
       "radio        0\n",
       "newspaper    0\n",
       "sales        0\n",
       "dtype: int64"
      ]
     },
     "execution_count": 7,
     "metadata": {},
     "output_type": "execute_result"
    }
   ],
   "source": [
    "sales.isna().sum()"
   ]
  },
  {
   "cell_type": "markdown",
   "id": "dc92ce69",
   "metadata": {},
   "source": [
    "## EDA :"
   ]
  },
  {
   "cell_type": "code",
   "execution_count": 8,
   "id": "d32a3e87",
   "metadata": {},
   "outputs": [
    {
     "data": {
      "text/plain": [
       "<AxesSubplot:xlabel='TV', ylabel='sales'>"
      ]
     },
     "execution_count": 8,
     "metadata": {},
     "output_type": "execute_result"
    },
    {
     "data": {
      "image/png": "[encoded data removed]",
      "text/plain": [
       "<Figure size 432x288 with 1 Axes>"
      ]
     },
     "metadata": {
      "needs_background": "light"
     },
     "output_type": "display_data"
    }
   ],
   "source": [
    "sns.regplot(x = 'TV',y = 'sales' ,data = sales )"
   ]
  },
  {
   "cell_type": "markdown",
   "id": "ff4e75e7",
   "metadata": {},
   "source": [
    "Positive relation between TV and Sales."
   ]
  },
  {
   "cell_type": "code",
   "execution_count": 9,
   "id": "e7f73e89",
   "metadata": {},
   "outputs": [
    {
     "data": {
      "text/plain": [
       "<AxesSubplot:xlabel='radio', ylabel='sales'>"
      ]
     },
     "execution_count": 9,
     "metadata": {},
     "output_type": "execute_result"
    },
    {
     "data": {
      "image/png": "[encoded data removed]",
      "text/plain": [
       "<Figure size 432x288 with 1 Axes>"
      ]
     },
     "metadata": {
      "needs_background": "light"
     },
     "output_type": "display_data"
    }
   ],
   "source": [
    "sns.regplot(x = 'radio',y = 'sales' ,data = sales )"
   ]
  },
  {
   "cell_type": "markdown",
   "id": "2a6b9e51",
   "metadata": {},
   "source": [
    "Positive relationship between Radio and Sales."
   ]
  },
  {
   "cell_type": "code",
   "execution_count": 10,
   "id": "c9803999",
   "metadata": {},
   "outputs": [
    {
     "data": {
      "text/plain": [
       "<AxesSubplot:xlabel='newspaper', ylabel='sales'>"
      ]
     },
     "execution_count": 10,
     "metadata": {},
     "output_type": "execute_result"
    },
    {
     "data": {
      "image/png": "[encoded data removed]",
      "text/plain": [
       "<Figure size 432x288 with 1 Axes>"
      ]
     },
     "metadata": {
      "needs_background": "light"
     },
     "output_type": "display_data"
    }
   ],
   "source": [
    "sns.regplot(x = 'newspaper',y = 'sales' ,data = sales )"
   ]
  },
  {
   "cell_type": "markdown",
   "id": "61fba8ac",
   "metadata": {},
   "source": [
    "Not a positive trend between Newspaper and Sales."
   ]
  },
  {
   "cell_type": "markdown",
   "id": "ca48072b",
   "metadata": {},
   "source": [
    "**- Normal Distribution.**"
   ]
  },
  {
   "cell_type": "code",
   "execution_count": 11,
   "id": "6f27c113",
   "metadata": {},
   "outputs": [
    {
     "data": {
      "image/png": "[encoded data removed]",
      "text/plain": [
       "<Figure size 360x360 with 4 Axes>"
      ]
     },
     "metadata": {
      "needs_background": "light"
     },
     "output_type": "display_data"
    }
   ],
   "source": [
    "plt.figure(figsize = (5,5))\n",
    "plotnumber = 1\n",
    "\n",
    "for column in sales:\n",
    "    if plotnumber <= 4:\n",
    "        ax = plt.subplot(2,2,plotnumber)\n",
    "        sns.distplot(sales[column])\n",
    "        plt.xlabel(column)\n",
    "    \n",
    "    plotnumber+=1\n",
    "plt.tight_layout()"
   ]
  },
  {
   "cell_type": "markdown",
   "id": "04605782",
   "metadata": {},
   "source": [
    "Dataset is not slightly have the distrubance and some skewness and outliers too."
   ]
  },
  {
   "cell_type": "markdown",
   "id": "a4da9b20",
   "metadata": {},
   "source": [
    "**- Outlier.**"
   ]
  },
  {
   "cell_type": "code",
   "execution_count": 12,
   "id": "6fa3510e",
   "metadata": {},
   "outputs": [
    {
     "data": {
      "image/png": "[encoded data removed]",
      "text/plain": [
       "<Figure size 360x576 with 4 Axes>"
      ]
     },
     "metadata": {
      "needs_background": "light"
     },
     "output_type": "display_data"
    }
   ],
   "source": [
    "plt.figure(figsize = (5,8))\n",
    "graph = 1\n",
    "for column in sales:\n",
    "    if graph <= 4:\n",
    "        plt.subplot(2,2,graph)\n",
    "        ax = sns.boxplot(data = sales[column])\n",
    "        plt.xlabel(column)\n",
    "    graph += 1\n",
    "plt.show()"
   ]
  },
  {
   "cell_type": "markdown",
   "id": "ed4e1b8d",
   "metadata": {},
   "source": [
    "Only Newspaper column has an outliers."
   ]
  },
  {
   "cell_type": "code",
   "execution_count": 13,
   "id": "872c64d2",
   "metadata": {},
   "outputs": [
    {
     "data": {
      "text/html": [
       "<div>\n",
       "<style scoped>\n",
       "    .dataframe tbody tr th:only-of-type {\n",
       "        vertical-align: middle;\n",
       "    }\n",
       "\n",
       "    .dataframe tbody tr th {\n",
       "        vertical-align: top;\n",
       "    }\n",
       "\n",
       "    .dataframe thead th {\n",
       "        text-align: right;\n",
       "    }\n",
       "</style>\n",
       "<table border=\"1\" class=\"dataframe\">\n",
       "  <thead>\n",
       "    <tr style=\"text-align: right;\">\n",
       "      <th></th>\n",
       "      <th>TV</th>\n",
       "      <th>radio</th>\n",
       "      <th>newspaper</th>\n",
       "    </tr>\n",
       "  </thead>\n",
       "  <tbody>\n",
       "    <tr>\n",
       "      <th>0</th>\n",
       "      <td>0.948674</td>\n",
       "      <td>0.962247</td>\n",
       "      <td>1.514335</td>\n",
       "    </tr>\n",
       "    <tr>\n",
       "      <th>1</th>\n",
       "      <td>-1.191314</td>\n",
       "      <td>1.040179</td>\n",
       "      <td>0.787683</td>\n",
       "    </tr>\n",
       "    <tr>\n",
       "      <th>2</th>\n",
       "      <td>-1.647757</td>\n",
       "      <td>1.370710</td>\n",
       "      <td>1.516998</td>\n",
       "    </tr>\n",
       "    <tr>\n",
       "      <th>3</th>\n",
       "      <td>0.141020</td>\n",
       "      <td>1.142387</td>\n",
       "      <td>1.214656</td>\n",
       "    </tr>\n",
       "    <tr>\n",
       "      <th>4</th>\n",
       "      <td>0.452715</td>\n",
       "      <td>-0.748651</td>\n",
       "      <td>1.211704</td>\n",
       "    </tr>\n",
       "    <tr>\n",
       "      <th>...</th>\n",
       "      <td>...</td>\n",
       "      <td>...</td>\n",
       "      <td>...</td>\n",
       "    </tr>\n",
       "    <tr>\n",
       "      <th>195</th>\n",
       "      <td>-1.287908</td>\n",
       "      <td>-1.431436</td>\n",
       "      <td>-0.682576</td>\n",
       "    </tr>\n",
       "    <tr>\n",
       "      <th>196</th>\n",
       "      <td>-0.520949</td>\n",
       "      <td>-1.297017</td>\n",
       "      <td>-1.142011</td>\n",
       "    </tr>\n",
       "    <tr>\n",
       "      <th>197</th>\n",
       "      <td>0.413091</td>\n",
       "      <td>-0.875492</td>\n",
       "      <td>-1.313050</td>\n",
       "    </tr>\n",
       "    <tr>\n",
       "      <th>198</th>\n",
       "      <td>1.455843</td>\n",
       "      <td>1.177722</td>\n",
       "      <td>1.433350</td>\n",
       "    </tr>\n",
       "    <tr>\n",
       "      <th>199</th>\n",
       "      <td>0.968161</td>\n",
       "      <td>-0.937083</td>\n",
       "      <td>-1.086425</td>\n",
       "    </tr>\n",
       "  </tbody>\n",
       "</table>\n",
       "<p>200 rows × 3 columns</p>\n",
       "</div>"
      ],
      "text/plain": [
       "           TV     radio  newspaper\n",
       "0    0.948674  0.962247   1.514335\n",
       "1   -1.191314  1.040179   0.787683\n",
       "2   -1.647757  1.370710   1.516998\n",
       "3    0.141020  1.142387   1.214656\n",
       "4    0.452715 -0.748651   1.211704\n",
       "..        ...       ...        ...\n",
       "195 -1.287908 -1.431436  -0.682576\n",
       "196 -0.520949 -1.297017  -1.142011\n",
       "197  0.413091 -0.875492  -1.313050\n",
       "198  1.455843  1.177722   1.433350\n",
       "199  0.968161 -0.937083  -1.086425\n",
       "\n",
       "[200 rows x 3 columns]"
      ]
     },
     "execution_count": 13,
     "metadata": {},
     "output_type": "execute_result"
    }
   ],
   "source": [
    "out = ['TV','radio','newspaper']\n",
    "scale = PowerTransformer()\n",
    "sales[out] = scale.fit_transform(sales[out].values)\n",
    "sales[out]"
   ]
  },
  {
   "cell_type": "markdown",
   "id": "bbdd1199",
   "metadata": {},
   "source": [
    "Used Power Transformer() to remove skewness and outliers."
   ]
  },
  {
   "cell_type": "code",
   "execution_count": 14,
   "id": "86e24ebc",
   "metadata": {},
   "outputs": [
    {
     "data": {
      "text/plain": [
       "<AxesSubplot:xlabel='newspaper'>"
      ]
     },
     "execution_count": 14,
     "metadata": {},
     "output_type": "execute_result"
    },
    {
     "data": {
      "image/png": "[encoded data removed]",
      "text/plain": [
       "<Figure size 432x288 with 1 Axes>"
      ]
     },
     "metadata": {
      "needs_background": "light"
     },
     "output_type": "display_data"
    }
   ],
   "source": [
    "sns.boxplot(sales['newspaper'])"
   ]
  },
  {
   "cell_type": "markdown",
   "id": "2ebb09b6",
   "metadata": {},
   "source": [
    "Removed the outliers for newspaper column."
   ]
  },
  {
   "cell_type": "code",
   "execution_count": 15,
   "id": "4b502251",
   "metadata": {},
   "outputs": [
    {
     "data": {
      "image/png": "[encoded data removed]",
      "text/plain": [
       "<Figure size 360x360 with 4 Axes>"
      ]
     },
     "metadata": {
      "needs_background": "light"
     },
     "output_type": "display_data"
    }
   ],
   "source": [
    "plt.figure(figsize = (5,5))\n",
    "plotnumber = 1\n",
    "\n",
    "for column in sales:\n",
    "    if plotnumber <= 4:\n",
    "        ax = plt.subplot(2,2,plotnumber)\n",
    "        sns.distplot(sales[column])\n",
    "        plt.xlabel(column)\n",
    "    \n",
    "    plotnumber+=1\n",
    "plt.tight_layout()"
   ]
  },
  {
   "cell_type": "markdown",
   "id": "43aaf765",
   "metadata": {},
   "source": [
    "Now our dataset is in normal distribution."
   ]
  },
  {
   "cell_type": "markdown",
   "id": "29e13ab6",
   "metadata": {},
   "source": [
    "**- Seperating Features and Target columns.**"
   ]
  },
  {
   "cell_type": "code",
   "execution_count": 16,
   "id": "8eab196e",
   "metadata": {},
   "outputs": [],
   "source": [
    "x = sales.drop('sales',axis =1)\n",
    "y = sales.sales"
   ]
  },
  {
   "cell_type": "markdown",
   "id": "c9384dc7",
   "metadata": {},
   "source": [
    "## Training the Model"
   ]
  },
  {
   "cell_type": "markdown",
   "id": "3651ecc1",
   "metadata": {},
   "source": [
    "**- Train Test Split.**"
   ]
  },
  {
   "cell_type": "code",
   "execution_count": 17,
   "id": "9cc870c0",
   "metadata": {},
   "outputs": [],
   "source": [
    "x_train,x_test,y_train,y_test = train_test_split(x, y, test_size = 0.25, random_state = 4 )"
   ]
  },
  {
   "cell_type": "markdown",
   "id": "b63548be",
   "metadata": {},
   "source": [
    "**- Creating The function for the training and testing score, so that, we can get the results just nby calling the function.**"
   ]
  },
  {
   "cell_type": "code",
   "execution_count": 18,
   "id": "39b1b571",
   "metadata": {},
   "outputs": [],
   "source": [
    "def score(reg, x_train, x_test, y_train, y_test, train = True):\n",
    "    if train:\n",
    "        y_pred = reg.predict(x_train)\n",
    "        print('\\n ----- Train Result ----- \\n')\n",
    "        print('R2 Score:', metrics.r2_score(y_train,y_pred))\n",
    "    \n",
    "    elif train == False:\n",
    "        pred = reg.predict(x_test)\n",
    "        print('\\n ----- Test Result ----- \\n')\n",
    "        print('R2 Score:', metrics.r2_score(y_test,pred))\n",
    "        print('\\n MAE Score:', mean_absolute_error(y_test,pred))\n",
    "        print('\\n MSE Score:', mean_squared_error(y_test,pred))\n",
    "        print('\\n RMSE SCore:', np.sqrt(mean_squared_error(y_test,pred)))\n",
    "        print('\\n Scatter Plot \\n')\n",
    "        plt.scatter(y_test, pred)\n",
    "        plt.xlabel(\"Actual Sales\")\n",
    "        plt.ylabel(\"Predicted Sales\")\n",
    "        plt.title(\"Actual VS Prediction\")\n",
    "        plt.show()"
   ]
  },
  {
   "cell_type": "markdown",
   "id": "36fe9462",
   "metadata": {},
   "source": [
    "**- Model Instantiating.**"
   ]
  },
  {
   "cell_type": "code",
   "execution_count": 19,
   "id": "51ffa651",
   "metadata": {},
   "outputs": [],
   "source": [
    "lr = LinearRegression()\n",
    "svr = SVR()\n",
    "knn = KNeighborsRegressor()\n",
    "gbr = GradientBoostingRegressor()\n",
    "ada = AdaBoostRegressor()\n",
    "rf = RandomForestRegressor()"
   ]
  },
  {
   "cell_type": "markdown",
   "id": "a32192f2",
   "metadata": {},
   "source": [
    "**- Model Trainning For Linear Regression.**"
   ]
  },
  {
   "cell_type": "code",
   "execution_count": 20,
   "id": "c8b2bd20",
   "metadata": {},
   "outputs": [
    {
     "name": "stdout",
     "output_type": "stream",
     "text": [
      "\n",
      " ----- Train Result ----- \n",
      "\n",
      "R2 Score: 0.9045406001043076\n",
      "\n",
      " ----- Test Result ----- \n",
      "\n",
      "R2 Score: 0.9091498622840183\n",
      "\n",
      " MAE Score: 1.169368829197043\n",
      "\n",
      " MSE Score: 2.2535979905363708\n",
      "\n",
      " RMSE SCore: 1.5011988510974723\n",
      "\n",
      " Scatter Plot \n",
      "\n"
     ]
    },
    {
     "data": {
      "image/png": "[encoded data removed]",
      "text/plain": [
       "<Figure size 432x288 with 1 Axes>"
      ]
     },
     "metadata": {
      "needs_background": "light"
     },
     "output_type": "display_data"
    }
   ],
   "source": [
    "lr.fit(x_train,y_train)\n",
    "score(lr, x_train,x_test,y_train,y_test,train = True)\n",
    "score(lr, x_train,x_test,y_train,y_test,train = False)"
   ]
  },
  {
   "cell_type": "markdown",
   "id": "6c166d02",
   "metadata": {},
   "source": [
    "**- Model Trainning For SVM(SVR)**"
   ]
  },
  {
   "cell_type": "code",
   "execution_count": 21,
   "id": "b8d3c998",
   "metadata": {},
   "outputs": [
    {
     "name": "stdout",
     "output_type": "stream",
     "text": [
      "\n",
      " ----- Train Result ----- \n",
      "\n",
      "R2 Score: 0.9281297599765306\n",
      "\n",
      " ----- Test Result ----- \n",
      "\n",
      "R2 Score: 0.9301348803960812\n",
      "\n",
      " MAE Score: 0.7600435777493079\n",
      "\n",
      " MSE Score: 1.7330506822146237\n",
      "\n",
      " RMSE SCore: 1.3164538283641487\n",
      "\n",
      " Scatter Plot \n",
      "\n"
     ]
    },
    {
     "data": {
      "image/png": "[encoded data removed]",
      "text/plain": [
       "<Figure size 432x288 with 1 Axes>"
      ]
     },
     "metadata": {
      "needs_background": "light"
     },
     "output_type": "display_data"
    }
   ],
   "source": [
    "svr.fit(x_train,y_train)\n",
    "score(svr, x_train,x_test,y_train,y_test,train = True)\n",
    "score(svr, x_train,x_test,y_train,y_test,train = False)"
   ]
  },
  {
   "cell_type": "markdown",
   "id": "57d27307",
   "metadata": {},
   "source": [
    "**- Model Trainning For KNeighbors Regressor.**"
   ]
  },
  {
   "cell_type": "code",
   "execution_count": 22,
   "id": "f561ac90",
   "metadata": {},
   "outputs": [
    {
     "name": "stdout",
     "output_type": "stream",
     "text": [
      "\n",
      " ----- Train Result ----- \n",
      "\n",
      "R2 Score: 0.9570956002138278\n",
      "\n",
      " ----- Test Result ----- \n",
      "\n",
      "R2 Score: 0.9353560541656938\n",
      "\n",
      " MAE Score: 0.904\n",
      "\n",
      " MSE Score: 1.603536\n",
      "\n",
      " RMSE SCore: 1.266308019401283\n",
      "\n",
      " Scatter Plot \n",
      "\n"
     ]
    },
    {
     "data": {
      "image/png": "[encoded data removed]",
      "text/plain": [
       "<Figure size 432x288 with 1 Axes>"
      ]
     },
     "metadata": {
      "needs_background": "light"
     },
     "output_type": "display_data"
    }
   ],
   "source": [
    "knn.fit(x_train,y_train)\n",
    "score(knn, x_train,x_test,y_train,y_test,train = True)\n",
    "score(knn, x_train,x_test,y_train,y_test,train = False)"
   ]
  },
  {
   "cell_type": "markdown",
   "id": "80b9219e",
   "metadata": {},
   "source": [
    "**- Model Trainning For GradientBoosting Regressor.**"
   ]
  },
  {
   "cell_type": "code",
   "execution_count": 23,
   "id": "d862a610",
   "metadata": {},
   "outputs": [
    {
     "name": "stdout",
     "output_type": "stream",
     "text": [
      "\n",
      " ----- Train Result ----- \n",
      "\n",
      "R2 Score: 0.9989536015844889\n",
      "\n",
      " ----- Test Result ----- \n",
      "\n",
      "R2 Score: 0.9788051248680533\n",
      "\n",
      " MAE Score: 0.5760196693413961\n",
      "\n",
      " MSE Score: 0.5257529510450271\n",
      "\n",
      " RMSE SCore: 0.7250882367305561\n",
      "\n",
      " Scatter Plot \n",
      "\n"
     ]
    },
    {
     "data": {
      "image/png": "[encoded data removed]",
      "text/plain": [
       "<Figure size 432x288 with 1 Axes>"
      ]
     },
     "metadata": {
      "needs_background": "light"
     },
     "output_type": "display_data"
    }
   ],
   "source": [
    "gbr.fit(x_train,y_train)\n",
    "score(gbr, x_train,x_test,y_train,y_test,train = True)\n",
    "score(gbr, x_train,x_test,y_train,y_test,train = False)"
   ]
  },
  {
   "cell_type": "markdown",
   "id": "e6792cde",
   "metadata": {},
   "source": [
    "**- Model Trainning For AdaBoost Regressor.**"
   ]
  },
  {
   "cell_type": "code",
   "execution_count": 24,
   "id": "9950a7fb",
   "metadata": {},
   "outputs": [
    {
     "name": "stdout",
     "output_type": "stream",
     "text": [
      "\n",
      " ----- Train Result ----- \n",
      "\n",
      "R2 Score: 0.9769937433576855\n",
      "\n",
      " ----- Test Result ----- \n",
      "\n",
      "R2 Score: 0.9470559139160524\n",
      "\n",
      " MAE Score: 0.8528615110048093\n",
      "\n",
      " MSE Score: 1.3133132101854819\n",
      "\n",
      " RMSE SCore: 1.1459987828027924\n",
      "\n",
      " Scatter Plot \n",
      "\n"
     ]
    },
    {
     "data": {
      "image/png": "[encoded data removed]",
      "text/plain": [
       "<Figure size 432x288 with 1 Axes>"
      ]
     },
     "metadata": {
      "needs_background": "light"
     },
     "output_type": "display_data"
    }
   ],
   "source": [
    "ada.fit(x_train,y_train)\n",
    "score(ada, x_train,x_test,y_train,y_test,train = True)\n",
    "score(ada, x_train,x_test,y_train,y_test,train = False)"
   ]
  },
  {
   "cell_type": "markdown",
   "id": "5ccb37bb",
   "metadata": {},
   "source": [
    "**- Model Trainning For RandomForest Regressor.**"
   ]
  },
  {
   "cell_type": "code",
   "execution_count": 25,
   "id": "d351b25c",
   "metadata": {},
   "outputs": [
    {
     "name": "stdout",
     "output_type": "stream",
     "text": [
      "\n",
      " ----- Train Result ----- \n",
      "\n",
      "R2 Score: 0.9966238330188124\n",
      "\n",
      " ----- Test Result ----- \n",
      "\n",
      "R2 Score: 0.9712136357244863\n",
      "\n",
      " MAE Score: 0.6706799999999993\n",
      "\n",
      " MSE Score: 0.7140648799999971\n",
      "\n",
      " RMSE SCore: 0.8450235973036475\n",
      "\n",
      " Scatter Plot \n",
      "\n"
     ]
    },
    {
     "data": {
      "image/png": "[encoded data removed]",
      "text/plain": [
       "<Figure size 432x288 with 1 Axes>"
      ]
     },
     "metadata": {
      "needs_background": "light"
     },
     "output_type": "display_data"
    }
   ],
   "source": [
    "rf.fit(x_train,y_train)\n",
    "score(rf, x_train,x_test,y_train,y_test,train = True)\n",
    "score(rf, x_train,x_test,y_train,y_test,train = False)"
   ]
  },
  {
   "cell_type": "markdown",
   "id": "09100bee",
   "metadata": {},
   "source": [
    "**Among all the models, GradientBoostingRegressor() is giving the best result for our dataset.**"
   ]
  },
  {
   "cell_type": "markdown",
   "id": "5d96a5b3",
   "metadata": {},
   "source": [
    "## Hyperparameter Tuning"
   ]
  },
  {
   "cell_type": "code",
   "execution_count": 78,
   "id": "c90590ce",
   "metadata": {},
   "outputs": [
    {
     "data": {
      "text/plain": [
       "{'alpha': 0.9,\n",
       " 'ccp_alpha': 0.0,\n",
       " 'criterion': 'friedman_mse',\n",
       " 'init': None,\n",
       " 'learning_rate': 0.1,\n",
       " 'loss': 'ls',\n",
       " 'max_depth': 3,\n",
       " 'max_features': None,\n",
       " 'max_leaf_nodes': None,\n",
       " 'min_impurity_decrease': 0.0,\n",
       " 'min_impurity_split': None,\n",
       " 'min_samples_leaf': 1,\n",
       " 'min_samples_split': 2,\n",
       " 'min_weight_fraction_leaf': 0.0,\n",
       " 'n_estimators': 100,\n",
       " 'n_iter_no_change': None,\n",
       " 'random_state': None,\n",
       " 'subsample': 1.0,\n",
       " 'tol': 0.0001,\n",
       " 'validation_fraction': 0.1,\n",
       " 'verbose': 0,\n",
       " 'warm_start': False}"
      ]
     },
     "execution_count": 78,
     "metadata": {},
     "output_type": "execute_result"
    }
   ],
   "source": [
    "gbr.get_params()"
   ]
  },
  {
   "cell_type": "code",
   "execution_count": 79,
   "id": "3a0bf143",
   "metadata": {},
   "outputs": [],
   "source": [
    "params = {'n_estimators' : [10,30,60,90],\n",
    "          'criterion':['friedman_mse', 'mse', 'mae'],\n",
    "          'learning_rate': [0.1,0.5,0.9],\n",
    "          'max_features':range(2,20,2),\n",
    "          'max_leaf_nodes':range(2,6),\n",
    "          'random_state': range(1,100,2)}"
   ]
  },
  {
   "cell_type": "code",
   "execution_count": 82,
   "id": "0be4f3bf",
   "metadata": {},
   "outputs": [
    {
     "name": "stdout",
     "output_type": "stream",
     "text": [
      "Best Params =  {'criterion': 'mae', 'learning_rate': 0.1, 'max_features': 2, 'max_leaf_nodes': 4, 'n_estimators': 90, 'random_state': 95}\n"
     ]
    }
   ],
   "source": [
    "grid = GridSearchCV(gbr, param_grid = params)\n",
    "grid.fit(x_train,y_train)\n",
    "print('Best Params = ',grid.best_params_)"
   ]
  },
  {
   "cell_type": "code",
   "execution_count": 27,
   "id": "bf6026ae",
   "metadata": {},
   "outputs": [],
   "source": [
    "gbr_h = GradientBoostingRegressor(criterion = 'mae', learning_rate = 0.1, max_features = 2, max_leaf_nodes = 4, n_estimators = 90, random_state = 95)"
   ]
  },
  {
   "cell_type": "code",
   "execution_count": 28,
   "id": "812a57a7",
   "metadata": {},
   "outputs": [
    {
     "name": "stdout",
     "output_type": "stream",
     "text": [
      "\n",
      " ----- Train Result ----- \n",
      "\n",
      "R2 Score: 0.9967972946616347\n",
      "\n",
      " ----- Test Result ----- \n",
      "\n",
      "R2 Score: 0.9767709986596423\n",
      "\n",
      " MAE Score: 0.580428147779515\n",
      "\n",
      " MSE Score: 0.5762108023044616\n",
      "\n",
      " RMSE SCore: 0.7590855039483112\n",
      "\n",
      " Scatter Plot \n",
      "\n"
     ]
    },
    {
     "data": {
      "image/png": "[encoded data removed]",
      "text/plain": [
       "<Figure size 432x288 with 1 Axes>"
      ]
     },
     "metadata": {
      "needs_background": "light"
     },
     "output_type": "display_data"
    }
   ],
   "source": [
    "gbr_h.fit(x_train,y_train)\n",
    "score(gbr_h, x_train,x_test,y_train,y_test,train = True)\n",
    "score(gbr_h, x_train,x_test,y_train,y_test,train = False)"
   ]
  },
  {
   "cell_type": "markdown",
   "id": "1e83e4b3",
   "metadata": {},
   "source": [
    "There is not much difference after tuning."
   ]
  },
  {
   "cell_type": "markdown",
   "id": "45204b85",
   "metadata": {},
   "source": [
    "**- Saving the Model.**"
   ]
  },
  {
   "cell_type": "code",
   "execution_count": 33,
   "id": "727fb702",
   "metadata": {},
   "outputs": [],
   "source": [
    "filename = 'Sales.ipynb'\n",
    "pickle.dump(GradientBoostingRegressor(), open(filename, 'wb'))"
   ]
  }
 ],
 "metadata": {
  "kernelspec": {
   "display_name": "Python 3 (ipykernel)",
   "language": "python",
   "name": "python3"
  },
  "language_info": {
   "codemirror_mode": {
    "name": "ipython",
    "version": 3
   },
   "file_extension": ".py",
   "mimetype": "text/x-python",
   "name": "python",
   "nbconvert_exporter": "python",
   "pygments_lexer": "ipython3",
   "version": "3.9.7"
  }
 },
 "nbformat": 4,
 "nbformat_minor": 5
}
